{
  "nbformat": 4,
  "nbformat_minor": 0,
  "metadata": {
    "colab": {
      "name": "Kaggle_project_MigueldeLlanza_234717.ipynb",
      "provenance": [],
      "collapsed_sections": []
    },
    "kernelspec": {
      "display_name": "Python 3",
      "language": "python",
      "name": "python3"
    },
    "language_info": {
      "codemirror_mode": {
        "name": "ipython",
        "version": 3
      },
      "file_extension": ".py",
      "mimetype": "text/x-python",
      "name": "python",
      "nbconvert_exporter": "python",
      "pygments_lexer": "ipython3",
      "version": "3.6.7"
    },
    "accelerator": "GPU"
  },
  "cells": [
    {
      "cell_type": "code",
      "metadata": {
        "colab": {
          "base_uri": "https://localhost:8080/"
        },
        "id": "6UV9brEEfqs6",
        "outputId": "4d4bd633-01e9-4d1a-e773-5f1c46e17cc5"
      },
      "source": [
        "import sys, os\n",
        "from google.colab import drive\n",
        "drive.mount('/content/drive')"
      ],
      "execution_count": 1,
      "outputs": [
        {
          "output_type": "stream",
          "text": [
            "Mounted at /content/drive\n"
          ],
          "name": "stdout"
        }
      ]
    },
    {
      "cell_type": "code",
      "metadata": {
        "id": "uX_B6OhR_gz5"
      },
      "source": [
        "import torch\n",
        "import torch.nn as nn\n",
        "from torch import optim\n",
        "from collections import OrderedDict\n",
        "import torchvision\n",
        "import torchvision.transforms as transforms\n",
        "from torch.utils.data import DataLoader, TensorDataset, random_split\n",
        "import torch.utils.data as data_utils\n",
        "from torch.utils.data.sampler import SubsetRandomSampler\n",
        "import torch.nn.functional as F\n",
        "\n",
        "from sklearn.metrics import accuracy_score, precision_score, recall_score, f1_score\n",
        "from sklearn.model_selection import train_test_split\n",
        "from sklearn.preprocessing import StandardScaler\n",
        "from sklearn.impute import SimpleImputer\n",
        "\n",
        "import numpy as np\n",
        "import pandas as pd\n",
        "import csv\n",
        "import matplotlib.pyplot as plt"
      ],
      "execution_count": 2,
      "outputs": []
    },
    {
      "cell_type": "markdown",
      "metadata": {
        "id": "N_dc5X-RgEoP"
      },
      "source": [
        "Get files path and load data the data for visualization"
      ]
    },
    {
      "cell_type": "code",
      "metadata": {
        "id": "UQ7ihVf9gDma"
      },
      "source": [
        "training_path = \"/content/drive/My Drive/Sussex AI/Spring Semester/Machine Learning/Kaggle Competition/training.csv\"\n",
        "additional_training_path = \"/content/drive/My Drive/Sussex AI/Spring Semester/Machine Learning/Kaggle Competition/additional_training.csv\"\n",
        "testing_path = \"/content/drive/My Drive/Sussex AI/Spring Semester/Machine Learning/Kaggle Competition/testing.csv\""
      ],
      "execution_count": 3,
      "outputs": []
    },
    {
      "cell_type": "code",
      "metadata": {
        "id": "N5KfUY3bf9c8",
        "scrolled": true
      },
      "source": [
        "training_data = pd.read_csv(training_path)\n",
        "testing_data = pd.read_csv(testing_path)\n",
        "additional_training_data = pd.read_csv(additional_training_path)"
      ],
      "execution_count": 4,
      "outputs": []
    },
    {
      "cell_type": "markdown",
      "metadata": {
        "id": "NTCWFSAd_aU8"
      },
      "source": [
        "# Feature pre-processing and dataset creation"
      ]
    },
    {
      "cell_type": "code",
      "metadata": {
        "id": "nwQRSjo2POQN"
      },
      "source": [
        "def get_split_tensors(add=False, method='mean', ts=0.25):\n",
        "    \n",
        "    # Read the csv files containing the training and test data\n",
        "    training_data = pd.read_csv(training_path)\n",
        "    testing_data = pd.read_csv(testing_path)\n",
        "    \n",
        "    # If the additional training is selected to be added\n",
        "    if add:\n",
        "        # Read the csv file containing the additional training datat \n",
        "        additional_training_data = pd.read_csv(additional_training_path)\n",
        "        # Append the additional training \n",
        "        training_data = training_data.append(additional_training_data).reset_index(drop=True)\n",
        "        # Shuffle the training data\n",
        "        training_data = training_data.sample(frac=1).reset_index(drop=True)\n",
        "        # Get all the features from the training data: don't select the id\n",
        "        # column nor the predictions column\n",
        "        features_training = training_data.iloc[:,1:-1]\n",
        "\n",
        "        # Check which imputation method has been chosen\n",
        "        if method == 'mean':    \n",
        "            \n",
        "            # Get prediction values\n",
        "            targets_training = training_data['prediction'].values\n",
        "            # Exapnd dimension of predicted values to match with the dimension \n",
        "            # of the predictions of the neural network    \n",
        "            targets_training = np.expand_dims(targets_training, axis=-1)   \n",
        "\n",
        "            # Apply simple imputator (mean in this case)\n",
        "            imp = SimpleImputer(missing_values=np.nan, strategy='mean')\n",
        "            features_training = imp.fit_transform(features_training)            \n",
        "\n",
        "        # Same procedure as in the previous condition     \n",
        "        elif method == 'median':\n",
        "            targets_training = training_data['prediction'].values    \n",
        "            targets_training = np.expand_dims(targets_training, axis=-1)   \n",
        "                                   \n",
        "            imp = SimpleImputer(missing_values=np.nan, strategy='median')\n",
        "            features_training = imp.fit_transform(features_training)\n",
        "\n",
        "        # Again, same procedure as in the first condition \n",
        "        elif method == 'most freq':\n",
        "            targets_training = training_data['prediction'].values    \n",
        "            targets_training = np.expand_dims(targets_training, axis=-1)\n",
        "\n",
        "            imp = SimpleImputer(missing_values=np.nan, strategy=\"most_frequent\")\n",
        "            features_training = imp.fit_transform(features_training)\n",
        "\n",
        "    # If not additional training data is considered    \n",
        "    else:\n",
        "        # Get features of training data\n",
        "        features_training = training_data.iloc[:,1:-1].values\n",
        "        # Get predictions of training data\n",
        "        targets_training = training_data['prediction'].values\n",
        "        # Again, expand dimension of target values\n",
        "        targets_training = np.expand_dims(targets_training, axis=-1)\n",
        "\n",
        "    # Split data set into training and validation\n",
        "    X_train, X_val, y_train, y_val = train_test_split(features_training, targets_training, test_size=ts, random_state=1)\n",
        "    \n",
        "    # Apply standarization to training, validation, and test set using sklearn\n",
        "    scaler = StandardScaler()\n",
        "    X_train = scaler.fit_transform(X_train) \n",
        "    X_val = scaler.transform(X_val) \n",
        "    \n",
        "    # Transform numpy arrays into torch tensors (for both train and validation)\n",
        "    features_train = torch.from_numpy(X_train).type(torch.float)\n",
        "    targets_train = torch.from_numpy(y_train).type(torch.float) \n",
        "    \n",
        "    features_valid = torch.from_numpy(X_val).type(torch.float)\n",
        "    targets_valid = torch.from_numpy(y_val).type(torch.float) \n",
        "\n",
        "    # Get features of testing data and standarize the data\n",
        "    test_array = testing_data.iloc[:,1:].values\n",
        "    X_test = scaler.transform(test_array)\n",
        "    \n",
        "    # Test data to torch tensor\n",
        "    test = torch.from_numpy(X_test).type(torch.float) \n",
        "    \n",
        "    # Create a tensor dataset for training and validation\n",
        "    train = data_utils.TensorDataset(features_train, targets_train)\n",
        "    validation = data_utils.TensorDataset(features_valid, targets_valid)\n",
        "        \n",
        "    return train, validation, test"
      ],
      "execution_count": 5,
      "outputs": []
    },
    {
      "cell_type": "markdown",
      "metadata": {
        "id": "MY_at2Z88WXg"
      },
      "source": [
        "# Artificial Neural Network with Pytorch"
      ]
    },
    {
      "cell_type": "code",
      "metadata": {
        "id": "kfwKrETlPOQV"
      },
      "source": [
        "class Neural_Network(nn.Module):\n",
        "    def __init__(self, X, neurons_hidden1, neurons_hidden2, prob1, prob2,\n",
        "                 two_layers=False):\n",
        "        super(Neural_Network, self).__init__()\n",
        "\n",
        "        # In both conditions the NN architecture is implemented using the\n",
        "        # sequential container from Pytorch that contains the fully conected \n",
        "        # linear layers, the activation functions (sigmoid), the batch \n",
        "        # normalization, and the dropout\n",
        "\n",
        "        # If a NN with 2 hidden layers is selected\n",
        "        if two_layers:\n",
        "          self.model = nn.Sequential(\n",
        "                                      nn.Linear(X.shape[1], neurons_hidden1),\n",
        "                                      nn.BatchNorm1d(neurons_hidden1),\n",
        "                                      nn.Sigmoid(),\n",
        "                                      nn.Dropout(p=prob1),\n",
        "                                      nn.Linear(neurons_hidden1, neurons_hidden2),\n",
        "                                      nn.BatchNorm1d(neurons_hidden2),\n",
        "                                      nn.Sigmoid(),\n",
        "                                      nn.Dropout(p=prob2),\n",
        "                                      nn.Linear(neurons_hidden2, 1),\n",
        "                                      nn.Sigmoid()\n",
        "                                    )\n",
        "\n",
        "        else:\n",
        "          self.model = nn.Sequential(\n",
        "                                      nn.Linear(X.shape[1], neurons_hidden1),\n",
        "                                      nn.BatchNorm1d(neurons_hidden1),\n",
        "                                      nn.Sigmoid(),\n",
        "                                      nn.Dropout(p=prob1),\n",
        "                                      nn.Linear(neurons_hidden1, 1),\n",
        "                                      nn.Sigmoid()\n",
        "                                    )\n",
        "    \n",
        "\n",
        "    def train(self, train, validation, bs, optimizer, scheduler, criterion, epochs, i):\n",
        "\n",
        "        # Load train and validation tensor datasets\n",
        "        train_loader = data_utils.DataLoader(train, batch_size=bs, shuffle=True)\n",
        "        validation_loader = data_utils.DataLoader(validation, batch_size=bs, shuffle=True)\n",
        "\n",
        "        # Lists to store the results for train and validation\n",
        "        train_accuracies = []\n",
        "        train_losses = []\n",
        "        valid_accuracies = []\n",
        "        valid_losses = []\n",
        "\n",
        "        # Add 1 to print result of last epoch\n",
        "        epochs += 1\n",
        "\n",
        "        for e in range(epochs):\n",
        "            # Set values to 0 so that they are reset after each epoch\n",
        "            train_loss = 0\n",
        "            total_train = correct_train = 0\n",
        "            # Get each batch from the training data\n",
        "            for data, labels in train_loader:\n",
        "                # Transfer Data to GPU if available\n",
        "                if torch.cuda.is_available():\n",
        "                    train_data, train_labels = data.cuda(), labels.cuda()\n",
        "                else:\n",
        "                    train_data, train_labels = data, labels\n",
        "                  \n",
        "                # Clear the gradients\n",
        "                optimizer.zero_grad()\n",
        "                # Model to GPU\n",
        "                self.model.to('cuda:0')\n",
        "                # Forward Pass\n",
        "                output = self.model(train_data)\n",
        "                # Get the Loss\n",
        "                loss = criterion(output,train_labels)\n",
        "                # Calculate gradients \n",
        "                loss.backward()\n",
        "                # Update Weights\n",
        "                optimizer.step()\n",
        "                # Calculate Loss\n",
        "                train_loss += loss.item() * train_data.size(0)\n",
        "\n",
        "                total_train += train_labels.size(0)\n",
        "                # Apply threshold to convert predictions to binary data\n",
        "                torch.where(output > 0.5, 1, 0)\n",
        "                # Compute number of correct predictions\n",
        "                correct_train += (torch.where(output > 0.5, 1, 0) == train_labels).sum().item()\n",
        "\n",
        "            # Calculate train accuracy and loss\n",
        "            accuracy_train = round(100 * correct_train / total_train, 3)\n",
        "            training_loss = round(train_loss / len(train_loader), 3)\n",
        "\n",
        "            # Again, set values to 0 so that they are reset after each epoch\n",
        "            valid_loss = correct_valid = 0\n",
        "            total_valid = 0\n",
        "            # Set model to evaluation mode\n",
        "            self.model.eval()\n",
        "            # Skip gradient calculation for the validation set: computationally\n",
        "            # more eficient\n",
        "            with torch.no_grad():  \n",
        "              # Get each batch from the validation data\n",
        "              for data, labels in validation_loader:\n",
        "                  # Transfer Data to GPU if available\n",
        "                  if torch.cuda.is_available():\n",
        "                      valid_data, valid_labels = data.cuda(), labels.cuda()\n",
        "                  else:\n",
        "                      valid_data, valid_labels = data, labels\n",
        "\n",
        "                  # Forward Pass\n",
        "                  output = self.model(valid_data)\n",
        "                  # Get the Loss\n",
        "                  loss = criterion(output,valid_labels)\n",
        "                  # Adaptive learning rate\n",
        "                  scheduler.step(loss)\n",
        "                  # Calculate Loss\n",
        "                  valid_loss += loss.item() * valid_data.size(0)\n",
        "\n",
        "                  total_valid += valid_labels.size(0)\n",
        "                  # Get corerct predictions of current batch\n",
        "                  correct_valid += (torch.where(output > 0.5, 1, 0) == valid_labels).sum().item()\n",
        "\n",
        "            # Compute validation accuracy and loss for the current epoch\n",
        "            validation_accuracy = round(100 * correct_valid / total_valid, 3)\n",
        "            validation_loss = round(valid_loss / len(validation_loader), 3)\n",
        "\n",
        "            # Print some performance data every 'i' epochs\n",
        "            if e%i == 0:\n",
        "                \n",
        "                print('Epoch:', e, ' | Training Loss:', training_loss, \n",
        "                      '| Training Accuracy:', accuracy_train,\n",
        "                      '| Validation Loss:', validation_loss,\n",
        "                      '| Validation Accuracy:', validation_accuracy)\n",
        "\n",
        "            # Append results of training and validation\n",
        "            train_accuracies.append(accuracy_train)\n",
        "            train_losses.append(training_loss)\n",
        "            valid_accuracies.append(validation_accuracy)\n",
        "            valid_losses.append(validation_loss)\n",
        "\n",
        "        # Plot data\n",
        "        plt.plot(list(range(epochs)), train_accuracies)\n",
        "        plt.plot(list(range(epochs)), valid_accuracies)\n",
        "        plt.legend(['train accuracy', 'valid accuracy'])\n",
        "        plt.show()\n",
        "        plt.plot(list(range(epochs)), train_losses)\n",
        "        plt.plot(list(range(epochs)), valid_losses)\n",
        "        plt.legend(['train loss', 'Valid loss'])\n",
        "        plt.show()\n",
        "\n",
        "        return train_accuracies, train_losses, valid_accuracies, valid_losses\n",
        "\n",
        "    def predict(self, X):\n",
        "        # Compute the predictions by making a forward pass\n",
        "        predictions = self.model(X)\n",
        "\n",
        "        return predictions"
      ],
      "execution_count": 6,
      "outputs": []
    },
    {
      "cell_type": "code",
      "metadata": {
        "id": "m3n7_nrhCQnU"
      },
      "source": [
        "# Get training and validation sets\n",
        "train, validation, test = get_split_tensors(add=True, method='median', ts=0.2)"
      ],
      "execution_count": 7,
      "outputs": []
    },
    {
      "cell_type": "markdown",
      "metadata": {
        "id": "xhZyrI8Hv-XN"
      },
      "source": [
        "Hyperparameter tuning: test performance using different combination of parameters"
      ]
    },
    {
      "cell_type": "code",
      "metadata": {
        "id": "t6oZg_n0POQa"
      },
      "source": [
        "lr = 1e-4\n",
        "wd = 0.01\n",
        "dropout1, dropout2 = 0.5, 0.2\n",
        "neurons1, neurons2 = 512, 256\n",
        "bs = 64\n",
        "\n",
        "total_results = []\n",
        "\n",
        "lrs = np.arange(1e-5, 2e-4, 2.5e-5)\n",
        "weight_decays = [0.1, 0.01, 0.001]\n",
        "neurons = [256, 512, 1024]\n",
        "dropouts = [0.25, 0.5, 0.75]\n",
        "for lr in lrs:\n",
        "  for wd in weight_decays:\n",
        "    for neurons1 in neurons:\n",
        "      for dropout1 in dropouts:\n",
        "\n",
        "        model = Neural_Network(training_data.iloc[:,1:-1].values, neurons1, \n",
        "                               neurons2, dropout1, dropout2, two_layers=False)\n",
        "\n",
        "        optimizer = optim.AdamW(model.parameters(), lr=lr, weight_decay=wd)\n",
        "        scheduler = optim.lr_scheduler.ReduceLROnPlateau(optimizer)\n",
        "        criterion = nn.BCELoss()\n",
        "\n",
        "        print('LR =', lr, '| Weight decay =', wd, '| Dropout =', dropout1,\n",
        "            '| Layer 1 =', neurons1, '| Layer 2 =', neurons2, '| Batch size =', bs)\n",
        "        print()\n",
        "\n",
        "        epochs = 200\n",
        "\n",
        "        trained_model, train_acc, train_losses, valid_acc, valid_losses = model.train(train, validation,\n",
        "                                                                      bs, optimizer, \n",
        "                                                                      scheduler, \n",
        "                                                                      criterion, \n",
        "                                                                      epochs, 50)\n",
        "\n",
        "        total_results.append((trained_model, lr, wd, dropout1, neurons1, bs, min(train_losses),\n",
        "                        max(train_acc), min(valid_losses), max(valid_acc)))"
      ],
      "execution_count": null,
      "outputs": []
    },
    {
      "cell_type": "markdown",
      "metadata": {
        "id": "jcHPxj0KwFLu"
      },
      "source": [
        "Observe the best models using Pandas Dataframe"
      ]
    },
    {
      "cell_type": "code",
      "metadata": {
        "colab": {
          "base_uri": "https://localhost:8080/",
          "height": 343
        },
        "id": "fwNB0cDhnXkH",
        "outputId": "8ff6ca05-47cf-4055-fa3d-f7b9896d552b"
      },
      "source": [
        "cols = ['Learning rate', 'Weight decay', 'Dropout', 'Neurons hidden',\n",
        "        'Batch size', 'Train loss', 'Train accuracy', 'Val loss', 'Val accuracy']\n",
        "\n",
        "df = pd.DataFrame(total_results, columns=cols)\n",
        "df.sort_values(by=['Val loss'], ascending=True)[:10]"
      ],
      "execution_count": null,
      "outputs": [
        {
          "output_type": "execute_result",
          "data": {
            "text/html": [
              "<div>\n",
              "<style scoped>\n",
              "    .dataframe tbody tr th:only-of-type {\n",
              "        vertical-align: middle;\n",
              "    }\n",
              "\n",
              "    .dataframe tbody tr th {\n",
              "        vertical-align: top;\n",
              "    }\n",
              "\n",
              "    .dataframe thead th {\n",
              "        text-align: right;\n",
              "    }\n",
              "</style>\n",
              "<table border=\"1\" class=\"dataframe\">\n",
              "  <thead>\n",
              "    <tr style=\"text-align: right;\">\n",
              "      <th></th>\n",
              "      <th>Learning rate</th>\n",
              "      <th>Weight decay</th>\n",
              "      <th>Dropout</th>\n",
              "      <th>Neurons hidden</th>\n",
              "      <th>Batch size</th>\n",
              "      <th>Train loss</th>\n",
              "      <th>Train accuracy</th>\n",
              "      <th>Val loss</th>\n",
              "      <th>Val accuracy</th>\n",
              "    </tr>\n",
              "  </thead>\n",
              "  <tbody>\n",
              "    <tr>\n",
              "      <th>69</th>\n",
              "      <td>0.000060</td>\n",
              "      <td>0.010</td>\n",
              "      <td>0.25</td>\n",
              "      <td>1024</td>\n",
              "      <td>64</td>\n",
              "      <td>31.287</td>\n",
              "      <td>77.609</td>\n",
              "      <td>32.583</td>\n",
              "      <td>76.636</td>\n",
              "    </tr>\n",
              "    <tr>\n",
              "      <th>85</th>\n",
              "      <td>0.000085</td>\n",
              "      <td>0.100</td>\n",
              "      <td>0.50</td>\n",
              "      <td>512</td>\n",
              "      <td>64</td>\n",
              "      <td>30.499</td>\n",
              "      <td>78.675</td>\n",
              "      <td>32.596</td>\n",
              "      <td>75.951</td>\n",
              "    </tr>\n",
              "    <tr>\n",
              "      <th>98</th>\n",
              "      <td>0.000085</td>\n",
              "      <td>0.010</td>\n",
              "      <td>0.75</td>\n",
              "      <td>1024</td>\n",
              "      <td>64</td>\n",
              "      <td>31.951</td>\n",
              "      <td>77.113</td>\n",
              "      <td>32.600</td>\n",
              "      <td>76.712</td>\n",
              "    </tr>\n",
              "    <tr>\n",
              "      <th>127</th>\n",
              "      <td>0.000110</td>\n",
              "      <td>0.001</td>\n",
              "      <td>0.50</td>\n",
              "      <td>256</td>\n",
              "      <td>64</td>\n",
              "      <td>31.256</td>\n",
              "      <td>77.723</td>\n",
              "      <td>32.629</td>\n",
              "      <td>76.104</td>\n",
              "    </tr>\n",
              "    <tr>\n",
              "      <th>89</th>\n",
              "      <td>0.000085</td>\n",
              "      <td>0.100</td>\n",
              "      <td>0.75</td>\n",
              "      <td>1024</td>\n",
              "      <td>64</td>\n",
              "      <td>31.966</td>\n",
              "      <td>77.304</td>\n",
              "      <td>32.630</td>\n",
              "      <td>76.636</td>\n",
              "    </tr>\n",
              "    <tr>\n",
              "      <th>70</th>\n",
              "      <td>0.000060</td>\n",
              "      <td>0.010</td>\n",
              "      <td>0.50</td>\n",
              "      <td>1024</td>\n",
              "      <td>64</td>\n",
              "      <td>30.379</td>\n",
              "      <td>78.085</td>\n",
              "      <td>32.630</td>\n",
              "      <td>75.951</td>\n",
              "    </tr>\n",
              "    <tr>\n",
              "      <th>109</th>\n",
              "      <td>0.000110</td>\n",
              "      <td>0.100</td>\n",
              "      <td>0.50</td>\n",
              "      <td>256</td>\n",
              "      <td>64</td>\n",
              "      <td>32.392</td>\n",
              "      <td>76.847</td>\n",
              "      <td>32.632</td>\n",
              "      <td>76.180</td>\n",
              "    </tr>\n",
              "    <tr>\n",
              "      <th>130</th>\n",
              "      <td>0.000110</td>\n",
              "      <td>0.001</td>\n",
              "      <td>0.50</td>\n",
              "      <td>512</td>\n",
              "      <td>64</td>\n",
              "      <td>31.532</td>\n",
              "      <td>77.475</td>\n",
              "      <td>32.642</td>\n",
              "      <td>76.104</td>\n",
              "    </tr>\n",
              "    <tr>\n",
              "      <th>106</th>\n",
              "      <td>0.000085</td>\n",
              "      <td>0.001</td>\n",
              "      <td>0.50</td>\n",
              "      <td>1024</td>\n",
              "      <td>64</td>\n",
              "      <td>31.195</td>\n",
              "      <td>77.799</td>\n",
              "      <td>32.647</td>\n",
              "      <td>76.027</td>\n",
              "    </tr>\n",
              "    <tr>\n",
              "      <th>77</th>\n",
              "      <td>0.000060</td>\n",
              "      <td>0.001</td>\n",
              "      <td>0.75</td>\n",
              "      <td>512</td>\n",
              "      <td>64</td>\n",
              "      <td>31.808</td>\n",
              "      <td>77.285</td>\n",
              "      <td>32.655</td>\n",
              "      <td>75.951</td>\n",
              "    </tr>\n",
              "  </tbody>\n",
              "</table>\n",
              "</div>"
            ],
            "text/plain": [
              "     Learning rate  Weight decay  ...  Val loss  Val accuracy\n",
              "69        0.000060         0.010  ...    32.583        76.636\n",
              "85        0.000085         0.100  ...    32.596        75.951\n",
              "98        0.000085         0.010  ...    32.600        76.712\n",
              "127       0.000110         0.001  ...    32.629        76.104\n",
              "89        0.000085         0.100  ...    32.630        76.636\n",
              "70        0.000060         0.010  ...    32.630        75.951\n",
              "109       0.000110         0.100  ...    32.632        76.180\n",
              "130       0.000110         0.001  ...    32.642        76.104\n",
              "106       0.000085         0.001  ...    32.647        76.027\n",
              "77        0.000060         0.001  ...    32.655        75.951\n",
              "\n",
              "[10 rows x 9 columns]"
            ]
          },
          "metadata": {
            "tags": []
          },
          "execution_count": 65
        }
      ]
    },
    {
      "cell_type": "markdown",
      "metadata": {
        "id": "JPTojIVnNkqb"
      },
      "source": [
        "Compare best hyperparameters using different imputation methods"
      ]
    },
    {
      "cell_type": "code",
      "metadata": {
        "colab": {
          "base_uri": "https://localhost:8080/",
          "height": 1000
        },
        "id": "MaZLrIAJNeCx",
        "outputId": "a8aac5a8-980f-4766-91c8-5dc73c7d64c5"
      },
      "source": [
        "imputations = ['mean', 'median', 'most freq']\n",
        "total_best_results = []\n",
        "best_models = []\n",
        "# Get best 5 models\n",
        "best_hyper = df.sort_values(by=['Val loss']).values[:5]\n",
        "\n",
        "for mod, lr, wd, dropout1, neurons1, bs, tr_l, tr_ac, val_l, val_ac in best_hyper:\n",
        "  for imp in imputations:\n",
        "\n",
        "    print('Imputer =', imp, '| LR =', lr, '| Weight decay =', wd, '| Dropout =', dropout1,\n",
        "        '| Layer 1 =', neurons1, '| Layer 2 =', neurons2, '| Batch size =', bs)\n",
        "    print()\n",
        "    \n",
        "    # Get training and validation sets\n",
        "    train, validation, test = get_split_tensors(add=True, method=imp, ts=0.2)\n",
        "\n",
        "    model = Neural_Network(training_data.iloc[:,1:-1].values, int(neurons1), \n",
        "                            neurons2, dropout1, dropout2, two_layers=False)\n",
        "\n",
        "    optimizer = optim.AdamW(model.parameters(), lr=lr, weight_decay=wd)\n",
        "    scheduler = optim.lr_scheduler.ReduceLROnPlateau(optimizer)\n",
        "    criterion = nn.BCELoss()\n",
        "\n",
        "    epochs = 200\n",
        "\n",
        "    train_acc, train_losses, valid_acc, valid_losses = model.train(train, validation,\n",
        "                                                                  int(bs), optimizer, \n",
        "                                                                  scheduler, \n",
        "                                                                  criterion, \n",
        "                                                                  epochs, 50)\n",
        "\n",
        "    total_best_results.append((trained_model, imp, lr, wd, dropout1, neurons1, bs, min(train_losses),\n",
        "                    max(train_acc), min(valid_losses), max(valid_acc)))\n",
        "    best_models.append(model)"
      ],
      "execution_count": null,
      "outputs": [
        {
          "output_type": "stream",
          "text": [
            "Imputer = mean | LR = 6.000000000000001e-05 | Weight decay = 0.01 | Dropout = 0.25 | Layer 1 = 1024.0 | Layer 2 = 256 | Batch size = 64.0\n",
            "\n",
            "Epoch: 0  | Training Loss: 35.636 | Training Accuracy: 73.572 | Validation Loss: 33.173 | Validation Accuracy: 75.495\n",
            "Epoch: 50  | Training Loss: 29.674 | Training Accuracy: 78.808 | Validation Loss: 33.169 | Validation Accuracy: 74.734\n",
            "Epoch: 100  | Training Loss: 29.661 | Training Accuracy: 78.808 | Validation Loss: 33.168 | Validation Accuracy: 74.886\n",
            "Epoch: 150  | Training Loss: 29.648 | Training Accuracy: 78.846 | Validation Loss: 33.168 | Validation Accuracy: 75.038\n",
            "Epoch: 200  | Training Loss: 29.635 | Training Accuracy: 78.846 | Validation Loss: 33.167 | Validation Accuracy: 75.038\n"
          ],
          "name": "stdout"
        },
        {
          "output_type": "display_data",
          "data": {
            "image/png": "[encoded data removed]",
            "text/plain": [
              "<Figure size 432x288 with 1 Axes>"
            ]
          },
          "metadata": {
            "tags": [],
            "needs_background": "light"
          }
        },
        {
          "output_type": "display_data",
          "data": {
            "image/png": "[encoded data removed]",
            "text/plain": [
              "<Figure size 432x288 with 1 Axes>"
            ]
          },
          "metadata": {
            "tags": [],
            "needs_background": "light"
          }
        },
        {
          "output_type": "stream",
          "text": [
            "Imputer = median | LR = 6.000000000000001e-05 | Weight decay = 0.01 | Dropout = 0.25 | Layer 1 = 1024.0 | Layer 2 = 256 | Batch size = 64.0\n",
            "\n",
            "Epoch: 0  | Training Loss: 35.371 | Training Accuracy: 72.925 | Validation Loss: 32.308 | Validation Accuracy: 76.941\n",
            "Epoch: 50  | Training Loss: 31.675 | Training Accuracy: 77.304 | Validation Loss: 32.049 | Validation Accuracy: 77.017\n",
            "Epoch: 100  | Training Loss: 31.659 | Training Accuracy: 77.323 | Validation Loss: 32.045 | Validation Accuracy: 76.941\n",
            "Epoch: 150  | Training Loss: 31.644 | Training Accuracy: 77.304 | Validation Loss: 32.041 | Validation Accuracy: 76.941\n",
            "Epoch: 200  | Training Loss: 31.629 | Training Accuracy: 77.323 | Validation Loss: 32.037 | Validation Accuracy: 77.017\n"
          ],
          "name": "stdout"
        },
        {
          "output_type": "display_data",
          "data": {
            "image/png": "[encoded data removed]",
            "text/plain": [
              "<Figure size 432x288 with 1 Axes>"
            ]
          },
          "metadata": {
            "tags": [],
            "needs_background": "light"
          }
        },
        {
          "output_type": "display_data",
          "data": {
            "image/png": "[encoded data removed]",
            "text/plain": [
              "<Figure size 432x288 with 1 Axes>"
            ]
          },
          "metadata": {
            "tags": [],
            "needs_background": "light"
          }
        },
        {
          "output_type": "stream",
          "text": [
            "Imputer = most freq | LR = 6.000000000000001e-05 | Weight decay = 0.01 | Dropout = 0.25 | Layer 1 = 1024.0 | Layer 2 = 256 | Batch size = 64.0\n",
            "\n",
            "Epoch: 0  | Training Loss: 34.761 | Training Accuracy: 73.781 | Validation Loss: 34.012 | Validation Accuracy: 75.19\n",
            "Epoch: 50  | Training Loss: 31.016 | Training Accuracy: 78.142 | Validation Loss: 33.934 | Validation Accuracy: 75.266\n",
            "Epoch: 100  | Training Loss: 31.001 | Training Accuracy: 78.161 | Validation Loss: 33.931 | Validation Accuracy: 75.266\n",
            "Epoch: 150  | Training Loss: 30.987 | Training Accuracy: 78.161 | Validation Loss: 33.929 | Validation Accuracy: 75.342\n",
            "Epoch: 200  | Training Loss: 30.973 | Training Accuracy: 78.161 | Validation Loss: 33.926 | Validation Accuracy: 75.342\n"
          ],
          "name": "stdout"
        },
        {
          "output_type": "display_data",
          "data": {
            "image/png": "[encoded data removed]",
            "text/plain": [
              "<Figure size 432x288 with 1 Axes>"
            ]
          },
          "metadata": {
            "tags": [],
            "needs_background": "light"
          }
        },
        {
          "output_type": "display_data",
          "data": {
            "image/png": "[encoded data removed]",
            "text/plain": [
              "<Figure size 432x288 with 1 Axes>"
            ]
          },
          "metadata": {
            "tags": [],
            "needs_background": "light"
          }
        },
        {
          "output_type": "stream",
          "text": [
            "Imputer = mean | LR = 8.5e-05 | Weight decay = 0.1 | Dropout = 0.5 | Layer 1 = 512.0 | Layer 2 = 256 | Batch size = 64.0\n",
            "\n",
            "Epoch: 0  | Training Loss: 35.774 | Training Accuracy: 72.677 | Validation Loss: 32.905 | Validation Accuracy: 76.636\n",
            "Epoch: 50  | Training Loss: 30.702 | Training Accuracy: 77.799 | Validation Loss: 32.667 | Validation Accuracy: 76.256\n",
            "Epoch: 100  | Training Loss: 30.691 | Training Accuracy: 77.818 | Validation Loss: 32.662 | Validation Accuracy: 76.256\n",
            "Epoch: 150  | Training Loss: 30.679 | Training Accuracy: 77.799 | Validation Loss: 32.657 | Validation Accuracy: 76.332\n",
            "Epoch: 200  | Training Loss: 30.668 | Training Accuracy: 77.799 | Validation Loss: 32.652 | Validation Accuracy: 76.332\n"
          ],
          "name": "stdout"
        },
        {
          "output_type": "display_data",
          "data": {
            "image/png": "[encoded data removed]",
            "text/plain": [
              "<Figure size 432x288 with 1 Axes>"
            ]
          },
          "metadata": {
            "tags": [],
            "needs_background": "light"
          }
        },
        {
          "output_type": "display_data",
          "data": {
            "image/png": "[encoded data removed]",
            "text/plain": [
              "<Figure size 432x288 with 1 Axes>"
            ]
          },
          "metadata": {
            "tags": [],
            "needs_background": "light"
          }
        },
        {
          "output_type": "stream",
          "text": [
            "Imputer = median | LR = 8.5e-05 | Weight decay = 0.1 | Dropout = 0.5 | Layer 1 = 512.0 | Layer 2 = 256 | Batch size = 64.0\n",
            "\n",
            "Epoch: 0  | Training Loss: 35.587 | Training Accuracy: 73.553 | Validation Loss: 34.043 | Validation Accuracy: 74.505\n",
            "Epoch: 50  | Training Loss: 30.297 | Training Accuracy: 78.637 | Validation Loss: 34.016 | Validation Accuracy: 74.277\n",
            "Epoch: 100  | Training Loss: 30.28 | Training Accuracy: 78.656 | Validation Loss: 34.009 | Validation Accuracy: 74.201\n",
            "Epoch: 150  | Training Loss: 30.263 | Training Accuracy: 78.656 | Validation Loss: 34.002 | Validation Accuracy: 74.125\n",
            "Epoch: 200  | Training Loss: 30.248 | Training Accuracy: 78.713 | Validation Loss: 33.997 | Validation Accuracy: 74.125\n"
          ],
          "name": "stdout"
        },
        {
          "output_type": "display_data",
          "data": {
            "image/png": "[encoded data removed]",
            "text/plain": [
              "<Figure size 432x288 with 1 Axes>"
            ]
          },
          "metadata": {
            "tags": [],
            "needs_background": "light"
          }
        },
        {
          "output_type": "display_data",
          "data": {
            "image/png": "[encoded data removed]",
            "text/plain": [
              "<Figure size 432x288 with 1 Axes>"
            ]
          },
          "metadata": {
            "tags": [],
            "needs_background": "light"
          }
        },
        {
          "output_type": "stream",
          "text": [
            "Imputer = most freq | LR = 8.5e-05 | Weight decay = 0.1 | Dropout = 0.5 | Layer 1 = 512.0 | Layer 2 = 256 | Batch size = 64.0\n",
            "\n",
            "Epoch: 0  | Training Loss: 36.063 | Training Accuracy: 72.734 | Validation Loss: 33.243 | Validation Accuracy: 76.484\n",
            "Epoch: 50  | Training Loss: 30.609 | Training Accuracy: 78.027 | Validation Loss: 33.042 | Validation Accuracy: 77.093\n",
            "Epoch: 100  | Training Loss: 30.593 | Training Accuracy: 78.085 | Validation Loss: 33.041 | Validation Accuracy: 77.169\n",
            "Epoch: 150  | Training Loss: 30.577 | Training Accuracy: 78.104 | Validation Loss: 33.04 | Validation Accuracy: 77.169\n",
            "Epoch: 200  | Training Loss: 30.561 | Training Accuracy: 78.085 | Validation Loss: 33.04 | Validation Accuracy: 77.093\n"
          ],
          "name": "stdout"
        },
        {
          "output_type": "display_data",
          "data": {
            "image/png": "[encoded data removed]",
            "text/plain": [
              "<Figure size 432x288 with 1 Axes>"
            ]
          },
          "metadata": {
            "tags": [],
            "needs_background": "light"
          }
        },
        {
          "output_type": "display_data",
          "data": {
            "image/png": "[encoded data removed]",
            "text/plain": [
              "<Figure size 432x288 with 1 Axes>"
            ]
          },
          "metadata": {
            "tags": [],
            "needs_background": "light"
          }
        },
        {
          "output_type": "stream",
          "text": [
            "Imputer = mean | LR = 8.5e-05 | Weight decay = 0.01 | Dropout = 0.75 | Layer 1 = 1024.0 | Layer 2 = 256 | Batch size = 64.0\n",
            "\n",
            "Epoch: 0  | Training Loss: 36.985 | Training Accuracy: 71.42 | Validation Loss: 35.535 | Validation Accuracy: 72.831\n",
            "Epoch: 50  | Training Loss: 31.424 | Training Accuracy: 77.513 | Validation Loss: 35.455 | Validation Accuracy: 72.679\n",
            "Epoch: 100  | Training Loss: 31.407 | Training Accuracy: 77.57 | Validation Loss: 35.453 | Validation Accuracy: 72.679\n",
            "Epoch: 150  | Training Loss: 31.389 | Training Accuracy: 77.609 | Validation Loss: 35.452 | Validation Accuracy: 72.679\n",
            "Epoch: 200  | Training Loss: 31.372 | Training Accuracy: 77.685 | Validation Loss: 35.45 | Validation Accuracy: 72.679\n"
          ],
          "name": "stdout"
        },
        {
          "output_type": "display_data",
          "data": {
            "image/png": "[encoded data removed]",
            "text/plain": [
              "<Figure size 432x288 with 1 Axes>"
            ]
          },
          "metadata": {
            "tags": [],
            "needs_background": "light"
          }
        },
        {
          "output_type": "display_data",
          "data": {
            "image/png": "[encoded data removed]",
            "text/plain": [
              "<Figure size 432x288 with 1 Axes>"
            ]
          },
          "metadata": {
            "tags": [],
            "needs_background": "light"
          }
        },
        {
          "output_type": "stream",
          "text": [
            "Imputer = median | LR = 8.5e-05 | Weight decay = 0.01 | Dropout = 0.75 | Layer 1 = 1024.0 | Layer 2 = 256 | Batch size = 64.0\n",
            "\n",
            "Epoch: 0  | Training Loss: 37.096 | Training Accuracy: 71.154 | Validation Loss: 31.29 | Validation Accuracy: 77.702\n",
            "Epoch: 50  | Training Loss: 30.702 | Training Accuracy: 78.008 | Validation Loss: 31.105 | Validation Accuracy: 77.397\n",
            "Epoch: 100  | Training Loss: 30.682 | Training Accuracy: 77.97 | Validation Loss: 31.102 | Validation Accuracy: 77.397\n",
            "Epoch: 150  | Training Loss: 30.664 | Training Accuracy: 77.989 | Validation Loss: 31.1 | Validation Accuracy: 77.397\n",
            "Epoch: 200  | Training Loss: 30.646 | Training Accuracy: 78.046 | Validation Loss: 31.098 | Validation Accuracy: 77.473\n"
          ],
          "name": "stdout"
        },
        {
          "output_type": "display_data",
          "data": {
            "image/png": "[encoded data removed]",
            "text/plain": [
              "<Figure size 432x288 with 1 Axes>"
            ]
          },
          "metadata": {
            "tags": [],
            "needs_background": "light"
          }
        },
        {
          "output_type": "display_data",
          "data": {
            "image/png": "[encoded data removed]",
            "text/plain": [
              "<Figure size 432x288 with 1 Axes>"
            ]
          },
          "metadata": {
            "tags": [],
            "needs_background": "light"
          }
        },
        {
          "output_type": "stream",
          "text": [
            "Imputer = most freq | LR = 8.5e-05 | Weight decay = 0.01 | Dropout = 0.75 | Layer 1 = 1024.0 | Layer 2 = 256 | Batch size = 64.0\n",
            "\n",
            "Epoch: 0  | Training Loss: 37.068 | Training Accuracy: 71.497 | Validation Loss: 32.259 | Validation Accuracy: 77.245\n",
            "Epoch: 50  | Training Loss: 30.603 | Training Accuracy: 77.761 | Validation Loss: 32.189 | Validation Accuracy: 77.093\n",
            "Epoch: 100  | Training Loss: 30.586 | Training Accuracy: 77.761 | Validation Loss: 32.179 | Validation Accuracy: 77.093\n",
            "Epoch: 150  | Training Loss: 30.569 | Training Accuracy: 77.761 | Validation Loss: 32.171 | Validation Accuracy: 77.093\n",
            "Epoch: 200  | Training Loss: 30.552 | Training Accuracy: 77.761 | Validation Loss: 32.162 | Validation Accuracy: 77.017\n"
          ],
          "name": "stdout"
        },
        {
          "output_type": "display_data",
          "data": {
            "image/png": "[encoded data removed]",
            "text/plain": [
              "<Figure size 432x288 with 1 Axes>"
            ]
          },
          "metadata": {
            "tags": [],
            "needs_background": "light"
          }
        },
        {
          "output_type": "display_data",
          "data": {
            "image/png": "[encoded data removed]",
            "text/plain": [
              "<Figure size 432x288 with 1 Axes>"
            ]
          },
          "metadata": {
            "tags": [],
            "needs_background": "light"
          }
        },
        {
          "output_type": "stream",
          "text": [
            "Imputer = mean | LR = 0.00011000000000000002 | Weight decay = 0.001 | Dropout = 0.5 | Layer 1 = 256.0 | Layer 2 = 256 | Batch size = 64.0\n",
            "\n",
            "Epoch: 0  | Training Loss: 35.521 | Training Accuracy: 73.382 | Validation Loss: 34.483 | Validation Accuracy: 75.266\n",
            "Epoch: 50  | Training Loss: 30.872 | Training Accuracy: 77.97 | Validation Loss: 34.277 | Validation Accuracy: 74.658\n",
            "Epoch: 100  | Training Loss: 30.862 | Training Accuracy: 77.951 | Validation Loss: 34.274 | Validation Accuracy: 74.658\n",
            "Epoch: 150  | Training Loss: 30.852 | Training Accuracy: 77.951 | Validation Loss: 34.271 | Validation Accuracy: 74.734\n",
            "Epoch: 200  | Training Loss: 30.842 | Training Accuracy: 77.932 | Validation Loss: 34.269 | Validation Accuracy: 74.734\n"
          ],
          "name": "stdout"
        },
        {
          "output_type": "display_data",
          "data": {
            "image/png": "[encoded data removed]",
            "text/plain": [
              "<Figure size 432x288 with 1 Axes>"
            ]
          },
          "metadata": {
            "tags": [],
            "needs_background": "light"
          }
        },
        {
          "output_type": "display_data",
          "data": {
            "image/png": "[encoded data removed]",
            "text/plain": [
              "<Figure size 432x288 with 1 Axes>"
            ]
          },
          "metadata": {
            "tags": [],
            "needs_background": "light"
          }
        },
        {
          "output_type": "stream",
          "text": [
            "Imputer = median | LR = 0.00011000000000000002 | Weight decay = 0.001 | Dropout = 0.5 | Layer 1 = 256.0 | Layer 2 = 256 | Batch size = 64.0\n",
            "\n",
            "Epoch: 0  | Training Loss: 36.007 | Training Accuracy: 72.372 | Validation Loss: 34.532 | Validation Accuracy: 74.886\n",
            "Epoch: 50  | Training Loss: 30.925 | Training Accuracy: 78.237 | Validation Loss: 34.179 | Validation Accuracy: 74.353\n",
            "Epoch: 100  | Training Loss: 30.916 | Training Accuracy: 78.237 | Validation Loss: 34.175 | Validation Accuracy: 74.353\n",
            "Epoch: 150  | Training Loss: 30.906 | Training Accuracy: 78.237 | Validation Loss: 34.17 | Validation Accuracy: 74.429\n",
            "Epoch: 200  | Training Loss: 30.897 | Training Accuracy: 78.313 | Validation Loss: 34.165 | Validation Accuracy: 74.505\n"
          ],
          "name": "stdout"
        },
        {
          "output_type": "display_data",
          "data": {
            "image/png": "[encoded data removed]",
            "text/plain": [
              "<Figure size 432x288 with 1 Axes>"
            ]
          },
          "metadata": {
            "tags": [],
            "needs_background": "light"
          }
        },
        {
          "output_type": "display_data",
          "data": {
            "image/png": "[encoded data removed]",
            "text/plain": [
              "<Figure size 432x288 with 1 Axes>"
            ]
          },
          "metadata": {
            "tags": [],
            "needs_background": "light"
          }
        },
        {
          "output_type": "stream",
          "text": [
            "Imputer = most freq | LR = 0.00011000000000000002 | Weight decay = 0.001 | Dropout = 0.5 | Layer 1 = 256.0 | Layer 2 = 256 | Batch size = 64.0\n",
            "\n",
            "Epoch: 0  | Training Loss: 36.001 | Training Accuracy: 73.058 | Validation Loss: 33.135 | Validation Accuracy: 76.484\n",
            "Epoch: 50  | Training Loss: 31.411 | Training Accuracy: 77.551 | Validation Loss: 33.123 | Validation Accuracy: 76.104\n",
            "Epoch: 100  | Training Loss: 31.4 | Training Accuracy: 77.609 | Validation Loss: 33.114 | Validation Accuracy: 76.104\n",
            "Epoch: 150  | Training Loss: 31.388 | Training Accuracy: 77.628 | Validation Loss: 33.106 | Validation Accuracy: 76.104\n",
            "Epoch: 200  | Training Loss: 31.377 | Training Accuracy: 77.647 | Validation Loss: 33.098 | Validation Accuracy: 76.18\n"
          ],
          "name": "stdout"
        },
        {
          "output_type": "display_data",
          "data": {
            "image/png": "[encoded data removed]",
            "text/plain": [
              "<Figure size 432x288 with 1 Axes>"
            ]
          },
          "metadata": {
            "tags": [],
            "needs_background": "light"
          }
        },
        {
          "output_type": "display_data",
          "data": {
            "image/png": "[encoded data removed]",
            "text/plain": [
              "<Figure size 432x288 with 1 Axes>"
            ]
          },
          "metadata": {
            "tags": [],
            "needs_background": "light"
          }
        },
        {
          "output_type": "stream",
          "text": [
            "Imputer = mean | LR = 8.5e-05 | Weight decay = 0.1 | Dropout = 0.75 | Layer 1 = 1024.0 | Layer 2 = 256 | Batch size = 64.0\n",
            "\n",
            "Epoch: 0  | Training Loss: 36.544 | Training Accuracy: 72.353 | Validation Loss: 33.134 | Validation Accuracy: 76.18\n",
            "Epoch: 50  | Training Loss: 31.924 | Training Accuracy: 77.304 | Validation Loss: 33.072 | Validation Accuracy: 75.875\n",
            "Epoch: 100  | Training Loss: 31.902 | Training Accuracy: 77.342 | Validation Loss: 33.071 | Validation Accuracy: 75.951\n",
            "Epoch: 150  | Training Loss: 31.881 | Training Accuracy: 77.361 | Validation Loss: 33.069 | Validation Accuracy: 75.951\n",
            "Epoch: 200  | Training Loss: 31.86 | Training Accuracy: 77.399 | Validation Loss: 33.068 | Validation Accuracy: 76.104\n"
          ],
          "name": "stdout"
        },
        {
          "output_type": "display_data",
          "data": {
            "image/png": "[encoded data removed]",
            "text/plain": [
              "<Figure size 432x288 with 1 Axes>"
            ]
          },
          "metadata": {
            "tags": [],
            "needs_background": "light"
          }
        },
        {
          "output_type": "display_data",
          "data": {
            "image/png": "[encoded data removed]",
            "text/plain": [
              "<Figure size 432x288 with 1 Axes>"
            ]
          },
          "metadata": {
            "tags": [],
            "needs_background": "light"
          }
        },
        {
          "output_type": "stream",
          "text": [
            "Imputer = median | LR = 8.5e-05 | Weight decay = 0.1 | Dropout = 0.75 | Layer 1 = 1024.0 | Layer 2 = 256 | Batch size = 64.0\n",
            "\n",
            "Epoch: 0  | Training Loss: 36.58 | Training Accuracy: 72.525 | Validation Loss: 34.22 | Validation Accuracy: 74.581\n",
            "Epoch: 50  | Training Loss: 30.201 | Training Accuracy: 78.313 | Validation Loss: 33.911 | Validation Accuracy: 74.734\n",
            "Epoch: 100  | Training Loss: 30.18 | Training Accuracy: 78.256 | Validation Loss: 33.907 | Validation Accuracy: 74.81\n",
            "Epoch: 150  | Training Loss: 30.16 | Training Accuracy: 78.313 | Validation Loss: 33.904 | Validation Accuracy: 74.886\n",
            "Epoch: 200  | Training Loss: 30.14 | Training Accuracy: 78.389 | Validation Loss: 33.901 | Validation Accuracy: 74.658\n"
          ],
          "name": "stdout"
        },
        {
          "output_type": "display_data",
          "data": {
            "image/png": "[encoded data removed]",
            "text/plain": [
              "<Figure size 432x288 with 1 Axes>"
            ]
          },
          "metadata": {
            "tags": [],
            "needs_background": "light"
          }
        },
        {
          "output_type": "display_data",
          "data": {
            "image/png": "[encoded data removed]",
            "text/plain": [
              "<Figure size 432x288 with 1 Axes>"
            ]
          },
          "metadata": {
            "tags": [],
            "needs_background": "light"
          }
        },
        {
          "output_type": "stream",
          "text": [
            "Imputer = most freq | LR = 8.5e-05 | Weight decay = 0.1 | Dropout = 0.75 | Layer 1 = 1024.0 | Layer 2 = 256 | Batch size = 64.0\n",
            "\n",
            "Epoch: 0  | Training Loss: 36.764 | Training Accuracy: 72.22 | Validation Loss: 34.239 | Validation Accuracy: 74.277\n",
            "Epoch: 50  | Training Loss: 30.239 | Training Accuracy: 78.465 | Validation Loss: 33.653 | Validation Accuracy: 75.19\n",
            "Epoch: 100  | Training Loss: 30.204 | Training Accuracy: 78.484 | Validation Loss: 33.647 | Validation Accuracy: 75.114\n",
            "Epoch: 150  | Training Loss: 30.171 | Training Accuracy: 78.446 | Validation Loss: 33.644 | Validation Accuracy: 75.19\n",
            "Epoch: 200  | Training Loss: 30.141 | Training Accuracy: 78.465 | Validation Loss: 33.642 | Validation Accuracy: 75.114\n"
          ],
          "name": "stdout"
        },
        {
          "output_type": "display_data",
          "data": {
            "image/png": "[encoded data removed]",
            "text/plain": [
              "<Figure size 432x288 with 1 Axes>"
            ]
          },
          "metadata": {
            "tags": [],
            "needs_background": "light"
          }
        },
        {
          "output_type": "display_data",
          "data": {
            "image/png": "[encoded data removed]",
            "text/plain": [
              "<Figure size 432x288 with 1 Axes>"
            ]
          },
          "metadata": {
            "tags": [],
            "needs_background": "light"
          }
        }
      ]
    },
    {
      "cell_type": "markdown",
      "metadata": {
        "id": "WpHzKqtHwMTp"
      },
      "source": [
        "Observe best models using Pandas Dataframe"
      ]
    },
    {
      "cell_type": "code",
      "metadata": {
        "colab": {
          "base_uri": "https://localhost:8080/",
          "height": 343
        },
        "id": "AOf-yY6_P5Mi",
        "outputId": "43403b55-4ed9-4a3f-dc9f-eb46c3a26d36"
      },
      "source": [
        "cols = ['Imputation', 'Learning rate', 'Weight decay', 'Dropout', 'Neurons hidden',\n",
        "        'Batch size', 'Train loss', 'Train accuracy', 'Val loss', 'Val accuracy']\n",
        "\n",
        "df = pd.DataFrame(total_best_results, columns=cols)\n",
        "best = df.sort_values(by=['Val loss'])[:10]\n",
        "best"
      ],
      "execution_count": null,
      "outputs": [
        {
          "output_type": "execute_result",
          "data": {
            "text/html": [
              "<div>\n",
              "<style scoped>\n",
              "    .dataframe tbody tr th:only-of-type {\n",
              "        vertical-align: middle;\n",
              "    }\n",
              "\n",
              "    .dataframe tbody tr th {\n",
              "        vertical-align: top;\n",
              "    }\n",
              "\n",
              "    .dataframe thead th {\n",
              "        text-align: right;\n",
              "    }\n",
              "</style>\n",
              "<table border=\"1\" class=\"dataframe\">\n",
              "  <thead>\n",
              "    <tr style=\"text-align: right;\">\n",
              "      <th></th>\n",
              "      <th>Imputation</th>\n",
              "      <th>Learning rate</th>\n",
              "      <th>Weight decay</th>\n",
              "      <th>Dropout</th>\n",
              "      <th>Neurons hidden</th>\n",
              "      <th>Batch size</th>\n",
              "      <th>Train loss</th>\n",
              "      <th>Train accuracy</th>\n",
              "      <th>Val loss</th>\n",
              "      <th>Val accuracy</th>\n",
              "    </tr>\n",
              "  </thead>\n",
              "  <tbody>\n",
              "    <tr>\n",
              "      <th>7</th>\n",
              "      <td>median</td>\n",
              "      <td>0.000085</td>\n",
              "      <td>0.010</td>\n",
              "      <td>0.75</td>\n",
              "      <td>1024.0</td>\n",
              "      <td>64.0</td>\n",
              "      <td>30.646</td>\n",
              "      <td>78.046</td>\n",
              "      <td>31.098</td>\n",
              "      <td>77.702</td>\n",
              "    </tr>\n",
              "    <tr>\n",
              "      <th>1</th>\n",
              "      <td>median</td>\n",
              "      <td>0.000060</td>\n",
              "      <td>0.010</td>\n",
              "      <td>0.25</td>\n",
              "      <td>1024.0</td>\n",
              "      <td>64.0</td>\n",
              "      <td>31.629</td>\n",
              "      <td>77.342</td>\n",
              "      <td>32.037</td>\n",
              "      <td>77.017</td>\n",
              "    </tr>\n",
              "    <tr>\n",
              "      <th>8</th>\n",
              "      <td>most freq</td>\n",
              "      <td>0.000085</td>\n",
              "      <td>0.010</td>\n",
              "      <td>0.75</td>\n",
              "      <td>1024.0</td>\n",
              "      <td>64.0</td>\n",
              "      <td>30.552</td>\n",
              "      <td>77.818</td>\n",
              "      <td>32.162</td>\n",
              "      <td>77.245</td>\n",
              "    </tr>\n",
              "    <tr>\n",
              "      <th>3</th>\n",
              "      <td>mean</td>\n",
              "      <td>0.000085</td>\n",
              "      <td>0.100</td>\n",
              "      <td>0.50</td>\n",
              "      <td>512.0</td>\n",
              "      <td>64.0</td>\n",
              "      <td>30.668</td>\n",
              "      <td>77.856</td>\n",
              "      <td>32.652</td>\n",
              "      <td>76.636</td>\n",
              "    </tr>\n",
              "    <tr>\n",
              "      <th>5</th>\n",
              "      <td>most freq</td>\n",
              "      <td>0.000085</td>\n",
              "      <td>0.100</td>\n",
              "      <td>0.50</td>\n",
              "      <td>512.0</td>\n",
              "      <td>64.0</td>\n",
              "      <td>30.561</td>\n",
              "      <td>78.104</td>\n",
              "      <td>33.040</td>\n",
              "      <td>77.169</td>\n",
              "    </tr>\n",
              "    <tr>\n",
              "      <th>12</th>\n",
              "      <td>mean</td>\n",
              "      <td>0.000085</td>\n",
              "      <td>0.100</td>\n",
              "      <td>0.75</td>\n",
              "      <td>1024.0</td>\n",
              "      <td>64.0</td>\n",
              "      <td>31.860</td>\n",
              "      <td>77.399</td>\n",
              "      <td>33.068</td>\n",
              "      <td>76.180</td>\n",
              "    </tr>\n",
              "    <tr>\n",
              "      <th>11</th>\n",
              "      <td>most freq</td>\n",
              "      <td>0.000110</td>\n",
              "      <td>0.001</td>\n",
              "      <td>0.50</td>\n",
              "      <td>256.0</td>\n",
              "      <td>64.0</td>\n",
              "      <td>31.377</td>\n",
              "      <td>77.647</td>\n",
              "      <td>33.098</td>\n",
              "      <td>76.484</td>\n",
              "    </tr>\n",
              "    <tr>\n",
              "      <th>0</th>\n",
              "      <td>mean</td>\n",
              "      <td>0.000060</td>\n",
              "      <td>0.010</td>\n",
              "      <td>0.25</td>\n",
              "      <td>1024.0</td>\n",
              "      <td>64.0</td>\n",
              "      <td>29.635</td>\n",
              "      <td>78.846</td>\n",
              "      <td>33.167</td>\n",
              "      <td>75.723</td>\n",
              "    </tr>\n",
              "    <tr>\n",
              "      <th>14</th>\n",
              "      <td>most freq</td>\n",
              "      <td>0.000085</td>\n",
              "      <td>0.100</td>\n",
              "      <td>0.75</td>\n",
              "      <td>1024.0</td>\n",
              "      <td>64.0</td>\n",
              "      <td>30.141</td>\n",
              "      <td>78.503</td>\n",
              "      <td>33.642</td>\n",
              "      <td>75.266</td>\n",
              "    </tr>\n",
              "    <tr>\n",
              "      <th>13</th>\n",
              "      <td>median</td>\n",
              "      <td>0.000085</td>\n",
              "      <td>0.100</td>\n",
              "      <td>0.75</td>\n",
              "      <td>1024.0</td>\n",
              "      <td>64.0</td>\n",
              "      <td>30.140</td>\n",
              "      <td>78.389</td>\n",
              "      <td>33.901</td>\n",
              "      <td>74.886</td>\n",
              "    </tr>\n",
              "  </tbody>\n",
              "</table>\n",
              "</div>"
            ],
            "text/plain": [
              "   Imputation  Learning rate  ...  Val loss  Val accuracy\n",
              "7      median       0.000085  ...    31.098        77.702\n",
              "1      median       0.000060  ...    32.037        77.017\n",
              "8   most freq       0.000085  ...    32.162        77.245\n",
              "3        mean       0.000085  ...    32.652        76.636\n",
              "5   most freq       0.000085  ...    33.040        77.169\n",
              "12       mean       0.000085  ...    33.068        76.180\n",
              "11  most freq       0.000110  ...    33.098        76.484\n",
              "0        mean       0.000060  ...    33.167        75.723\n",
              "14  most freq       0.000085  ...    33.642        75.266\n",
              "13     median       0.000085  ...    33.901        74.886\n",
              "\n",
              "[10 rows x 10 columns]"
            ]
          },
          "metadata": {
            "tags": []
          },
          "execution_count": 67
        }
      ]
    },
    {
      "cell_type": "markdown",
      "metadata": {
        "id": "fiSiBPrf4xFw"
      },
      "source": [
        "Get predictions for best model"
      ]
    },
    {
      "cell_type": "code",
      "metadata": {
        "id": "blLZSvZkmzih"
      },
      "source": [
        "best_model = best_models[7]"
      ],
      "execution_count": null,
      "outputs": []
    },
    {
      "cell_type": "code",
      "metadata": {
        "id": "Qa-h591p5YDP"
      },
      "source": [
        "predictions = best_model.predict(test.to('cuda:0'))"
      ],
      "execution_count": null,
      "outputs": []
    },
    {
      "cell_type": "code",
      "metadata": {
        "id": "e6VlbKubm9KL"
      },
      "source": [
        "preds = torch.where(predictions > 0.5, 1, 0)"
      ],
      "execution_count": null,
      "outputs": []
    },
    {
      "cell_type": "markdown",
      "metadata": {
        "id": "dEjbFIbu3mSQ"
      },
      "source": [
        "Save results in a CSV file"
      ]
    },
    {
      "cell_type": "code",
      "metadata": {
        "id": "MXUZYZ_c3zUs"
      },
      "source": [
        "results_directory = \"/content/drive/My Drive/Sussex AI/Spring Semester/Machine Learning/Kaggle Competition/\""
      ],
      "execution_count": null,
      "outputs": []
    },
    {
      "cell_type": "code",
      "metadata": {
        "id": "i2c4Ahpl3G2D"
      },
      "source": [
        "# Save results in a csv file\n",
        "with open(os.path.join(results_directory, 'Kaggle_submisison_file.csv'), 'w') as out:\n",
        "  writer = csv.writer(out, delimiter=',')\n",
        "  writer.writerow(['ID', 'prediction'])\n",
        "  for i in range(len(preds)):\n",
        "    writer.writerow([str(i+1), preds[i].item()])"
      ],
      "execution_count": null,
      "outputs": []
    },
    {
      "cell_type": "markdown",
      "metadata": {
        "id": "ja6RbevvYpEU"
      },
      "source": [
        "# Other Discarded Models"
      ]
    },
    {
      "cell_type": "markdown",
      "metadata": {
        "id": "5dZxw5C-AkG3"
      },
      "source": [
        "# Support Vector Machine"
      ]
    },
    {
      "cell_type": "code",
      "metadata": {
        "id": "diiNCROFAlcv"
      },
      "source": [
        "from sklearn.svm import SVC\n",
        "from sklearn.model_selection import GridSearchCV"
      ],
      "execution_count": null,
      "outputs": []
    },
    {
      "cell_type": "markdown",
      "metadata": {
        "id": "_EaikIjcpfWS"
      },
      "source": [
        "Grid search for Suport Vector Machine Classifier"
      ]
    },
    {
      "cell_type": "code",
      "metadata": {
        "colab": {
          "base_uri": "https://localhost:8080/"
        },
        "id": "ACqgRlRXFvNq",
        "outputId": "03b9aef9-0040-446e-8b3e-d12ae677e0f1"
      },
      "source": [
        "# Training se\n",
        "param_grid = {'C': [0.001, 0.1, 1, 10, 100], \n",
        "              'gamma': [1, 0.1, 0.01, 0.001, 0.0001],\n",
        "              'kernel': ['rbf', 'sigmoid', 'poly']} \n",
        "  \n",
        "grid_svm = GridSearchCV(SVC(), param_grid, refit = True, verbose=3)\n",
        "  \n",
        "# fitting the model for grid search\n",
        "grid_svm.fit(X_train, y_train.reshape(len(y_train)))"
      ],
      "execution_count": null,
      "outputs": [
        {
          "output_type": "stream",
          "text": [
            "Fitting 5 folds for each of 75 candidates, totalling 375 fits\n",
            "[CV] C=0.001, gamma=1, kernel=rbf ....................................\n"
          ],
          "name": "stdout"
        },
        {
          "output_type": "stream",
          "text": [
            "[Parallel(n_jobs=1)]: Using backend SequentialBackend with 1 concurrent workers.\n"
          ],
          "name": "stderr"
        },
        {
          "output_type": "stream",
          "text": [
            "[CV] ........ C=0.001, gamma=1, kernel=rbf, score=0.533, total=   1.7s\n",
            "[CV] C=0.001, gamma=1, kernel=rbf ....................................\n"
          ],
          "name": "stdout"
        },
        {
          "output_type": "stream",
          "text": [
            "[Parallel(n_jobs=1)]: Done   1 out of   1 | elapsed:    1.7s remaining:    0.0s\n"
          ],
          "name": "stderr"
        },
        {
          "output_type": "stream",
          "text": [
            "[CV] ........ C=0.001, gamma=1, kernel=rbf, score=0.543, total=   1.7s\n",
            "[CV] C=0.001, gamma=1, kernel=rbf ....................................\n"
          ],
          "name": "stdout"
        },
        {
          "output_type": "stream",
          "text": [
            "[Parallel(n_jobs=1)]: Done   2 out of   2 | elapsed:    3.3s remaining:    0.0s\n"
          ],
          "name": "stderr"
        },
        {
          "output_type": "stream",
          "text": [
            "[CV] ........ C=0.001, gamma=1, kernel=rbf, score=0.543, total=   1.7s\n",
            "[CV] C=0.001, gamma=1, kernel=rbf ....................................\n",
            "[CV] ........ C=0.001, gamma=1, kernel=rbf, score=0.543, total=   1.6s\n",
            "[CV] C=0.001, gamma=1, kernel=rbf ....................................\n",
            "[CV] ........ C=0.001, gamma=1, kernel=rbf, score=0.543, total=   1.6s\n",
            "[CV] C=0.001, gamma=1, kernel=sigmoid ................................\n",
            "[CV] .... C=0.001, gamma=1, kernel=sigmoid, score=0.533, total=   1.5s\n",
            "[CV] C=0.001, gamma=1, kernel=sigmoid ................................\n",
            "[CV] .... C=0.001, gamma=1, kernel=sigmoid, score=0.543, total=   1.5s\n",
            "[CV] C=0.001, gamma=1, kernel=sigmoid ................................\n",
            "[CV] .... C=0.001, gamma=1, kernel=sigmoid, score=0.543, total=   1.5s\n",
            "[CV] C=0.001, gamma=1, kernel=sigmoid ................................\n",
            "[CV] .... C=0.001, gamma=1, kernel=sigmoid, score=0.543, total=   1.5s\n",
            "[CV] C=0.001, gamma=1, kernel=sigmoid ................................\n",
            "[CV] .... C=0.001, gamma=1, kernel=sigmoid, score=0.543, total=   1.5s\n",
            "[CV] C=0.001, gamma=1, kernel=poly ...................................\n",
            "[CV] ....... C=0.001, gamma=1, kernel=poly, score=0.781, total=   1.6s\n",
            "[CV] C=0.001, gamma=1, kernel=poly ...................................\n",
            "[CV] ....... C=0.001, gamma=1, kernel=poly, score=0.724, total=   1.6s\n",
            "[CV] C=0.001, gamma=1, kernel=poly ...................................\n",
            "[CV] ....... C=0.001, gamma=1, kernel=poly, score=0.781, total=   1.6s\n",
            "[CV] C=0.001, gamma=1, kernel=poly ...................................\n",
            "[CV] ....... C=0.001, gamma=1, kernel=poly, score=0.676, total=   1.6s\n",
            "[CV] C=0.001, gamma=1, kernel=poly ...................................\n",
            "[CV] ....... C=0.001, gamma=1, kernel=poly, score=0.771, total=   1.6s\n",
            "[CV] C=0.001, gamma=0.1, kernel=rbf ..................................\n",
            "[CV] ...... C=0.001, gamma=0.1, kernel=rbf, score=0.533, total=   1.5s\n",
            "[CV] C=0.001, gamma=0.1, kernel=rbf ..................................\n",
            "[CV] ...... C=0.001, gamma=0.1, kernel=rbf, score=0.543, total=   1.5s\n",
            "[CV] C=0.001, gamma=0.1, kernel=rbf ..................................\n",
            "[CV] ...... C=0.001, gamma=0.1, kernel=rbf, score=0.543, total=   1.5s\n",
            "[CV] C=0.001, gamma=0.1, kernel=rbf ..................................\n",
            "[CV] ...... C=0.001, gamma=0.1, kernel=rbf, score=0.543, total=   1.5s\n",
            "[CV] C=0.001, gamma=0.1, kernel=rbf ..................................\n",
            "[CV] ...... C=0.001, gamma=0.1, kernel=rbf, score=0.543, total=   1.5s\n",
            "[CV] C=0.001, gamma=0.1, kernel=sigmoid ..............................\n",
            "[CV] .. C=0.001, gamma=0.1, kernel=sigmoid, score=0.533, total=   1.5s\n",
            "[CV] C=0.001, gamma=0.1, kernel=sigmoid ..............................\n",
            "[CV] .. C=0.001, gamma=0.1, kernel=sigmoid, score=0.543, total=   1.6s\n",
            "[CV] C=0.001, gamma=0.1, kernel=sigmoid ..............................\n",
            "[CV] .. C=0.001, gamma=0.1, kernel=sigmoid, score=0.543, total=   1.5s\n",
            "[CV] C=0.001, gamma=0.1, kernel=sigmoid ..............................\n",
            "[CV] .. C=0.001, gamma=0.1, kernel=sigmoid, score=0.543, total=   1.5s\n",
            "[CV] C=0.001, gamma=0.1, kernel=sigmoid ..............................\n",
            "[CV] .. C=0.001, gamma=0.1, kernel=sigmoid, score=0.543, total=   1.6s\n",
            "[CV] C=0.001, gamma=0.1, kernel=poly .................................\n",
            "[CV] ..... C=0.001, gamma=0.1, kernel=poly, score=0.781, total=   1.6s\n",
            "[CV] C=0.001, gamma=0.1, kernel=poly .................................\n",
            "[CV] ..... C=0.001, gamma=0.1, kernel=poly, score=0.724, total=   1.7s\n",
            "[CV] C=0.001, gamma=0.1, kernel=poly .................................\n",
            "[CV] ..... C=0.001, gamma=0.1, kernel=poly, score=0.781, total=   1.6s\n",
            "[CV] C=0.001, gamma=0.1, kernel=poly .................................\n",
            "[CV] ..... C=0.001, gamma=0.1, kernel=poly, score=0.676, total=   1.6s\n",
            "[CV] C=0.001, gamma=0.1, kernel=poly .................................\n",
            "[CV] ..... C=0.001, gamma=0.1, kernel=poly, score=0.771, total=   1.6s\n",
            "[CV] C=0.001, gamma=0.01, kernel=rbf .................................\n",
            "[CV] ..... C=0.001, gamma=0.01, kernel=rbf, score=0.533, total=   1.5s\n",
            "[CV] C=0.001, gamma=0.01, kernel=rbf .................................\n",
            "[CV] ..... C=0.001, gamma=0.01, kernel=rbf, score=0.543, total=   1.5s\n",
            "[CV] C=0.001, gamma=0.01, kernel=rbf .................................\n",
            "[CV] ..... C=0.001, gamma=0.01, kernel=rbf, score=0.543, total=   1.5s\n",
            "[CV] C=0.001, gamma=0.01, kernel=rbf .................................\n",
            "[CV] ..... C=0.001, gamma=0.01, kernel=rbf, score=0.543, total=   1.5s\n",
            "[CV] C=0.001, gamma=0.01, kernel=rbf .................................\n",
            "[CV] ..... C=0.001, gamma=0.01, kernel=rbf, score=0.543, total=   1.5s\n",
            "[CV] C=0.001, gamma=0.01, kernel=sigmoid .............................\n",
            "[CV] . C=0.001, gamma=0.01, kernel=sigmoid, score=0.533, total=   1.5s\n",
            "[CV] C=0.001, gamma=0.01, kernel=sigmoid .............................\n",
            "[CV] . C=0.001, gamma=0.01, kernel=sigmoid, score=0.543, total=   1.5s\n",
            "[CV] C=0.001, gamma=0.01, kernel=sigmoid .............................\n",
            "[CV] . C=0.001, gamma=0.01, kernel=sigmoid, score=0.543, total=   1.5s\n",
            "[CV] C=0.001, gamma=0.01, kernel=sigmoid .............................\n",
            "[CV] . C=0.001, gamma=0.01, kernel=sigmoid, score=0.543, total=   1.5s\n",
            "[CV] C=0.001, gamma=0.01, kernel=sigmoid .............................\n",
            "[CV] . C=0.001, gamma=0.01, kernel=sigmoid, score=0.543, total=   1.5s\n",
            "[CV] C=0.001, gamma=0.01, kernel=poly ................................\n",
            "[CV] .... C=0.001, gamma=0.01, kernel=poly, score=0.533, total=   1.5s\n",
            "[CV] C=0.001, gamma=0.01, kernel=poly ................................\n",
            "[CV] .... C=0.001, gamma=0.01, kernel=poly, score=0.543, total=   1.5s\n",
            "[CV] C=0.001, gamma=0.01, kernel=poly ................................\n",
            "[CV] .... C=0.001, gamma=0.01, kernel=poly, score=0.543, total=   1.6s\n",
            "[CV] C=0.001, gamma=0.01, kernel=poly ................................\n",
            "[CV] .... C=0.001, gamma=0.01, kernel=poly, score=0.543, total=   1.6s\n",
            "[CV] C=0.001, gamma=0.01, kernel=poly ................................\n",
            "[CV] .... C=0.001, gamma=0.01, kernel=poly, score=0.543, total=   1.6s\n",
            "[CV] C=0.001, gamma=0.001, kernel=rbf ................................\n",
            "[CV] .... C=0.001, gamma=0.001, kernel=rbf, score=0.533, total=   1.5s\n",
            "[CV] C=0.001, gamma=0.001, kernel=rbf ................................\n",
            "[CV] .... C=0.001, gamma=0.001, kernel=rbf, score=0.543, total=   1.5s\n",
            "[CV] C=0.001, gamma=0.001, kernel=rbf ................................\n",
            "[CV] .... C=0.001, gamma=0.001, kernel=rbf, score=0.543, total=   1.5s\n",
            "[CV] C=0.001, gamma=0.001, kernel=rbf ................................\n",
            "[CV] .... C=0.001, gamma=0.001, kernel=rbf, score=0.543, total=   1.5s\n",
            "[CV] C=0.001, gamma=0.001, kernel=rbf ................................\n",
            "[CV] .... C=0.001, gamma=0.001, kernel=rbf, score=0.543, total=   1.5s\n",
            "[CV] C=0.001, gamma=0.001, kernel=sigmoid ............................\n",
            "[CV]  C=0.001, gamma=0.001, kernel=sigmoid, score=0.533, total=   1.5s\n",
            "[CV] C=0.001, gamma=0.001, kernel=sigmoid ............................\n",
            "[CV]  C=0.001, gamma=0.001, kernel=sigmoid, score=0.543, total=   1.5s\n",
            "[CV] C=0.001, gamma=0.001, kernel=sigmoid ............................\n",
            "[CV]  C=0.001, gamma=0.001, kernel=sigmoid, score=0.543, total=   1.5s\n",
            "[CV] C=0.001, gamma=0.001, kernel=sigmoid ............................\n",
            "[CV]  C=0.001, gamma=0.001, kernel=sigmoid, score=0.543, total=   1.5s\n",
            "[CV] C=0.001, gamma=0.001, kernel=sigmoid ............................\n",
            "[CV]  C=0.001, gamma=0.001, kernel=sigmoid, score=0.543, total=   1.5s\n",
            "[CV] C=0.001, gamma=0.001, kernel=poly ...............................\n",
            "[CV] ... C=0.001, gamma=0.001, kernel=poly, score=0.533, total=   1.5s\n",
            "[CV] C=0.001, gamma=0.001, kernel=poly ...............................\n",
            "[CV] ... C=0.001, gamma=0.001, kernel=poly, score=0.543, total=   1.5s\n",
            "[CV] C=0.001, gamma=0.001, kernel=poly ...............................\n",
            "[CV] ... C=0.001, gamma=0.001, kernel=poly, score=0.543, total=   1.5s\n",
            "[CV] C=0.001, gamma=0.001, kernel=poly ...............................\n",
            "[CV] ... C=0.001, gamma=0.001, kernel=poly, score=0.543, total=   1.5s\n",
            "[CV] C=0.001, gamma=0.001, kernel=poly ...............................\n",
            "[CV] ... C=0.001, gamma=0.001, kernel=poly, score=0.543, total=   1.5s\n",
            "[CV] C=0.001, gamma=0.0001, kernel=rbf ...............................\n",
            "[CV] ... C=0.001, gamma=0.0001, kernel=rbf, score=0.533, total=   1.5s\n",
            "[CV] C=0.001, gamma=0.0001, kernel=rbf ...............................\n",
            "[CV] ... C=0.001, gamma=0.0001, kernel=rbf, score=0.543, total=   1.5s\n",
            "[CV] C=0.001, gamma=0.0001, kernel=rbf ...............................\n",
            "[CV] ... C=0.001, gamma=0.0001, kernel=rbf, score=0.543, total=   1.5s\n",
            "[CV] C=0.001, gamma=0.0001, kernel=rbf ...............................\n",
            "[CV] ... C=0.001, gamma=0.0001, kernel=rbf, score=0.543, total=   1.5s\n",
            "[CV] C=0.001, gamma=0.0001, kernel=rbf ...............................\n",
            "[CV] ... C=0.001, gamma=0.0001, kernel=rbf, score=0.543, total=   1.5s\n",
            "[CV] C=0.001, gamma=0.0001, kernel=sigmoid ...........................\n",
            "[CV]  C=0.001, gamma=0.0001, kernel=sigmoid, score=0.533, total=   1.5s\n",
            "[CV] C=0.001, gamma=0.0001, kernel=sigmoid ...........................\n",
            "[CV]  C=0.001, gamma=0.0001, kernel=sigmoid, score=0.543, total=   1.5s\n",
            "[CV] C=0.001, gamma=0.0001, kernel=sigmoid ...........................\n",
            "[CV]  C=0.001, gamma=0.0001, kernel=sigmoid, score=0.543, total=   1.5s\n",
            "[CV] C=0.001, gamma=0.0001, kernel=sigmoid ...........................\n",
            "[CV]  C=0.001, gamma=0.0001, kernel=sigmoid, score=0.543, total=   1.5s\n",
            "[CV] C=0.001, gamma=0.0001, kernel=sigmoid ...........................\n",
            "[CV]  C=0.001, gamma=0.0001, kernel=sigmoid, score=0.543, total=   1.5s\n",
            "[CV] C=0.001, gamma=0.0001, kernel=poly ..............................\n",
            "[CV] .. C=0.001, gamma=0.0001, kernel=poly, score=0.533, total=   1.5s\n",
            "[CV] C=0.001, gamma=0.0001, kernel=poly ..............................\n",
            "[CV] .. C=0.001, gamma=0.0001, kernel=poly, score=0.543, total=   1.5s\n",
            "[CV] C=0.001, gamma=0.0001, kernel=poly ..............................\n",
            "[CV] .. C=0.001, gamma=0.0001, kernel=poly, score=0.543, total=   1.5s\n",
            "[CV] C=0.001, gamma=0.0001, kernel=poly ..............................\n",
            "[CV] .. C=0.001, gamma=0.0001, kernel=poly, score=0.543, total=   1.5s\n",
            "[CV] C=0.001, gamma=0.0001, kernel=poly ..............................\n",
            "[CV] .. C=0.001, gamma=0.0001, kernel=poly, score=0.543, total=   1.5s\n",
            "[CV] C=0.1, gamma=1, kernel=rbf ......................................\n",
            "[CV] .......... C=0.1, gamma=1, kernel=rbf, score=0.533, total=   1.6s\n",
            "[CV] C=0.1, gamma=1, kernel=rbf ......................................\n",
            "[CV] .......... C=0.1, gamma=1, kernel=rbf, score=0.543, total=   1.6s\n",
            "[CV] C=0.1, gamma=1, kernel=rbf ......................................\n",
            "[CV] .......... C=0.1, gamma=1, kernel=rbf, score=0.543, total=   1.6s\n",
            "[CV] C=0.1, gamma=1, kernel=rbf ......................................\n",
            "[CV] .......... C=0.1, gamma=1, kernel=rbf, score=0.543, total=   1.6s\n",
            "[CV] C=0.1, gamma=1, kernel=rbf ......................................\n",
            "[CV] .......... C=0.1, gamma=1, kernel=rbf, score=0.543, total=   1.6s\n",
            "[CV] C=0.1, gamma=1, kernel=sigmoid ..................................\n",
            "[CV] ...... C=0.1, gamma=1, kernel=sigmoid, score=0.533, total=   1.5s\n",
            "[CV] C=0.1, gamma=1, kernel=sigmoid ..................................\n",
            "[CV] ...... C=0.1, gamma=1, kernel=sigmoid, score=0.543, total=   1.5s\n",
            "[CV] C=0.1, gamma=1, kernel=sigmoid ..................................\n",
            "[CV] ...... C=0.1, gamma=1, kernel=sigmoid, score=0.543, total=   1.5s\n",
            "[CV] C=0.1, gamma=1, kernel=sigmoid ..................................\n",
            "[CV] ...... C=0.1, gamma=1, kernel=sigmoid, score=0.543, total=   1.5s\n",
            "[CV] C=0.1, gamma=1, kernel=sigmoid ..................................\n",
            "[CV] ...... C=0.1, gamma=1, kernel=sigmoid, score=0.543, total=   1.5s\n",
            "[CV] C=0.1, gamma=1, kernel=poly .....................................\n",
            "[CV] ......... C=0.1, gamma=1, kernel=poly, score=0.781, total=   1.6s\n",
            "[CV] C=0.1, gamma=1, kernel=poly .....................................\n",
            "[CV] ......... C=0.1, gamma=1, kernel=poly, score=0.724, total=   1.6s\n",
            "[CV] C=0.1, gamma=1, kernel=poly .....................................\n",
            "[CV] ......... C=0.1, gamma=1, kernel=poly, score=0.781, total=   1.6s\n",
            "[CV] C=0.1, gamma=1, kernel=poly .....................................\n",
            "[CV] ......... C=0.1, gamma=1, kernel=poly, score=0.676, total=   1.6s\n",
            "[CV] C=0.1, gamma=1, kernel=poly .....................................\n",
            "[CV] ......... C=0.1, gamma=1, kernel=poly, score=0.771, total=   1.6s\n",
            "[CV] C=0.1, gamma=0.1, kernel=rbf ....................................\n",
            "[CV] ........ C=0.1, gamma=0.1, kernel=rbf, score=0.533, total=   1.6s\n",
            "[CV] C=0.1, gamma=0.1, kernel=rbf ....................................\n",
            "[CV] ........ C=0.1, gamma=0.1, kernel=rbf, score=0.543, total=   1.6s\n",
            "[CV] C=0.1, gamma=0.1, kernel=rbf ....................................\n",
            "[CV] ........ C=0.1, gamma=0.1, kernel=rbf, score=0.543, total=   1.6s\n",
            "[CV] C=0.1, gamma=0.1, kernel=rbf ....................................\n",
            "[CV] ........ C=0.1, gamma=0.1, kernel=rbf, score=0.543, total=   1.6s\n",
            "[CV] C=0.1, gamma=0.1, kernel=rbf ....................................\n",
            "[CV] ........ C=0.1, gamma=0.1, kernel=rbf, score=0.543, total=   1.6s\n",
            "[CV] C=0.1, gamma=0.1, kernel=sigmoid ................................\n",
            "[CV] .... C=0.1, gamma=0.1, kernel=sigmoid, score=0.533, total=   1.6s\n",
            "[CV] C=0.1, gamma=0.1, kernel=sigmoid ................................\n",
            "[CV] .... C=0.1, gamma=0.1, kernel=sigmoid, score=0.543, total=   1.6s\n",
            "[CV] C=0.1, gamma=0.1, kernel=sigmoid ................................\n",
            "[CV] .... C=0.1, gamma=0.1, kernel=sigmoid, score=0.543, total=   1.6s\n",
            "[CV] C=0.1, gamma=0.1, kernel=sigmoid ................................\n",
            "[CV] .... C=0.1, gamma=0.1, kernel=sigmoid, score=0.543, total=   1.6s\n",
            "[CV] C=0.1, gamma=0.1, kernel=sigmoid ................................\n",
            "[CV] .... C=0.1, gamma=0.1, kernel=sigmoid, score=0.543, total=   1.6s\n",
            "[CV] C=0.1, gamma=0.1, kernel=poly ...................................\n",
            "[CV] ....... C=0.1, gamma=0.1, kernel=poly, score=0.781, total=   1.6s\n",
            "[CV] C=0.1, gamma=0.1, kernel=poly ...................................\n",
            "[CV] ....... C=0.1, gamma=0.1, kernel=poly, score=0.724, total=   1.6s\n",
            "[CV] C=0.1, gamma=0.1, kernel=poly ...................................\n",
            "[CV] ....... C=0.1, gamma=0.1, kernel=poly, score=0.781, total=   1.6s\n",
            "[CV] C=0.1, gamma=0.1, kernel=poly ...................................\n",
            "[CV] ....... C=0.1, gamma=0.1, kernel=poly, score=0.676, total=   1.6s\n",
            "[CV] C=0.1, gamma=0.1, kernel=poly ...................................\n",
            "[CV] ....... C=0.1, gamma=0.1, kernel=poly, score=0.771, total=   1.6s\n",
            "[CV] C=0.1, gamma=0.01, kernel=rbf ...................................\n",
            "[CV] ....... C=0.1, gamma=0.01, kernel=rbf, score=0.533, total=   1.5s\n",
            "[CV] C=0.1, gamma=0.01, kernel=rbf ...................................\n",
            "[CV] ....... C=0.1, gamma=0.01, kernel=rbf, score=0.543, total=   1.5s\n",
            "[CV] C=0.1, gamma=0.01, kernel=rbf ...................................\n",
            "[CV] ....... C=0.1, gamma=0.01, kernel=rbf, score=0.562, total=   1.6s\n",
            "[CV] C=0.1, gamma=0.01, kernel=rbf ...................................\n",
            "[CV] ....... C=0.1, gamma=0.01, kernel=rbf, score=0.533, total=   1.5s\n",
            "[CV] C=0.1, gamma=0.01, kernel=rbf ...................................\n",
            "[CV] ....... C=0.1, gamma=0.01, kernel=rbf, score=0.562, total=   1.5s\n",
            "[CV] C=0.1, gamma=0.01, kernel=sigmoid ...............................\n",
            "[CV] ... C=0.1, gamma=0.01, kernel=sigmoid, score=0.724, total=   1.5s\n",
            "[CV] C=0.1, gamma=0.01, kernel=sigmoid ...............................\n",
            "[CV] ... C=0.1, gamma=0.01, kernel=sigmoid, score=0.771, total=   1.5s\n",
            "[CV] C=0.1, gamma=0.01, kernel=sigmoid ...............................\n",
            "[CV] ... C=0.1, gamma=0.01, kernel=sigmoid, score=0.705, total=   1.5s\n",
            "[CV] C=0.1, gamma=0.01, kernel=sigmoid ...............................\n",
            "[CV] ... C=0.1, gamma=0.01, kernel=sigmoid, score=0.724, total=   1.5s\n",
            "[CV] C=0.1, gamma=0.01, kernel=sigmoid ...............................\n",
            "[CV] ... C=0.1, gamma=0.01, kernel=sigmoid, score=0.810, total=   1.5s\n",
            "[CV] C=0.1, gamma=0.01, kernel=poly ..................................\n",
            "[CV] ...... C=0.1, gamma=0.01, kernel=poly, score=0.762, total=   1.5s\n",
            "[CV] C=0.1, gamma=0.01, kernel=poly ..................................\n",
            "[CV] ...... C=0.1, gamma=0.01, kernel=poly, score=0.762, total=   1.5s\n",
            "[CV] C=0.1, gamma=0.01, kernel=poly ..................................\n",
            "[CV] ...... C=0.1, gamma=0.01, kernel=poly, score=0.686, total=   1.5s\n",
            "[CV] C=0.1, gamma=0.01, kernel=poly ..................................\n",
            "[CV] ...... C=0.1, gamma=0.01, kernel=poly, score=0.686, total=   1.5s\n",
            "[CV] C=0.1, gamma=0.01, kernel=poly ..................................\n",
            "[CV] ...... C=0.1, gamma=0.01, kernel=poly, score=0.800, total=   1.5s\n",
            "[CV] C=0.1, gamma=0.001, kernel=rbf ..................................\n",
            "[CV] ...... C=0.1, gamma=0.001, kernel=rbf, score=0.533, total=   1.6s\n",
            "[CV] C=0.1, gamma=0.001, kernel=rbf ..................................\n",
            "[CV] ...... C=0.1, gamma=0.001, kernel=rbf, score=0.543, total=   1.5s\n",
            "[CV] C=0.1, gamma=0.001, kernel=rbf ..................................\n",
            "[CV] ...... C=0.1, gamma=0.001, kernel=rbf, score=0.543, total=   1.6s\n",
            "[CV] C=0.1, gamma=0.001, kernel=rbf ..................................\n",
            "[CV] ...... C=0.1, gamma=0.001, kernel=rbf, score=0.543, total=   1.5s\n",
            "[CV] C=0.1, gamma=0.001, kernel=rbf ..................................\n",
            "[CV] ...... C=0.1, gamma=0.001, kernel=rbf, score=0.543, total=   1.5s\n",
            "[CV] C=0.1, gamma=0.001, kernel=sigmoid ..............................\n",
            "[CV] .. C=0.1, gamma=0.001, kernel=sigmoid, score=0.533, total=   1.5s\n",
            "[CV] C=0.1, gamma=0.001, kernel=sigmoid ..............................\n",
            "[CV] .. C=0.1, gamma=0.001, kernel=sigmoid, score=0.543, total=   1.5s\n",
            "[CV] C=0.1, gamma=0.001, kernel=sigmoid ..............................\n",
            "[CV] .. C=0.1, gamma=0.001, kernel=sigmoid, score=0.543, total=   1.5s\n",
            "[CV] C=0.1, gamma=0.001, kernel=sigmoid ..............................\n",
            "[CV] .. C=0.1, gamma=0.001, kernel=sigmoid, score=0.543, total=   1.5s\n",
            "[CV] C=0.1, gamma=0.001, kernel=sigmoid ..............................\n",
            "[CV] .. C=0.1, gamma=0.001, kernel=sigmoid, score=0.543, total=   1.5s\n",
            "[CV] C=0.1, gamma=0.001, kernel=poly .................................\n",
            "[CV] ..... C=0.1, gamma=0.001, kernel=poly, score=0.533, total=   1.5s\n",
            "[CV] C=0.1, gamma=0.001, kernel=poly .................................\n",
            "[CV] ..... C=0.1, gamma=0.001, kernel=poly, score=0.543, total=   1.5s\n",
            "[CV] C=0.1, gamma=0.001, kernel=poly .................................\n",
            "[CV] ..... C=0.1, gamma=0.001, kernel=poly, score=0.543, total=   1.5s\n",
            "[CV] C=0.1, gamma=0.001, kernel=poly .................................\n",
            "[CV] ..... C=0.1, gamma=0.001, kernel=poly, score=0.543, total=   1.5s\n",
            "[CV] C=0.1, gamma=0.001, kernel=poly .................................\n",
            "[CV] ..... C=0.1, gamma=0.001, kernel=poly, score=0.543, total=   1.5s\n",
            "[CV] C=0.1, gamma=0.0001, kernel=rbf .................................\n",
            "[CV] ..... C=0.1, gamma=0.0001, kernel=rbf, score=0.533, total=   1.5s\n",
            "[CV] C=0.1, gamma=0.0001, kernel=rbf .................................\n",
            "[CV] ..... C=0.1, gamma=0.0001, kernel=rbf, score=0.543, total=   1.5s\n",
            "[CV] C=0.1, gamma=0.0001, kernel=rbf .................................\n",
            "[CV] ..... C=0.1, gamma=0.0001, kernel=rbf, score=0.543, total=   1.5s\n",
            "[CV] C=0.1, gamma=0.0001, kernel=rbf .................................\n",
            "[CV] ..... C=0.1, gamma=0.0001, kernel=rbf, score=0.543, total=   1.5s\n",
            "[CV] C=0.1, gamma=0.0001, kernel=rbf .................................\n",
            "[CV] ..... C=0.1, gamma=0.0001, kernel=rbf, score=0.543, total=   1.5s\n",
            "[CV] C=0.1, gamma=0.0001, kernel=sigmoid .............................\n",
            "[CV] . C=0.1, gamma=0.0001, kernel=sigmoid, score=0.533, total=   1.5s\n",
            "[CV] C=0.1, gamma=0.0001, kernel=sigmoid .............................\n",
            "[CV] . C=0.1, gamma=0.0001, kernel=sigmoid, score=0.543, total=   1.5s\n",
            "[CV] C=0.1, gamma=0.0001, kernel=sigmoid .............................\n",
            "[CV] . C=0.1, gamma=0.0001, kernel=sigmoid, score=0.543, total=   1.5s\n",
            "[CV] C=0.1, gamma=0.0001, kernel=sigmoid .............................\n",
            "[CV] . C=0.1, gamma=0.0001, kernel=sigmoid, score=0.543, total=   1.5s\n",
            "[CV] C=0.1, gamma=0.0001, kernel=sigmoid .............................\n",
            "[CV] . C=0.1, gamma=0.0001, kernel=sigmoid, score=0.543, total=   1.5s\n",
            "[CV] C=0.1, gamma=0.0001, kernel=poly ................................\n",
            "[CV] .... C=0.1, gamma=0.0001, kernel=poly, score=0.533, total=   1.5s\n",
            "[CV] C=0.1, gamma=0.0001, kernel=poly ................................\n",
            "[CV] .... C=0.1, gamma=0.0001, kernel=poly, score=0.543, total=   1.5s\n",
            "[CV] C=0.1, gamma=0.0001, kernel=poly ................................\n",
            "[CV] .... C=0.1, gamma=0.0001, kernel=poly, score=0.543, total=   1.5s\n",
            "[CV] C=0.1, gamma=0.0001, kernel=poly ................................\n",
            "[CV] .... C=0.1, gamma=0.0001, kernel=poly, score=0.543, total=   1.5s\n",
            "[CV] C=0.1, gamma=0.0001, kernel=poly ................................\n",
            "[CV] .... C=0.1, gamma=0.0001, kernel=poly, score=0.543, total=   1.5s\n",
            "[CV] C=1, gamma=1, kernel=rbf ........................................\n",
            "[CV] ............ C=1, gamma=1, kernel=rbf, score=0.533, total=   1.6s\n",
            "[CV] C=1, gamma=1, kernel=rbf ........................................\n",
            "[CV] ............ C=1, gamma=1, kernel=rbf, score=0.543, total=   1.6s\n",
            "[CV] C=1, gamma=1, kernel=rbf ........................................\n",
            "[CV] ............ C=1, gamma=1, kernel=rbf, score=0.543, total=   1.6s\n",
            "[CV] C=1, gamma=1, kernel=rbf ........................................\n",
            "[CV] ............ C=1, gamma=1, kernel=rbf, score=0.543, total=   1.6s\n",
            "[CV] C=1, gamma=1, kernel=rbf ........................................\n",
            "[CV] ............ C=1, gamma=1, kernel=rbf, score=0.543, total=   1.6s\n",
            "[CV] C=1, gamma=1, kernel=sigmoid ....................................\n",
            "[CV] ........ C=1, gamma=1, kernel=sigmoid, score=0.533, total=   1.5s\n",
            "[CV] C=1, gamma=1, kernel=sigmoid ....................................\n",
            "[CV] ........ C=1, gamma=1, kernel=sigmoid, score=0.543, total=   1.5s\n",
            "[CV] C=1, gamma=1, kernel=sigmoid ....................................\n",
            "[CV] ........ C=1, gamma=1, kernel=sigmoid, score=0.543, total=   1.5s\n",
            "[CV] C=1, gamma=1, kernel=sigmoid ....................................\n",
            "[CV] ........ C=1, gamma=1, kernel=sigmoid, score=0.543, total=   1.5s\n",
            "[CV] C=1, gamma=1, kernel=sigmoid ....................................\n",
            "[CV] ........ C=1, gamma=1, kernel=sigmoid, score=0.543, total=   1.5s\n",
            "[CV] C=1, gamma=1, kernel=poly .......................................\n",
            "[CV] ........... C=1, gamma=1, kernel=poly, score=0.781, total=   1.6s\n",
            "[CV] C=1, gamma=1, kernel=poly .......................................\n",
            "[CV] ........... C=1, gamma=1, kernel=poly, score=0.724, total=   1.6s\n",
            "[CV] C=1, gamma=1, kernel=poly .......................................\n",
            "[CV] ........... C=1, gamma=1, kernel=poly, score=0.781, total=   1.6s\n",
            "[CV] C=1, gamma=1, kernel=poly .......................................\n",
            "[CV] ........... C=1, gamma=1, kernel=poly, score=0.676, total=   1.6s\n",
            "[CV] C=1, gamma=1, kernel=poly .......................................\n",
            "[CV] ........... C=1, gamma=1, kernel=poly, score=0.771, total=   1.6s\n",
            "[CV] C=1, gamma=0.1, kernel=rbf ......................................\n",
            "[CV] .......... C=1, gamma=0.1, kernel=rbf, score=0.533, total=   1.6s\n",
            "[CV] C=1, gamma=0.1, kernel=rbf ......................................\n",
            "[CV] .......... C=1, gamma=0.1, kernel=rbf, score=0.543, total=   1.6s\n",
            "[CV] C=1, gamma=0.1, kernel=rbf ......................................\n",
            "[CV] .......... C=1, gamma=0.1, kernel=rbf, score=0.543, total=   1.6s\n",
            "[CV] C=1, gamma=0.1, kernel=rbf ......................................\n",
            "[CV] .......... C=1, gamma=0.1, kernel=rbf, score=0.543, total=   1.6s\n",
            "[CV] C=1, gamma=0.1, kernel=rbf ......................................\n",
            "[CV] .......... C=1, gamma=0.1, kernel=rbf, score=0.543, total=   1.6s\n",
            "[CV] C=1, gamma=0.1, kernel=sigmoid ..................................\n",
            "[CV] ...... C=1, gamma=0.1, kernel=sigmoid, score=0.533, total=   1.6s\n",
            "[CV] C=1, gamma=0.1, kernel=sigmoid ..................................\n",
            "[CV] ...... C=1, gamma=0.1, kernel=sigmoid, score=0.543, total=   1.6s\n",
            "[CV] C=1, gamma=0.1, kernel=sigmoid ..................................\n",
            "[CV] ...... C=1, gamma=0.1, kernel=sigmoid, score=0.543, total=   1.6s\n",
            "[CV] C=1, gamma=0.1, kernel=sigmoid ..................................\n",
            "[CV] ...... C=1, gamma=0.1, kernel=sigmoid, score=0.552, total=   1.6s\n",
            "[CV] C=1, gamma=0.1, kernel=sigmoid ..................................\n",
            "[CV] ...... C=1, gamma=0.1, kernel=sigmoid, score=0.543, total=   1.6s\n",
            "[CV] C=1, gamma=0.1, kernel=poly .....................................\n",
            "[CV] ......... C=1, gamma=0.1, kernel=poly, score=0.781, total=   1.6s\n",
            "[CV] C=1, gamma=0.1, kernel=poly .....................................\n",
            "[CV] ......... C=1, gamma=0.1, kernel=poly, score=0.724, total=   1.6s\n",
            "[CV] C=1, gamma=0.1, kernel=poly .....................................\n",
            "[CV] ......... C=1, gamma=0.1, kernel=poly, score=0.781, total=   1.6s\n",
            "[CV] C=1, gamma=0.1, kernel=poly .....................................\n",
            "[CV] ......... C=1, gamma=0.1, kernel=poly, score=0.676, total=   1.6s\n",
            "[CV] C=1, gamma=0.1, kernel=poly .....................................\n",
            "[CV] ......... C=1, gamma=0.1, kernel=poly, score=0.771, total=   1.6s\n",
            "[CV] C=1, gamma=0.01, kernel=rbf .....................................\n",
            "[CV] ......... C=1, gamma=0.01, kernel=rbf, score=0.800, total=   1.5s\n",
            "[CV] C=1, gamma=0.01, kernel=rbf .....................................\n",
            "[CV] ......... C=1, gamma=0.01, kernel=rbf, score=0.714, total=   1.6s\n",
            "[CV] C=1, gamma=0.01, kernel=rbf .....................................\n",
            "[CV] ......... C=1, gamma=0.01, kernel=rbf, score=0.752, total=   1.5s\n",
            "[CV] C=1, gamma=0.01, kernel=rbf .....................................\n",
            "[CV] ......... C=1, gamma=0.01, kernel=rbf, score=0.733, total=   1.5s\n",
            "[CV] C=1, gamma=0.01, kernel=rbf .....................................\n",
            "[CV] ......... C=1, gamma=0.01, kernel=rbf, score=0.800, total=   1.5s\n",
            "[CV] C=1, gamma=0.01, kernel=sigmoid .................................\n",
            "[CV] ..... C=1, gamma=0.01, kernel=sigmoid, score=0.752, total=   1.1s\n",
            "[CV] C=1, gamma=0.01, kernel=sigmoid .................................\n",
            "[CV] ..... C=1, gamma=0.01, kernel=sigmoid, score=0.752, total=   1.1s\n",
            "[CV] C=1, gamma=0.01, kernel=sigmoid .................................\n",
            "[CV] ..... C=1, gamma=0.01, kernel=sigmoid, score=0.686, total=   1.1s\n",
            "[CV] C=1, gamma=0.01, kernel=sigmoid .................................\n",
            "[CV] ..... C=1, gamma=0.01, kernel=sigmoid, score=0.733, total=   1.1s\n",
            "[CV] C=1, gamma=0.01, kernel=sigmoid .................................\n",
            "[CV] ..... C=1, gamma=0.01, kernel=sigmoid, score=0.819, total=   1.2s\n",
            "[CV] C=1, gamma=0.01, kernel=poly ....................................\n",
            "[CV] ........ C=1, gamma=0.01, kernel=poly, score=0.781, total=   1.6s\n",
            "[CV] C=1, gamma=0.01, kernel=poly ....................................\n",
            "[CV] ........ C=1, gamma=0.01, kernel=poly, score=0.724, total=   1.6s\n",
            "[CV] C=1, gamma=0.01, kernel=poly ....................................\n",
            "[CV] ........ C=1, gamma=0.01, kernel=poly, score=0.781, total=   1.6s\n",
            "[CV] C=1, gamma=0.01, kernel=poly ....................................\n",
            "[CV] ........ C=1, gamma=0.01, kernel=poly, score=0.676, total=   1.6s\n",
            "[CV] C=1, gamma=0.01, kernel=poly ....................................\n",
            "[CV] ........ C=1, gamma=0.01, kernel=poly, score=0.771, total=   1.6s\n",
            "[CV] C=1, gamma=0.001, kernel=rbf ....................................\n",
            "[CV] ........ C=1, gamma=0.001, kernel=rbf, score=0.771, total=   1.4s\n",
            "[CV] C=1, gamma=0.001, kernel=rbf ....................................\n",
            "[CV] ........ C=1, gamma=0.001, kernel=rbf, score=0.762, total=   1.3s\n",
            "[CV] C=1, gamma=0.001, kernel=rbf ....................................\n",
            "[CV] ........ C=1, gamma=0.001, kernel=rbf, score=0.724, total=   1.3s\n",
            "[CV] C=1, gamma=0.001, kernel=rbf ....................................\n",
            "[CV] ........ C=1, gamma=0.001, kernel=rbf, score=0.733, total=   1.3s\n",
            "[CV] C=1, gamma=0.001, kernel=rbf ....................................\n",
            "[CV] ........ C=1, gamma=0.001, kernel=rbf, score=0.819, total=   1.3s\n",
            "[CV] C=1, gamma=0.001, kernel=sigmoid ................................\n",
            "[CV] .... C=1, gamma=0.001, kernel=sigmoid, score=0.781, total=   1.4s\n",
            "[CV] C=1, gamma=0.001, kernel=sigmoid ................................\n",
            "[CV] .... C=1, gamma=0.001, kernel=sigmoid, score=0.752, total=   1.4s\n",
            "[CV] C=1, gamma=0.001, kernel=sigmoid ................................\n",
            "[CV] .... C=1, gamma=0.001, kernel=sigmoid, score=0.714, total=   1.4s\n",
            "[CV] C=1, gamma=0.001, kernel=sigmoid ................................\n",
            "[CV] .... C=1, gamma=0.001, kernel=sigmoid, score=0.743, total=   1.4s\n",
            "[CV] C=1, gamma=0.001, kernel=sigmoid ................................\n",
            "[CV] .... C=1, gamma=0.001, kernel=sigmoid, score=0.819, total=   1.4s\n",
            "[CV] C=1, gamma=0.001, kernel=poly ...................................\n",
            "[CV] ....... C=1, gamma=0.001, kernel=poly, score=0.533, total=   1.6s\n",
            "[CV] C=1, gamma=0.001, kernel=poly ...................................\n",
            "[CV] ....... C=1, gamma=0.001, kernel=poly, score=0.543, total=   1.6s\n",
            "[CV] C=1, gamma=0.001, kernel=poly ...................................\n",
            "[CV] ....... C=1, gamma=0.001, kernel=poly, score=0.543, total=   1.6s\n",
            "[CV] C=1, gamma=0.001, kernel=poly ...................................\n",
            "[CV] ....... C=1, gamma=0.001, kernel=poly, score=0.543, total=   1.6s\n",
            "[CV] C=1, gamma=0.001, kernel=poly ...................................\n",
            "[CV] ....... C=1, gamma=0.001, kernel=poly, score=0.543, total=   1.6s\n",
            "[CV] C=1, gamma=0.0001, kernel=rbf ...................................\n",
            "[CV] ....... C=1, gamma=0.0001, kernel=rbf, score=0.533, total=   1.5s\n",
            "[CV] C=1, gamma=0.0001, kernel=rbf ...................................\n",
            "[CV] ....... C=1, gamma=0.0001, kernel=rbf, score=0.543, total=   1.5s\n",
            "[CV] C=1, gamma=0.0001, kernel=rbf ...................................\n",
            "[CV] ....... C=1, gamma=0.0001, kernel=rbf, score=0.543, total=   1.5s\n",
            "[CV] C=1, gamma=0.0001, kernel=rbf ...................................\n",
            "[CV] ....... C=1, gamma=0.0001, kernel=rbf, score=0.543, total=   1.5s\n",
            "[CV] C=1, gamma=0.0001, kernel=rbf ...................................\n",
            "[CV] ....... C=1, gamma=0.0001, kernel=rbf, score=0.543, total=   1.5s\n",
            "[CV] C=1, gamma=0.0001, kernel=sigmoid ...............................\n",
            "[CV] ... C=1, gamma=0.0001, kernel=sigmoid, score=0.533, total=   1.5s\n",
            "[CV] C=1, gamma=0.0001, kernel=sigmoid ...............................\n",
            "[CV] ... C=1, gamma=0.0001, kernel=sigmoid, score=0.543, total=   1.5s\n",
            "[CV] C=1, gamma=0.0001, kernel=sigmoid ...............................\n",
            "[CV] ... C=1, gamma=0.0001, kernel=sigmoid, score=0.543, total=   1.5s\n",
            "[CV] C=1, gamma=0.0001, kernel=sigmoid ...............................\n",
            "[CV] ... C=1, gamma=0.0001, kernel=sigmoid, score=0.543, total=   1.5s\n",
            "[CV] C=1, gamma=0.0001, kernel=sigmoid ...............................\n",
            "[CV] ... C=1, gamma=0.0001, kernel=sigmoid, score=0.543, total=   1.5s\n",
            "[CV] C=1, gamma=0.0001, kernel=poly ..................................\n",
            "[CV] ...... C=1, gamma=0.0001, kernel=poly, score=0.533, total=   1.5s\n",
            "[CV] C=1, gamma=0.0001, kernel=poly ..................................\n",
            "[CV] ...... C=1, gamma=0.0001, kernel=poly, score=0.543, total=   1.5s\n",
            "[CV] C=1, gamma=0.0001, kernel=poly ..................................\n",
            "[CV] ...... C=1, gamma=0.0001, kernel=poly, score=0.543, total=   1.5s\n",
            "[CV] C=1, gamma=0.0001, kernel=poly ..................................\n",
            "[CV] ...... C=1, gamma=0.0001, kernel=poly, score=0.543, total=   1.5s\n",
            "[CV] C=1, gamma=0.0001, kernel=poly ..................................\n",
            "[CV] ...... C=1, gamma=0.0001, kernel=poly, score=0.543, total=   1.5s\n",
            "[CV] C=10, gamma=1, kernel=rbf .......................................\n",
            "[CV] ........... C=10, gamma=1, kernel=rbf, score=0.533, total=   1.6s\n",
            "[CV] C=10, gamma=1, kernel=rbf .......................................\n",
            "[CV] ........... C=10, gamma=1, kernel=rbf, score=0.543, total=   1.7s\n",
            "[CV] C=10, gamma=1, kernel=rbf .......................................\n",
            "[CV] ........... C=10, gamma=1, kernel=rbf, score=0.543, total=   1.7s\n",
            "[CV] C=10, gamma=1, kernel=rbf .......................................\n",
            "[CV] ........... C=10, gamma=1, kernel=rbf, score=0.543, total=   1.7s\n",
            "[CV] C=10, gamma=1, kernel=rbf .......................................\n",
            "[CV] ........... C=10, gamma=1, kernel=rbf, score=0.543, total=   1.7s\n",
            "[CV] C=10, gamma=1, kernel=sigmoid ...................................\n",
            "[CV] ....... C=10, gamma=1, kernel=sigmoid, score=0.533, total=   1.5s\n",
            "[CV] C=10, gamma=1, kernel=sigmoid ...................................\n",
            "[CV] ....... C=10, gamma=1, kernel=sigmoid, score=0.543, total=   1.5s\n",
            "[CV] C=10, gamma=1, kernel=sigmoid ...................................\n",
            "[CV] ....... C=10, gamma=1, kernel=sigmoid, score=0.543, total=   1.5s\n",
            "[CV] C=10, gamma=1, kernel=sigmoid ...................................\n",
            "[CV] ....... C=10, gamma=1, kernel=sigmoid, score=0.543, total=   1.5s\n",
            "[CV] C=10, gamma=1, kernel=sigmoid ...................................\n",
            "[CV] ....... C=10, gamma=1, kernel=sigmoid, score=0.543, total=   1.5s\n",
            "[CV] C=10, gamma=1, kernel=poly ......................................\n",
            "[CV] .......... C=10, gamma=1, kernel=poly, score=0.781, total=   1.6s\n",
            "[CV] C=10, gamma=1, kernel=poly ......................................\n",
            "[CV] .......... C=10, gamma=1, kernel=poly, score=0.724, total=   1.6s\n",
            "[CV] C=10, gamma=1, kernel=poly ......................................\n",
            "[CV] .......... C=10, gamma=1, kernel=poly, score=0.781, total=   1.6s\n",
            "[CV] C=10, gamma=1, kernel=poly ......................................\n",
            "[CV] .......... C=10, gamma=1, kernel=poly, score=0.676, total=   1.6s\n",
            "[CV] C=10, gamma=1, kernel=poly ......................................\n",
            "[CV] .......... C=10, gamma=1, kernel=poly, score=0.771, total=   1.6s\n",
            "[CV] C=10, gamma=0.1, kernel=rbf .....................................\n",
            "[CV] ......... C=10, gamma=0.1, kernel=rbf, score=0.533, total=   1.6s\n",
            "[CV] C=10, gamma=0.1, kernel=rbf .....................................\n",
            "[CV] ......... C=10, gamma=0.1, kernel=rbf, score=0.543, total=   1.6s\n",
            "[CV] C=10, gamma=0.1, kernel=rbf .....................................\n",
            "[CV] ......... C=10, gamma=0.1, kernel=rbf, score=0.543, total=   1.6s\n",
            "[CV] C=10, gamma=0.1, kernel=rbf .....................................\n",
            "[CV] ......... C=10, gamma=0.1, kernel=rbf, score=0.543, total=   1.6s\n",
            "[CV] C=10, gamma=0.1, kernel=rbf .....................................\n",
            "[CV] ......... C=10, gamma=0.1, kernel=rbf, score=0.543, total=   1.6s\n",
            "[CV] C=10, gamma=0.1, kernel=sigmoid .................................\n",
            "[CV] ..... C=10, gamma=0.1, kernel=sigmoid, score=0.524, total=   1.3s\n",
            "[CV] C=10, gamma=0.1, kernel=sigmoid .................................\n",
            "[CV] ..... C=10, gamma=0.1, kernel=sigmoid, score=0.514, total=   1.2s\n",
            "[CV] C=10, gamma=0.1, kernel=sigmoid .................................\n",
            "[CV] ..... C=10, gamma=0.1, kernel=sigmoid, score=0.562, total=   1.3s\n",
            "[CV] C=10, gamma=0.1, kernel=sigmoid .................................\n",
            "[CV] ..... C=10, gamma=0.1, kernel=sigmoid, score=0.590, total=   1.3s\n",
            "[CV] C=10, gamma=0.1, kernel=sigmoid .................................\n",
            "[CV] ..... C=10, gamma=0.1, kernel=sigmoid, score=0.533, total=   1.2s\n",
            "[CV] C=10, gamma=0.1, kernel=poly ....................................\n",
            "[CV] ........ C=10, gamma=0.1, kernel=poly, score=0.781, total=   1.6s\n",
            "[CV] C=10, gamma=0.1, kernel=poly ....................................\n",
            "[CV] ........ C=10, gamma=0.1, kernel=poly, score=0.724, total=   1.6s\n",
            "[CV] C=10, gamma=0.1, kernel=poly ....................................\n",
            "[CV] ........ C=10, gamma=0.1, kernel=poly, score=0.781, total=   1.6s\n",
            "[CV] C=10, gamma=0.1, kernel=poly ....................................\n",
            "[CV] ........ C=10, gamma=0.1, kernel=poly, score=0.676, total=   1.6s\n",
            "[CV] C=10, gamma=0.1, kernel=poly ....................................\n",
            "[CV] ........ C=10, gamma=0.1, kernel=poly, score=0.771, total=   1.6s\n",
            "[CV] C=10, gamma=0.01, kernel=rbf ....................................\n",
            "[CV] ........ C=10, gamma=0.01, kernel=rbf, score=0.800, total=   1.6s\n",
            "[CV] C=10, gamma=0.01, kernel=rbf ....................................\n",
            "[CV] ........ C=10, gamma=0.01, kernel=rbf, score=0.705, total=   1.6s\n",
            "[CV] C=10, gamma=0.01, kernel=rbf ....................................\n",
            "[CV] ........ C=10, gamma=0.01, kernel=rbf, score=0.752, total=   1.6s\n",
            "[CV] C=10, gamma=0.01, kernel=rbf ....................................\n",
            "[CV] ........ C=10, gamma=0.01, kernel=rbf, score=0.714, total=   1.6s\n",
            "[CV] C=10, gamma=0.01, kernel=rbf ....................................\n",
            "[CV] ........ C=10, gamma=0.01, kernel=rbf, score=0.762, total=   1.6s\n",
            "[CV] C=10, gamma=0.01, kernel=sigmoid ................................\n",
            "[CV] .... C=10, gamma=0.01, kernel=sigmoid, score=0.705, total=   0.9s\n",
            "[CV] C=10, gamma=0.01, kernel=sigmoid ................................\n",
            "[CV] .... C=10, gamma=0.01, kernel=sigmoid, score=0.667, total=   0.9s\n",
            "[CV] C=10, gamma=0.01, kernel=sigmoid ................................\n",
            "[CV] .... C=10, gamma=0.01, kernel=sigmoid, score=0.600, total=   0.9s\n",
            "[CV] C=10, gamma=0.01, kernel=sigmoid ................................\n",
            "[CV] .... C=10, gamma=0.01, kernel=sigmoid, score=0.648, total=   0.9s\n",
            "[CV] C=10, gamma=0.01, kernel=sigmoid ................................\n",
            "[CV] .... C=10, gamma=0.01, kernel=sigmoid, score=0.724, total=   0.9s\n",
            "[CV] C=10, gamma=0.01, kernel=poly ...................................\n",
            "[CV] ....... C=10, gamma=0.01, kernel=poly, score=0.781, total=   1.6s\n",
            "[CV] C=10, gamma=0.01, kernel=poly ...................................\n",
            "[CV] ....... C=10, gamma=0.01, kernel=poly, score=0.724, total=   1.6s\n",
            "[CV] C=10, gamma=0.01, kernel=poly ...................................\n",
            "[CV] ....... C=10, gamma=0.01, kernel=poly, score=0.781, total=   1.6s\n",
            "[CV] C=10, gamma=0.01, kernel=poly ...................................\n",
            "[CV] ....... C=10, gamma=0.01, kernel=poly, score=0.676, total=   1.6s\n",
            "[CV] C=10, gamma=0.01, kernel=poly ...................................\n",
            "[CV] ....... C=10, gamma=0.01, kernel=poly, score=0.771, total=   1.6s\n",
            "[CV] C=10, gamma=0.001, kernel=rbf ...................................\n",
            "[CV] ....... C=10, gamma=0.001, kernel=rbf, score=0.771, total=   1.3s\n",
            "[CV] C=10, gamma=0.001, kernel=rbf ...................................\n",
            "[CV] ....... C=10, gamma=0.001, kernel=rbf, score=0.695, total=   1.3s\n",
            "[CV] C=10, gamma=0.001, kernel=rbf ...................................\n",
            "[CV] ....... C=10, gamma=0.001, kernel=rbf, score=0.743, total=   1.3s\n",
            "[CV] C=10, gamma=0.001, kernel=rbf ...................................\n",
            "[CV] ....... C=10, gamma=0.001, kernel=rbf, score=0.733, total=   1.2s\n",
            "[CV] C=10, gamma=0.001, kernel=rbf ...................................\n",
            "[CV] ....... C=10, gamma=0.001, kernel=rbf, score=0.771, total=   1.3s\n",
            "[CV] C=10, gamma=0.001, kernel=sigmoid ...............................\n",
            "[CV] ... C=10, gamma=0.001, kernel=sigmoid, score=0.790, total=   1.2s\n",
            "[CV] C=10, gamma=0.001, kernel=sigmoid ...............................\n",
            "[CV] ... C=10, gamma=0.001, kernel=sigmoid, score=0.714, total=   1.2s\n",
            "[CV] C=10, gamma=0.001, kernel=sigmoid ...............................\n",
            "[CV] ... C=10, gamma=0.001, kernel=sigmoid, score=0.762, total=   1.2s\n",
            "[CV] C=10, gamma=0.001, kernel=sigmoid ...............................\n",
            "[CV] ... C=10, gamma=0.001, kernel=sigmoid, score=0.743, total=   1.2s\n",
            "[CV] C=10, gamma=0.001, kernel=sigmoid ...............................\n",
            "[CV] ... C=10, gamma=0.001, kernel=sigmoid, score=0.790, total=   1.2s\n",
            "[CV] C=10, gamma=0.001, kernel=poly ..................................\n",
            "[CV] ...... C=10, gamma=0.001, kernel=poly, score=0.533, total=   1.6s\n",
            "[CV] C=10, gamma=0.001, kernel=poly ..................................\n",
            "[CV] ...... C=10, gamma=0.001, kernel=poly, score=0.543, total=   1.6s\n",
            "[CV] C=10, gamma=0.001, kernel=poly ..................................\n",
            "[CV] ...... C=10, gamma=0.001, kernel=poly, score=0.543, total=   1.6s\n",
            "[CV] C=10, gamma=0.001, kernel=poly ..................................\n",
            "[CV] ...... C=10, gamma=0.001, kernel=poly, score=0.543, total=   1.6s\n",
            "[CV] C=10, gamma=0.001, kernel=poly ..................................\n",
            "[CV] ...... C=10, gamma=0.001, kernel=poly, score=0.543, total=   1.6s\n",
            "[CV] C=10, gamma=0.0001, kernel=rbf ..................................\n",
            "[CV] ...... C=10, gamma=0.0001, kernel=rbf, score=0.771, total=   1.3s\n",
            "[CV] C=10, gamma=0.0001, kernel=rbf ..................................\n",
            "[CV] ...... C=10, gamma=0.0001, kernel=rbf, score=0.752, total=   1.3s\n",
            "[CV] C=10, gamma=0.0001, kernel=rbf ..................................\n",
            "[CV] ...... C=10, gamma=0.0001, kernel=rbf, score=0.714, total=   1.3s\n",
            "[CV] C=10, gamma=0.0001, kernel=rbf ..................................\n",
            "[CV] ...... C=10, gamma=0.0001, kernel=rbf, score=0.733, total=   1.3s\n",
            "[CV] C=10, gamma=0.0001, kernel=rbf ..................................\n",
            "[CV] ...... C=10, gamma=0.0001, kernel=rbf, score=0.819, total=   1.3s\n",
            "[CV] C=10, gamma=0.0001, kernel=sigmoid ..............................\n",
            "[CV] .. C=10, gamma=0.0001, kernel=sigmoid, score=0.781, total=   1.4s\n",
            "[CV] C=10, gamma=0.0001, kernel=sigmoid ..............................\n",
            "[CV] .. C=10, gamma=0.0001, kernel=sigmoid, score=0.752, total=   1.4s\n",
            "[CV] C=10, gamma=0.0001, kernel=sigmoid ..............................\n",
            "[CV] .. C=10, gamma=0.0001, kernel=sigmoid, score=0.714, total=   1.4s\n",
            "[CV] C=10, gamma=0.0001, kernel=sigmoid ..............................\n",
            "[CV] .. C=10, gamma=0.0001, kernel=sigmoid, score=0.743, total=   1.4s\n",
            "[CV] C=10, gamma=0.0001, kernel=sigmoid ..............................\n",
            "[CV] .. C=10, gamma=0.0001, kernel=sigmoid, score=0.819, total=   1.4s\n",
            "[CV] C=10, gamma=0.0001, kernel=poly .................................\n",
            "[CV] ..... C=10, gamma=0.0001, kernel=poly, score=0.533, total=   1.5s\n",
            "[CV] C=10, gamma=0.0001, kernel=poly .................................\n",
            "[CV] ..... C=10, gamma=0.0001, kernel=poly, score=0.543, total=   1.5s\n",
            "[CV] C=10, gamma=0.0001, kernel=poly .................................\n",
            "[CV] ..... C=10, gamma=0.0001, kernel=poly, score=0.543, total=   1.5s\n",
            "[CV] C=10, gamma=0.0001, kernel=poly .................................\n",
            "[CV] ..... C=10, gamma=0.0001, kernel=poly, score=0.543, total=   1.5s\n",
            "[CV] C=10, gamma=0.0001, kernel=poly .................................\n",
            "[CV] ..... C=10, gamma=0.0001, kernel=poly, score=0.543, total=   1.5s\n",
            "[CV] C=100, gamma=1, kernel=rbf ......................................\n",
            "[CV] .......... C=100, gamma=1, kernel=rbf, score=0.533, total=   1.6s\n",
            "[CV] C=100, gamma=1, kernel=rbf ......................................\n",
            "[CV] .......... C=100, gamma=1, kernel=rbf, score=0.543, total=   1.6s\n",
            "[CV] C=100, gamma=1, kernel=rbf ......................................\n",
            "[CV] .......... C=100, gamma=1, kernel=rbf, score=0.543, total=   1.6s\n",
            "[CV] C=100, gamma=1, kernel=rbf ......................................\n",
            "[CV] .......... C=100, gamma=1, kernel=rbf, score=0.543, total=   1.6s\n",
            "[CV] C=100, gamma=1, kernel=rbf ......................................\n",
            "[CV] .......... C=100, gamma=1, kernel=rbf, score=0.543, total=   1.6s\n",
            "[CV] C=100, gamma=1, kernel=sigmoid ..................................\n",
            "[CV] ...... C=100, gamma=1, kernel=sigmoid, score=0.533, total=   1.5s\n",
            "[CV] C=100, gamma=1, kernel=sigmoid ..................................\n",
            "[CV] ...... C=100, gamma=1, kernel=sigmoid, score=0.543, total=   1.5s\n",
            "[CV] C=100, gamma=1, kernel=sigmoid ..................................\n",
            "[CV] ...... C=100, gamma=1, kernel=sigmoid, score=0.543, total=   1.5s\n",
            "[CV] C=100, gamma=1, kernel=sigmoid ..................................\n",
            "[CV] ...... C=100, gamma=1, kernel=sigmoid, score=0.543, total=   1.5s\n",
            "[CV] C=100, gamma=1, kernel=sigmoid ..................................\n",
            "[CV] ...... C=100, gamma=1, kernel=sigmoid, score=0.543, total=   1.5s\n",
            "[CV] C=100, gamma=1, kernel=poly .....................................\n",
            "[CV] ......... C=100, gamma=1, kernel=poly, score=0.781, total=   1.6s\n",
            "[CV] C=100, gamma=1, kernel=poly .....................................\n",
            "[CV] ......... C=100, gamma=1, kernel=poly, score=0.724, total=   1.6s\n",
            "[CV] C=100, gamma=1, kernel=poly .....................................\n",
            "[CV] ......... C=100, gamma=1, kernel=poly, score=0.781, total=   1.6s\n",
            "[CV] C=100, gamma=1, kernel=poly .....................................\n",
            "[CV] ......... C=100, gamma=1, kernel=poly, score=0.676, total=   1.6s\n",
            "[CV] C=100, gamma=1, kernel=poly .....................................\n",
            "[CV] ......... C=100, gamma=1, kernel=poly, score=0.771, total=   1.6s\n",
            "[CV] C=100, gamma=0.1, kernel=rbf ....................................\n",
            "[CV] ........ C=100, gamma=0.1, kernel=rbf, score=0.533, total=   1.6s\n",
            "[CV] C=100, gamma=0.1, kernel=rbf ....................................\n",
            "[CV] ........ C=100, gamma=0.1, kernel=rbf, score=0.543, total=   1.7s\n",
            "[CV] C=100, gamma=0.1, kernel=rbf ....................................\n",
            "[CV] ........ C=100, gamma=0.1, kernel=rbf, score=0.543, total=   1.7s\n",
            "[CV] C=100, gamma=0.1, kernel=rbf ....................................\n",
            "[CV] ........ C=100, gamma=0.1, kernel=rbf, score=0.543, total=   1.6s\n",
            "[CV] C=100, gamma=0.1, kernel=rbf ....................................\n",
            "[CV] ........ C=100, gamma=0.1, kernel=rbf, score=0.543, total=   1.6s\n",
            "[CV] C=100, gamma=0.1, kernel=sigmoid ................................\n",
            "[CV] .... C=100, gamma=0.1, kernel=sigmoid, score=0.543, total=   1.0s\n",
            "[CV] C=100, gamma=0.1, kernel=sigmoid ................................\n",
            "[CV] .... C=100, gamma=0.1, kernel=sigmoid, score=0.476, total=   0.8s\n",
            "[CV] C=100, gamma=0.1, kernel=sigmoid ................................\n",
            "[CV] .... C=100, gamma=0.1, kernel=sigmoid, score=0.533, total=   0.9s\n",
            "[CV] C=100, gamma=0.1, kernel=sigmoid ................................\n",
            "[CV] .... C=100, gamma=0.1, kernel=sigmoid, score=0.600, total=   0.9s\n",
            "[CV] C=100, gamma=0.1, kernel=sigmoid ................................\n",
            "[CV] .... C=100, gamma=0.1, kernel=sigmoid, score=0.495, total=   0.9s\n",
            "[CV] C=100, gamma=0.1, kernel=poly ...................................\n",
            "[CV] ....... C=100, gamma=0.1, kernel=poly, score=0.781, total=   1.6s\n",
            "[CV] C=100, gamma=0.1, kernel=poly ...................................\n",
            "[CV] ....... C=100, gamma=0.1, kernel=poly, score=0.724, total=   1.6s\n",
            "[CV] C=100, gamma=0.1, kernel=poly ...................................\n",
            "[CV] ....... C=100, gamma=0.1, kernel=poly, score=0.781, total=   1.6s\n",
            "[CV] C=100, gamma=0.1, kernel=poly ...................................\n",
            "[CV] ....... C=100, gamma=0.1, kernel=poly, score=0.676, total=   1.6s\n",
            "[CV] C=100, gamma=0.1, kernel=poly ...................................\n",
            "[CV] ....... C=100, gamma=0.1, kernel=poly, score=0.771, total=   1.6s\n",
            "[CV] C=100, gamma=0.01, kernel=rbf ...................................\n",
            "[CV] ....... C=100, gamma=0.01, kernel=rbf, score=0.800, total=   1.6s\n",
            "[CV] C=100, gamma=0.01, kernel=rbf ...................................\n",
            "[CV] ....... C=100, gamma=0.01, kernel=rbf, score=0.705, total=   1.6s\n",
            "[CV] C=100, gamma=0.01, kernel=rbf ...................................\n",
            "[CV] ....... C=100, gamma=0.01, kernel=rbf, score=0.752, total=   1.6s\n",
            "[CV] C=100, gamma=0.01, kernel=rbf ...................................\n",
            "[CV] ....... C=100, gamma=0.01, kernel=rbf, score=0.714, total=   1.6s\n",
            "[CV] C=100, gamma=0.01, kernel=rbf ...................................\n",
            "[CV] ....... C=100, gamma=0.01, kernel=rbf, score=0.762, total=   1.6s\n",
            "[CV] C=100, gamma=0.01, kernel=sigmoid ...............................\n",
            "[CV] ... C=100, gamma=0.01, kernel=sigmoid, score=0.638, total=   0.8s\n",
            "[CV] C=100, gamma=0.01, kernel=sigmoid ...............................\n",
            "[CV] ... C=100, gamma=0.01, kernel=sigmoid, score=0.629, total=   0.8s\n",
            "[CV] C=100, gamma=0.01, kernel=sigmoid ...............................\n",
            "[CV] ... C=100, gamma=0.01, kernel=sigmoid, score=0.581, total=   0.8s\n",
            "[CV] C=100, gamma=0.01, kernel=sigmoid ...............................\n",
            "[CV] ... C=100, gamma=0.01, kernel=sigmoid, score=0.648, total=   0.8s\n",
            "[CV] C=100, gamma=0.01, kernel=sigmoid ...............................\n",
            "[CV] ... C=100, gamma=0.01, kernel=sigmoid, score=0.724, total=   0.8s\n",
            "[CV] C=100, gamma=0.01, kernel=poly ..................................\n",
            "[CV] ...... C=100, gamma=0.01, kernel=poly, score=0.781, total=   1.6s\n",
            "[CV] C=100, gamma=0.01, kernel=poly ..................................\n",
            "[CV] ...... C=100, gamma=0.01, kernel=poly, score=0.724, total=   1.6s\n",
            "[CV] C=100, gamma=0.01, kernel=poly ..................................\n",
            "[CV] ...... C=100, gamma=0.01, kernel=poly, score=0.781, total=   1.6s\n",
            "[CV] C=100, gamma=0.01, kernel=poly ..................................\n",
            "[CV] ...... C=100, gamma=0.01, kernel=poly, score=0.676, total=   1.6s\n",
            "[CV] C=100, gamma=0.01, kernel=poly ..................................\n",
            "[CV] ...... C=100, gamma=0.01, kernel=poly, score=0.771, total=   1.6s\n",
            "[CV] C=100, gamma=0.001, kernel=rbf ..................................\n",
            "[CV] ...... C=100, gamma=0.001, kernel=rbf, score=0.714, total=   1.5s\n",
            "[CV] C=100, gamma=0.001, kernel=rbf ..................................\n",
            "[CV] ...... C=100, gamma=0.001, kernel=rbf, score=0.629, total=   1.5s\n",
            "[CV] C=100, gamma=0.001, kernel=rbf ..................................\n",
            "[CV] ...... C=100, gamma=0.001, kernel=rbf, score=0.733, total=   1.5s\n",
            "[CV] C=100, gamma=0.001, kernel=rbf ..................................\n",
            "[CV] ...... C=100, gamma=0.001, kernel=rbf, score=0.648, total=   1.5s\n",
            "[CV] C=100, gamma=0.001, kernel=rbf ..................................\n",
            "[CV] ...... C=100, gamma=0.001, kernel=rbf, score=0.686, total=   1.5s\n",
            "[CV] C=100, gamma=0.001, kernel=sigmoid ..............................\n",
            "[CV] .. C=100, gamma=0.001, kernel=sigmoid, score=0.714, total=   1.5s\n",
            "[CV] C=100, gamma=0.001, kernel=sigmoid ..............................\n",
            "[CV] .. C=100, gamma=0.001, kernel=sigmoid, score=0.638, total=   1.5s\n",
            "[CV] C=100, gamma=0.001, kernel=sigmoid ..............................\n",
            "[CV] .. C=100, gamma=0.001, kernel=sigmoid, score=0.724, total=   1.4s\n",
            "[CV] C=100, gamma=0.001, kernel=sigmoid ..............................\n",
            "[CV] .. C=100, gamma=0.001, kernel=sigmoid, score=0.638, total=   1.4s\n",
            "[CV] C=100, gamma=0.001, kernel=sigmoid ..............................\n",
            "[CV] .. C=100, gamma=0.001, kernel=sigmoid, score=0.686, total=   1.5s\n",
            "[CV] C=100, gamma=0.001, kernel=poly .................................\n",
            "[CV] ..... C=100, gamma=0.001, kernel=poly, score=0.762, total=   1.5s\n",
            "[CV] C=100, gamma=0.001, kernel=poly .................................\n",
            "[CV] ..... C=100, gamma=0.001, kernel=poly, score=0.762, total=   1.5s\n",
            "[CV] C=100, gamma=0.001, kernel=poly .................................\n",
            "[CV] ..... C=100, gamma=0.001, kernel=poly, score=0.686, total=   1.5s\n",
            "[CV] C=100, gamma=0.001, kernel=poly .................................\n",
            "[CV] ..... C=100, gamma=0.001, kernel=poly, score=0.686, total=   1.5s\n",
            "[CV] C=100, gamma=0.001, kernel=poly .................................\n",
            "[CV] ..... C=100, gamma=0.001, kernel=poly, score=0.800, total=   1.5s\n",
            "[CV] C=100, gamma=0.0001, kernel=rbf .................................\n",
            "[CV] ..... C=100, gamma=0.0001, kernel=rbf, score=0.771, total=   1.2s\n",
            "[CV] C=100, gamma=0.0001, kernel=rbf .................................\n",
            "[CV] ..... C=100, gamma=0.0001, kernel=rbf, score=0.705, total=   1.2s\n",
            "[CV] C=100, gamma=0.0001, kernel=rbf .................................\n",
            "[CV] ..... C=100, gamma=0.0001, kernel=rbf, score=0.733, total=   1.2s\n",
            "[CV] C=100, gamma=0.0001, kernel=rbf .................................\n",
            "[CV] ..... C=100, gamma=0.0001, kernel=rbf, score=0.733, total=   1.2s\n",
            "[CV] C=100, gamma=0.0001, kernel=rbf .................................\n",
            "[CV] ..... C=100, gamma=0.0001, kernel=rbf, score=0.781, total=   1.2s\n",
            "[CV] C=100, gamma=0.0001, kernel=sigmoid .............................\n",
            "[CV] . C=100, gamma=0.0001, kernel=sigmoid, score=0.790, total=   1.2s\n",
            "[CV] C=100, gamma=0.0001, kernel=sigmoid .............................\n",
            "[CV] . C=100, gamma=0.0001, kernel=sigmoid, score=0.714, total=   1.2s\n",
            "[CV] C=100, gamma=0.0001, kernel=sigmoid .............................\n",
            "[CV] . C=100, gamma=0.0001, kernel=sigmoid, score=0.762, total=   1.2s\n",
            "[CV] C=100, gamma=0.0001, kernel=sigmoid .............................\n",
            "[CV] . C=100, gamma=0.0001, kernel=sigmoid, score=0.743, total=   1.2s\n",
            "[CV] C=100, gamma=0.0001, kernel=sigmoid .............................\n",
            "[CV] . C=100, gamma=0.0001, kernel=sigmoid, score=0.790, total=   1.2s\n",
            "[CV] C=100, gamma=0.0001, kernel=poly ................................\n",
            "[CV] .... C=100, gamma=0.0001, kernel=poly, score=0.533, total=   1.5s\n",
            "[CV] C=100, gamma=0.0001, kernel=poly ................................\n",
            "[CV] .... C=100, gamma=0.0001, kernel=poly, score=0.543, total=   1.5s\n",
            "[CV] C=100, gamma=0.0001, kernel=poly ................................\n",
            "[CV] .... C=100, gamma=0.0001, kernel=poly, score=0.543, total=   1.5s\n",
            "[CV] C=100, gamma=0.0001, kernel=poly ................................\n",
            "[CV] .... C=100, gamma=0.0001, kernel=poly, score=0.543, total=   1.5s\n",
            "[CV] C=100, gamma=0.0001, kernel=poly ................................\n",
            "[CV] .... C=100, gamma=0.0001, kernel=poly, score=0.543, total=   1.5s\n"
          ],
          "name": "stdout"
        },
        {
          "output_type": "stream",
          "text": [
            "[Parallel(n_jobs=1)]: Done 375 out of 375 | elapsed:  9.3min finished\n"
          ],
          "name": "stderr"
        },
        {
          "output_type": "execute_result",
          "data": {
            "text/plain": [
              "GridSearchCV(cv=None, error_score=nan,\n",
              "             estimator=SVC(C=1.0, break_ties=False, cache_size=200,\n",
              "                           class_weight=None, coef0=0.0,\n",
              "                           decision_function_shape='ovr', degree=3,\n",
              "                           gamma='scale', kernel='rbf', max_iter=-1,\n",
              "                           probability=False, random_state=None, shrinking=True,\n",
              "                           tol=0.001, verbose=False),\n",
              "             iid='deprecated', n_jobs=None,\n",
              "             param_grid={'C': [0.001, 0.1, 1, 10, 100],\n",
              "                         'gamma': [1, 0.1, 0.01, 0.001, 0.0001],\n",
              "                         'kernel': ['rbf', 'sigmoid', 'poly']},\n",
              "             pre_dispatch='2*n_jobs', refit=True, return_train_score=False,\n",
              "             scoring=None, verbose=3)"
            ]
          },
          "metadata": {
            "tags": []
          },
          "execution_count": 116
        }
      ]
    },
    {
      "cell_type": "code",
      "metadata": {
        "colab": {
          "base_uri": "https://localhost:8080/"
        },
        "id": "sRjA80p9jcLe",
        "outputId": "b5b6135a-67dd-4cde-8b24-6d290b9af0c5"
      },
      "source": [
        "# print best parameter after tuning\n",
        "print(grid_svm.best_params_)\n",
        "  \n",
        "# print how our model looks after hyper-parameter tuning\n",
        "print(grid_svm.best_estimator_)"
      ],
      "execution_count": null,
      "outputs": [
        {
          "output_type": "stream",
          "text": [
            "{'C': 1, 'gamma': 0.001, 'kernel': 'rbf'}\n",
            "SVC(C=1, break_ties=False, cache_size=200, class_weight=None, coef0=0.0,\n",
            "    decision_function_shape='ovr', degree=3, gamma=0.001, kernel='rbf',\n",
            "    max_iter=-1, probability=False, random_state=None, shrinking=True,\n",
            "    tol=0.001, verbose=False)\n"
          ],
          "name": "stdout"
        }
      ]
    },
    {
      "cell_type": "code",
      "metadata": {
        "id": "B_97qc6tjteH"
      },
      "source": [
        "predictions_svm = grid_svm.predict(X_val)"
      ],
      "execution_count": null,
      "outputs": []
    },
    {
      "cell_type": "code",
      "metadata": {
        "colab": {
          "base_uri": "https://localhost:8080/"
        },
        "id": "uOHcOFldjzI1",
        "outputId": "ba65c9bb-3a2e-40bd-8d5f-b565fca89dc4"
      },
      "source": [
        "print('Accuracy of SVM: ', np.sum(predictions_svm == y_val.reshape(len(y_val))) / len(y_val) * 100)"
      ],
      "execution_count": null,
      "outputs": [
        {
          "output_type": "stream",
          "text": [
            "Accuracy of SVM:  72.72727272727273\n"
          ],
          "name": "stdout"
        }
      ]
    },
    {
      "cell_type": "markdown",
      "metadata": {
        "id": "YcxYMfOxHJ11"
      },
      "source": [
        "# Logistic Regression"
      ]
    },
    {
      "cell_type": "code",
      "metadata": {
        "id": "QJEboWjCHLfp"
      },
      "source": [
        "from sklearn.linear_model import LogisticRegression"
      ],
      "execution_count": null,
      "outputs": []
    },
    {
      "cell_type": "markdown",
      "metadata": {
        "id": "AYYXQfNlpyjQ"
      },
      "source": [
        "Grid search for Logistic Regression"
      ]
    },
    {
      "cell_type": "code",
      "metadata": {
        "colab": {
          "base_uri": "https://localhost:8080/"
        },
        "id": "EdqnyOPBp1jM",
        "outputId": "2a458c1e-1750-40f6-f9e0-9d987197167d"
      },
      "source": [
        "# Training se\n",
        "param_grid = {\"C\":np.logspace(-10,10,10), \"penalty\":[\"l1\",\"l2\"],\n",
        "              'solver': ['lbfgs', 'newton-cg', '‘sag’']}\n",
        "  \n",
        "grid_lr = GridSearchCV(LogisticRegression(), param_grid, refit = True, verbose=3)\n",
        "  \n",
        "# fitting the model for grid search\n",
        "grid_lr.fit(X_train, y_train.reshape(len(y_train)))"
      ],
      "execution_count": null,
      "outputs": [
        {
          "output_type": "stream",
          "text": [
            "Fitting 5 folds for each of 60 candidates, totalling 300 fits\n",
            "[CV] C=1e-10, penalty=l1, solver=lbfgs ...............................\n",
            "[CV] ..... C=1e-10, penalty=l1, solver=lbfgs, score=nan, total=   0.0s\n",
            "[CV] C=1e-10, penalty=l1, solver=lbfgs ...............................\n",
            "[CV] ..... C=1e-10, penalty=l1, solver=lbfgs, score=nan, total=   0.0s\n",
            "[CV] C=1e-10, penalty=l1, solver=lbfgs ...............................\n",
            "[CV] ..... C=1e-10, penalty=l1, solver=lbfgs, score=nan, total=   0.0s\n",
            "[CV] C=1e-10, penalty=l1, solver=lbfgs ...............................\n",
            "[CV] ..... C=1e-10, penalty=l1, solver=lbfgs, score=nan, total=   0.0s\n",
            "[CV] C=1e-10, penalty=l1, solver=lbfgs ...............................\n",
            "[CV] ..... C=1e-10, penalty=l1, solver=lbfgs, score=nan, total=   0.0s\n",
            "[CV] C=1e-10, penalty=l1, solver=newton-cg ...........................\n",
            "[CV] . C=1e-10, penalty=l1, solver=newton-cg, score=nan, total=   0.0s\n",
            "[CV] C=1e-10, penalty=l1, solver=newton-cg ...........................\n",
            "[CV] . C=1e-10, penalty=l1, solver=newton-cg, score=nan, total=   0.0s\n",
            "[CV] C=1e-10, penalty=l1, solver=newton-cg ...........................\n",
            "[CV] . C=1e-10, penalty=l1, solver=newton-cg, score=nan, total=   0.0s\n",
            "[CV] C=1e-10, penalty=l1, solver=newton-cg ...........................\n",
            "[CV] . C=1e-10, penalty=l1, solver=newton-cg, score=nan, total=   0.0s\n",
            "[CV] C=1e-10, penalty=l1, solver=newton-cg ...........................\n",
            "[CV] . C=1e-10, penalty=l1, solver=newton-cg, score=nan, total=   0.0s\n",
            "[CV] C=1e-10, penalty=l1, solver=‘sag’ ...............................\n",
            "[CV] ..... C=1e-10, penalty=l1, solver=‘sag’, score=nan, total=   0.0s\n",
            "[CV] C=1e-10, penalty=l1, solver=‘sag’ ...............................\n",
            "[CV] ..... C=1e-10, penalty=l1, solver=‘sag’, score=nan, total=   0.0s\n",
            "[CV] C=1e-10, penalty=l1, solver=‘sag’ ...............................\n",
            "[CV] ..... C=1e-10, penalty=l1, solver=‘sag’, score=nan, total=   0.0s\n",
            "[CV] C=1e-10, penalty=l1, solver=‘sag’ ...............................\n",
            "[CV] ..... C=1e-10, penalty=l1, solver=‘sag’, score=nan, total=   0.0s\n",
            "[CV] C=1e-10, penalty=l1, solver=‘sag’ ...............................\n",
            "[CV] ..... C=1e-10, penalty=l1, solver=‘sag’, score=nan, total=   0.0s\n",
            "[CV] C=1e-10, penalty=l2, solver=lbfgs ...............................\n",
            "[CV] ... C=1e-10, penalty=l2, solver=lbfgs, score=0.533, total=   0.1s\n",
            "[CV] C=1e-10, penalty=l2, solver=lbfgs ...............................\n"
          ],
          "name": "stdout"
        },
        {
          "output_type": "stream",
          "text": [
            "[Parallel(n_jobs=1)]: Using backend SequentialBackend with 1 concurrent workers.\n",
            "/usr/local/lib/python3.7/dist-packages/sklearn/model_selection/_validation.py:536: FitFailedWarning: Estimator fit failed. The score on this train-test partition for these parameters will be set to nan. Details: \n",
            "ValueError: Solver lbfgs supports only 'l2' or 'none' penalties, got l1 penalty.\n",
            "\n",
            "  FitFailedWarning)\n",
            "[Parallel(n_jobs=1)]: Done   1 out of   1 | elapsed:    0.0s remaining:    0.0s\n",
            "[Parallel(n_jobs=1)]: Done   2 out of   2 | elapsed:    0.0s remaining:    0.0s\n",
            "/usr/local/lib/python3.7/dist-packages/sklearn/model_selection/_validation.py:536: FitFailedWarning: Estimator fit failed. The score on this train-test partition for these parameters will be set to nan. Details: \n",
            "ValueError: Solver newton-cg supports only 'l2' or 'none' penalties, got l1 penalty.\n",
            "\n",
            "  FitFailedWarning)\n",
            "/usr/local/lib/python3.7/dist-packages/sklearn/model_selection/_validation.py:536: FitFailedWarning: Estimator fit failed. The score on this train-test partition for these parameters will be set to nan. Details: \n",
            "ValueError: Logistic Regression supports only solvers in ['liblinear', 'newton-cg', 'lbfgs', 'sag', 'saga'], got ‘sag’.\n",
            "\n",
            "  FitFailedWarning)\n"
          ],
          "name": "stderr"
        },
        {
          "output_type": "stream",
          "text": [
            "[CV] ... C=1e-10, penalty=l2, solver=lbfgs, score=0.543, total=   0.1s\n",
            "[CV] C=1e-10, penalty=l2, solver=lbfgs ...............................\n",
            "[CV] ... C=1e-10, penalty=l2, solver=lbfgs, score=0.543, total=   0.1s\n",
            "[CV] C=1e-10, penalty=l2, solver=lbfgs ...............................\n",
            "[CV] ... C=1e-10, penalty=l2, solver=lbfgs, score=0.543, total=   0.1s\n",
            "[CV] C=1e-10, penalty=l2, solver=lbfgs ...............................\n",
            "[CV] ... C=1e-10, penalty=l2, solver=lbfgs, score=0.543, total=   0.1s\n",
            "[CV] C=1e-10, penalty=l2, solver=newton-cg ...........................\n",
            "[CV]  C=1e-10, penalty=l2, solver=newton-cg, score=0.533, total=   0.2s\n",
            "[CV] C=1e-10, penalty=l2, solver=newton-cg ...........................\n"
          ],
          "name": "stdout"
        },
        {
          "output_type": "stream",
          "text": [
            "/usr/local/lib/python3.7/dist-packages/scipy/optimize/linesearch.py:314: LineSearchWarning: The line search algorithm did not converge\n",
            "  warn('The line search algorithm did not converge', LineSearchWarning)\n",
            "/usr/local/lib/python3.7/dist-packages/sklearn/utils/optimize.py:204: UserWarning: Line Search failed\n",
            "  warnings.warn('Line Search failed')\n"
          ],
          "name": "stderr"
        },
        {
          "output_type": "stream",
          "text": [
            "[CV]  C=1e-10, penalty=l2, solver=newton-cg, score=0.543, total=   0.3s\n",
            "[CV] C=1e-10, penalty=l2, solver=newton-cg ...........................\n"
          ],
          "name": "stdout"
        },
        {
          "output_type": "stream",
          "text": [
            "/usr/local/lib/python3.7/dist-packages/scipy/optimize/linesearch.py:314: LineSearchWarning: The line search algorithm did not converge\n",
            "  warn('The line search algorithm did not converge', LineSearchWarning)\n",
            "/usr/local/lib/python3.7/dist-packages/sklearn/utils/optimize.py:204: UserWarning: Line Search failed\n",
            "  warnings.warn('Line Search failed')\n",
            "/usr/local/lib/python3.7/dist-packages/scipy/optimize/linesearch.py:426: LineSearchWarning: Rounding errors prevent the line search from converging\n",
            "  warn(msg, LineSearchWarning)\n",
            "/usr/local/lib/python3.7/dist-packages/scipy/optimize/linesearch.py:314: LineSearchWarning: The line search algorithm did not converge\n",
            "  warn('The line search algorithm did not converge', LineSearchWarning)\n",
            "/usr/local/lib/python3.7/dist-packages/sklearn/utils/optimize.py:204: UserWarning: Line Search failed\n",
            "  warnings.warn('Line Search failed')\n"
          ],
          "name": "stderr"
        },
        {
          "output_type": "stream",
          "text": [
            "[CV]  C=1e-10, penalty=l2, solver=newton-cg, score=0.543, total=   0.3s\n",
            "[CV] C=1e-10, penalty=l2, solver=newton-cg ...........................\n",
            "[CV]  C=1e-10, penalty=l2, solver=newton-cg, score=0.543, total=   0.1s\n",
            "[CV] C=1e-10, penalty=l2, solver=newton-cg ...........................\n",
            "[CV]  C=1e-10, penalty=l2, solver=newton-cg, score=0.543, total=   0.2s\n",
            "[CV] C=1e-10, penalty=l2, solver=‘sag’ ...............................\n",
            "[CV] ..... C=1e-10, penalty=l2, solver=‘sag’, score=nan, total=   0.0s\n",
            "[CV] C=1e-10, penalty=l2, solver=‘sag’ ...............................\n",
            "[CV] ..... C=1e-10, penalty=l2, solver=‘sag’, score=nan, total=   0.0s\n",
            "[CV] C=1e-10, penalty=l2, solver=‘sag’ ...............................\n",
            "[CV] ..... C=1e-10, penalty=l2, solver=‘sag’, score=nan, total=   0.0s\n",
            "[CV] C=1e-10, penalty=l2, solver=‘sag’ ...............................\n",
            "[CV] ..... C=1e-10, penalty=l2, solver=‘sag’, score=nan, total=   0.0s\n",
            "[CV] C=1e-10, penalty=l2, solver=‘sag’ ...............................\n",
            "[CV] ..... C=1e-10, penalty=l2, solver=‘sag’, score=nan, total=   0.0s\n",
            "[CV] C=1.6681005372000592e-08, penalty=l1, solver=lbfgs ..............\n",
            "[CV]  C=1.6681005372000592e-08, penalty=l1, solver=lbfgs, score=nan, total=   0.0s\n",
            "[CV] C=1.6681005372000592e-08, penalty=l1, solver=lbfgs ..............\n",
            "[CV]  C=1.6681005372000592e-08, penalty=l1, solver=lbfgs, score=nan, total=   0.0s\n",
            "[CV] C=1.6681005372000592e-08, penalty=l1, solver=lbfgs ..............\n",
            "[CV]  C=1.6681005372000592e-08, penalty=l1, solver=lbfgs, score=nan, total=   0.0s\n",
            "[CV] C=1.6681005372000592e-08, penalty=l1, solver=lbfgs ..............\n",
            "[CV]  C=1.6681005372000592e-08, penalty=l1, solver=lbfgs, score=nan, total=   0.0s\n",
            "[CV] C=1.6681005372000592e-08, penalty=l1, solver=lbfgs ..............\n",
            "[CV]  C=1.6681005372000592e-08, penalty=l1, solver=lbfgs, score=nan, total=   0.0s\n",
            "[CV] C=1.6681005372000592e-08, penalty=l1, solver=newton-cg ..........\n",
            "[CV]  C=1.6681005372000592e-08, penalty=l1, solver=newton-cg, score=nan, total=   0.0s\n",
            "[CV] C=1.6681005372000592e-08, penalty=l1, solver=newton-cg ..........\n",
            "[CV]  C=1.6681005372000592e-08, penalty=l1, solver=newton-cg, score=nan, total=   0.0s\n",
            "[CV] C=1.6681005372000592e-08, penalty=l1, solver=newton-cg ..........\n",
            "[CV]  C=1.6681005372000592e-08, penalty=l1, solver=newton-cg, score=nan, total=   0.0s\n",
            "[CV] C=1.6681005372000592e-08, penalty=l1, solver=newton-cg ..........\n",
            "[CV]  C=1.6681005372000592e-08, penalty=l1, solver=newton-cg, score=nan, total=   0.0s\n",
            "[CV] C=1.6681005372000592e-08, penalty=l1, solver=newton-cg ..........\n",
            "[CV]  C=1.6681005372000592e-08, penalty=l1, solver=newton-cg, score=nan, total=   0.0s\n",
            "[CV] C=1.6681005372000592e-08, penalty=l1, solver=‘sag’ ..............\n",
            "[CV]  C=1.6681005372000592e-08, penalty=l1, solver=‘sag’, score=nan, total=   0.0s\n",
            "[CV] C=1.6681005372000592e-08, penalty=l1, solver=‘sag’ ..............\n",
            "[CV]  C=1.6681005372000592e-08, penalty=l1, solver=‘sag’, score=nan, total=   0.0s\n",
            "[CV] C=1.6681005372000592e-08, penalty=l1, solver=‘sag’ ..............\n",
            "[CV]  C=1.6681005372000592e-08, penalty=l1, solver=‘sag’, score=nan, total=   0.0s\n",
            "[CV] C=1.6681005372000592e-08, penalty=l1, solver=‘sag’ ..............\n",
            "[CV]  C=1.6681005372000592e-08, penalty=l1, solver=‘sag’, score=nan, total=   0.0s\n",
            "[CV] C=1.6681005372000592e-08, penalty=l1, solver=‘sag’ ..............\n",
            "[CV]  C=1.6681005372000592e-08, penalty=l1, solver=‘sag’, score=nan, total=   0.0s\n",
            "[CV] C=1.6681005372000592e-08, penalty=l2, solver=lbfgs ..............\n",
            "[CV]  C=1.6681005372000592e-08, penalty=l2, solver=lbfgs, score=0.533, total=   0.0s\n",
            "[CV] C=1.6681005372000592e-08, penalty=l2, solver=lbfgs ..............\n"
          ],
          "name": "stdout"
        },
        {
          "output_type": "stream",
          "text": [
            "/usr/local/lib/python3.7/dist-packages/sklearn/model_selection/_validation.py:536: FitFailedWarning: Estimator fit failed. The score on this train-test partition for these parameters will be set to nan. Details: \n",
            "ValueError: Logistic Regression supports only solvers in ['liblinear', 'newton-cg', 'lbfgs', 'sag', 'saga'], got ‘sag’.\n",
            "\n",
            "  FitFailedWarning)\n",
            "/usr/local/lib/python3.7/dist-packages/sklearn/model_selection/_validation.py:536: FitFailedWarning: Estimator fit failed. The score on this train-test partition for these parameters will be set to nan. Details: \n",
            "ValueError: Solver lbfgs supports only 'l2' or 'none' penalties, got l1 penalty.\n",
            "\n",
            "  FitFailedWarning)\n",
            "/usr/local/lib/python3.7/dist-packages/sklearn/model_selection/_validation.py:536: FitFailedWarning: Estimator fit failed. The score on this train-test partition for these parameters will be set to nan. Details: \n",
            "ValueError: Solver newton-cg supports only 'l2' or 'none' penalties, got l1 penalty.\n",
            "\n",
            "  FitFailedWarning)\n"
          ],
          "name": "stderr"
        },
        {
          "output_type": "stream",
          "text": [
            "[CV]  C=1.6681005372000592e-08, penalty=l2, solver=lbfgs, score=0.543, total=   0.1s\n",
            "[CV] C=1.6681005372000592e-08, penalty=l2, solver=lbfgs ..............\n",
            "[CV]  C=1.6681005372000592e-08, penalty=l2, solver=lbfgs, score=0.543, total=   0.1s\n",
            "[CV] C=1.6681005372000592e-08, penalty=l2, solver=lbfgs ..............\n",
            "[CV]  C=1.6681005372000592e-08, penalty=l2, solver=lbfgs, score=0.543, total=   0.1s\n",
            "[CV] C=1.6681005372000592e-08, penalty=l2, solver=lbfgs ..............\n",
            "[CV]  C=1.6681005372000592e-08, penalty=l2, solver=lbfgs, score=0.543, total=   0.1s\n",
            "[CV] C=1.6681005372000592e-08, penalty=l2, solver=newton-cg ..........\n",
            "[CV]  C=1.6681005372000592e-08, penalty=l2, solver=newton-cg, score=0.533, total=   0.2s\n",
            "[CV] C=1.6681005372000592e-08, penalty=l2, solver=newton-cg ..........\n",
            "[CV]  C=1.6681005372000592e-08, penalty=l2, solver=newton-cg, score=0.543, total=   0.2s\n",
            "[CV] C=1.6681005372000592e-08, penalty=l2, solver=newton-cg ..........\n",
            "[CV]  C=1.6681005372000592e-08, penalty=l2, solver=newton-cg, score=0.543, total=   0.2s\n",
            "[CV] C=1.6681005372000592e-08, penalty=l2, solver=newton-cg ..........\n",
            "[CV]  C=1.6681005372000592e-08, penalty=l2, solver=newton-cg, score=0.543, total=   0.2s\n",
            "[CV] C=1.6681005372000592e-08, penalty=l2, solver=newton-cg ..........\n",
            "[CV]  C=1.6681005372000592e-08, penalty=l2, solver=newton-cg, score=0.543, total=   0.2s\n",
            "[CV] C=1.6681005372000592e-08, penalty=l2, solver=‘sag’ ..............\n",
            "[CV]  C=1.6681005372000592e-08, penalty=l2, solver=‘sag’, score=nan, total=   0.0s\n",
            "[CV] C=1.6681005372000592e-08, penalty=l2, solver=‘sag’ ..............\n",
            "[CV]  C=1.6681005372000592e-08, penalty=l2, solver=‘sag’, score=nan, total=   0.0s\n",
            "[CV] C=1.6681005372000592e-08, penalty=l2, solver=‘sag’ ..............\n",
            "[CV]  C=1.6681005372000592e-08, penalty=l2, solver=‘sag’, score=nan, total=   0.0s\n",
            "[CV] C=1.6681005372000592e-08, penalty=l2, solver=‘sag’ ..............\n",
            "[CV]  C=1.6681005372000592e-08, penalty=l2, solver=‘sag’, score=nan, total=   0.0s\n",
            "[CV] C=1.6681005372000592e-08, penalty=l2, solver=‘sag’ ..............\n",
            "[CV]  C=1.6681005372000592e-08, penalty=l2, solver=‘sag’, score=nan, total=   0.0s\n",
            "[CV] C=2.782559402207126e-06, penalty=l1, solver=lbfgs ...............\n",
            "[CV]  C=2.782559402207126e-06, penalty=l1, solver=lbfgs, score=nan, total=   0.0s\n",
            "[CV] C=2.782559402207126e-06, penalty=l1, solver=lbfgs ...............\n",
            "[CV]  C=2.782559402207126e-06, penalty=l1, solver=lbfgs, score=nan, total=   0.0s\n",
            "[CV] C=2.782559402207126e-06, penalty=l1, solver=lbfgs ...............\n",
            "[CV]  C=2.782559402207126e-06, penalty=l1, solver=lbfgs, score=nan, total=   0.0s\n",
            "[CV] C=2.782559402207126e-06, penalty=l1, solver=lbfgs ...............\n",
            "[CV]  C=2.782559402207126e-06, penalty=l1, solver=lbfgs, score=nan, total=   0.0s\n",
            "[CV] C=2.782559402207126e-06, penalty=l1, solver=lbfgs ...............\n",
            "[CV]  C=2.782559402207126e-06, penalty=l1, solver=lbfgs, score=nan, total=   0.0s\n",
            "[CV] C=2.782559402207126e-06, penalty=l1, solver=newton-cg ...........\n",
            "[CV]  C=2.782559402207126e-06, penalty=l1, solver=newton-cg, score=nan, total=   0.0s\n",
            "[CV] C=2.782559402207126e-06, penalty=l1, solver=newton-cg ...........\n",
            "[CV]  C=2.782559402207126e-06, penalty=l1, solver=newton-cg, score=nan, total=   0.0s\n",
            "[CV] C=2.782559402207126e-06, penalty=l1, solver=newton-cg ...........\n",
            "[CV]  C=2.782559402207126e-06, penalty=l1, solver=newton-cg, score=nan, total=   0.0s\n",
            "[CV] C=2.782559402207126e-06, penalty=l1, solver=newton-cg ...........\n",
            "[CV]  C=2.782559402207126e-06, penalty=l1, solver=newton-cg, score=nan, total=   0.0s\n",
            "[CV] C=2.782559402207126e-06, penalty=l1, solver=newton-cg ...........\n",
            "[CV]  C=2.782559402207126e-06, penalty=l1, solver=newton-cg, score=nan, total=   0.0s\n",
            "[CV] C=2.782559402207126e-06, penalty=l1, solver=‘sag’ ...............\n",
            "[CV]  C=2.782559402207126e-06, penalty=l1, solver=‘sag’, score=nan, total=   0.0s\n",
            "[CV] C=2.782559402207126e-06, penalty=l1, solver=‘sag’ ...............\n",
            "[CV]  C=2.782559402207126e-06, penalty=l1, solver=‘sag’, score=nan, total=   0.0s\n",
            "[CV] C=2.782559402207126e-06, penalty=l1, solver=‘sag’ ...............\n",
            "[CV]  C=2.782559402207126e-06, penalty=l1, solver=‘sag’, score=nan, total=   0.0s\n",
            "[CV] C=2.782559402207126e-06, penalty=l1, solver=‘sag’ ...............\n",
            "[CV]  C=2.782559402207126e-06, penalty=l1, solver=‘sag’, score=nan, total=   0.0s\n",
            "[CV] C=2.782559402207126e-06, penalty=l1, solver=‘sag’ ...............\n",
            "[CV]  C=2.782559402207126e-06, penalty=l1, solver=‘sag’, score=nan, total=   0.0s\n",
            "[CV] C=2.782559402207126e-06, penalty=l2, solver=lbfgs ...............\n",
            "[CV]  C=2.782559402207126e-06, penalty=l2, solver=lbfgs, score=0.533, total=   0.0s\n",
            "[CV] C=2.782559402207126e-06, penalty=l2, solver=lbfgs ...............\n"
          ],
          "name": "stdout"
        },
        {
          "output_type": "stream",
          "text": [
            "/usr/local/lib/python3.7/dist-packages/sklearn/model_selection/_validation.py:536: FitFailedWarning: Estimator fit failed. The score on this train-test partition for these parameters will be set to nan. Details: \n",
            "ValueError: Logistic Regression supports only solvers in ['liblinear', 'newton-cg', 'lbfgs', 'sag', 'saga'], got ‘sag’.\n",
            "\n",
            "  FitFailedWarning)\n",
            "/usr/local/lib/python3.7/dist-packages/sklearn/model_selection/_validation.py:536: FitFailedWarning: Estimator fit failed. The score on this train-test partition for these parameters will be set to nan. Details: \n",
            "ValueError: Solver lbfgs supports only 'l2' or 'none' penalties, got l1 penalty.\n",
            "\n",
            "  FitFailedWarning)\n",
            "/usr/local/lib/python3.7/dist-packages/sklearn/model_selection/_validation.py:536: FitFailedWarning: Estimator fit failed. The score on this train-test partition for these parameters will be set to nan. Details: \n",
            "ValueError: Solver newton-cg supports only 'l2' or 'none' penalties, got l1 penalty.\n",
            "\n",
            "  FitFailedWarning)\n"
          ],
          "name": "stderr"
        },
        {
          "output_type": "stream",
          "text": [
            "[CV]  C=2.782559402207126e-06, penalty=l2, solver=lbfgs, score=0.543, total=   0.1s\n",
            "[CV] C=2.782559402207126e-06, penalty=l2, solver=lbfgs ...............\n",
            "[CV]  C=2.782559402207126e-06, penalty=l2, solver=lbfgs, score=0.543, total=   0.1s\n",
            "[CV] C=2.782559402207126e-06, penalty=l2, solver=lbfgs ...............\n",
            "[CV]  C=2.782559402207126e-06, penalty=l2, solver=lbfgs, score=0.543, total=   0.1s\n",
            "[CV] C=2.782559402207126e-06, penalty=l2, solver=lbfgs ...............\n",
            "[CV]  C=2.782559402207126e-06, penalty=l2, solver=lbfgs, score=0.543, total=   0.1s\n",
            "[CV] C=2.782559402207126e-06, penalty=l2, solver=newton-cg ...........\n",
            "[CV]  C=2.782559402207126e-06, penalty=l2, solver=newton-cg, score=0.533, total=   0.1s\n",
            "[CV] C=2.782559402207126e-06, penalty=l2, solver=newton-cg ...........\n",
            "[CV]  C=2.782559402207126e-06, penalty=l2, solver=newton-cg, score=0.543, total=   0.1s\n",
            "[CV] C=2.782559402207126e-06, penalty=l2, solver=newton-cg ...........\n",
            "[CV]  C=2.782559402207126e-06, penalty=l2, solver=newton-cg, score=0.543, total=   0.2s\n",
            "[CV] C=2.782559402207126e-06, penalty=l2, solver=newton-cg ...........\n",
            "[CV]  C=2.782559402207126e-06, penalty=l2, solver=newton-cg, score=0.543, total=   0.1s\n",
            "[CV] C=2.782559402207126e-06, penalty=l2, solver=newton-cg ...........\n",
            "[CV]  C=2.782559402207126e-06, penalty=l2, solver=newton-cg, score=0.543, total=   0.2s\n",
            "[CV] C=2.782559402207126e-06, penalty=l2, solver=‘sag’ ...............\n",
            "[CV]  C=2.782559402207126e-06, penalty=l2, solver=‘sag’, score=nan, total=   0.0s\n",
            "[CV] C=2.782559402207126e-06, penalty=l2, solver=‘sag’ ...............\n",
            "[CV]  C=2.782559402207126e-06, penalty=l2, solver=‘sag’, score=nan, total=   0.0s\n",
            "[CV] C=2.782559402207126e-06, penalty=l2, solver=‘sag’ ...............\n",
            "[CV]  C=2.782559402207126e-06, penalty=l2, solver=‘sag’, score=nan, total=   0.0s\n",
            "[CV] C=2.782559402207126e-06, penalty=l2, solver=‘sag’ ...............\n",
            "[CV]  C=2.782559402207126e-06, penalty=l2, solver=‘sag’, score=nan, total=   0.0s\n",
            "[CV] C=2.782559402207126e-06, penalty=l2, solver=‘sag’ ...............\n",
            "[CV]  C=2.782559402207126e-06, penalty=l2, solver=‘sag’, score=nan, total=   0.0s\n",
            "[CV] C=0.0004641588833612782, penalty=l1, solver=lbfgs ...............\n",
            "[CV]  C=0.0004641588833612782, penalty=l1, solver=lbfgs, score=nan, total=   0.0s\n",
            "[CV] C=0.0004641588833612782, penalty=l1, solver=lbfgs ...............\n",
            "[CV]  C=0.0004641588833612782, penalty=l1, solver=lbfgs, score=nan, total=   0.0s\n",
            "[CV] C=0.0004641588833612782, penalty=l1, solver=lbfgs ...............\n",
            "[CV]  C=0.0004641588833612782, penalty=l1, solver=lbfgs, score=nan, total=   0.0s\n",
            "[CV] C=0.0004641588833612782, penalty=l1, solver=lbfgs ...............\n",
            "[CV]  C=0.0004641588833612782, penalty=l1, solver=lbfgs, score=nan, total=   0.0s\n",
            "[CV] C=0.0004641588833612782, penalty=l1, solver=lbfgs ...............\n",
            "[CV]  C=0.0004641588833612782, penalty=l1, solver=lbfgs, score=nan, total=   0.0s\n",
            "[CV] C=0.0004641588833612782, penalty=l1, solver=newton-cg ...........\n",
            "[CV]  C=0.0004641588833612782, penalty=l1, solver=newton-cg, score=nan, total=   0.0s\n",
            "[CV] C=0.0004641588833612782, penalty=l1, solver=newton-cg ...........\n",
            "[CV]  C=0.0004641588833612782, penalty=l1, solver=newton-cg, score=nan, total=   0.0s\n",
            "[CV] C=0.0004641588833612782, penalty=l1, solver=newton-cg ...........\n",
            "[CV]  C=0.0004641588833612782, penalty=l1, solver=newton-cg, score=nan, total=   0.0s\n",
            "[CV] C=0.0004641588833612782, penalty=l1, solver=newton-cg ...........\n",
            "[CV]  C=0.0004641588833612782, penalty=l1, solver=newton-cg, score=nan, total=   0.0s\n",
            "[CV] C=0.0004641588833612782, penalty=l1, solver=newton-cg ...........\n",
            "[CV]  C=0.0004641588833612782, penalty=l1, solver=newton-cg, score=nan, total=   0.0s\n",
            "[CV] C=0.0004641588833612782, penalty=l1, solver=‘sag’ ...............\n",
            "[CV]  C=0.0004641588833612782, penalty=l1, solver=‘sag’, score=nan, total=   0.0s\n",
            "[CV] C=0.0004641588833612782, penalty=l1, solver=‘sag’ ...............\n",
            "[CV]  C=0.0004641588833612782, penalty=l1, solver=‘sag’, score=nan, total=   0.0s\n",
            "[CV] C=0.0004641588833612782, penalty=l1, solver=‘sag’ ...............\n",
            "[CV]  C=0.0004641588833612782, penalty=l1, solver=‘sag’, score=nan, total=   0.0s\n",
            "[CV] C=0.0004641588833612782, penalty=l1, solver=‘sag’ ...............\n",
            "[CV]  C=0.0004641588833612782, penalty=l1, solver=‘sag’, score=nan, total=   0.0s\n",
            "[CV] C=0.0004641588833612782, penalty=l1, solver=‘sag’ ...............\n",
            "[CV]  C=0.0004641588833612782, penalty=l1, solver=‘sag’, score=nan, total=   0.0s\n",
            "[CV] C=0.0004641588833612782, penalty=l2, solver=lbfgs ...............\n",
            "[CV]  C=0.0004641588833612782, penalty=l2, solver=lbfgs, score=0.724, total=   0.1s\n",
            "[CV] C=0.0004641588833612782, penalty=l2, solver=lbfgs ...............\n"
          ],
          "name": "stdout"
        },
        {
          "output_type": "stream",
          "text": [
            "/usr/local/lib/python3.7/dist-packages/sklearn/model_selection/_validation.py:536: FitFailedWarning: Estimator fit failed. The score on this train-test partition for these parameters will be set to nan. Details: \n",
            "ValueError: Logistic Regression supports only solvers in ['liblinear', 'newton-cg', 'lbfgs', 'sag', 'saga'], got ‘sag’.\n",
            "\n",
            "  FitFailedWarning)\n",
            "/usr/local/lib/python3.7/dist-packages/sklearn/model_selection/_validation.py:536: FitFailedWarning: Estimator fit failed. The score on this train-test partition for these parameters will be set to nan. Details: \n",
            "ValueError: Solver lbfgs supports only 'l2' or 'none' penalties, got l1 penalty.\n",
            "\n",
            "  FitFailedWarning)\n",
            "/usr/local/lib/python3.7/dist-packages/sklearn/model_selection/_validation.py:536: FitFailedWarning: Estimator fit failed. The score on this train-test partition for these parameters will be set to nan. Details: \n",
            "ValueError: Solver newton-cg supports only 'l2' or 'none' penalties, got l1 penalty.\n",
            "\n",
            "  FitFailedWarning)\n"
          ],
          "name": "stderr"
        },
        {
          "output_type": "stream",
          "text": [
            "[CV]  C=0.0004641588833612782, penalty=l2, solver=lbfgs, score=0.752, total=   0.1s\n",
            "[CV] C=0.0004641588833612782, penalty=l2, solver=lbfgs ...............\n",
            "[CV]  C=0.0004641588833612782, penalty=l2, solver=lbfgs, score=0.686, total=   0.1s\n",
            "[CV] C=0.0004641588833612782, penalty=l2, solver=lbfgs ...............\n",
            "[CV]  C=0.0004641588833612782, penalty=l2, solver=lbfgs, score=0.657, total=   0.1s\n",
            "[CV] C=0.0004641588833612782, penalty=l2, solver=lbfgs ...............\n",
            "[CV]  C=0.0004641588833612782, penalty=l2, solver=lbfgs, score=0.743, total=   0.1s\n",
            "[CV] C=0.0004641588833612782, penalty=l2, solver=newton-cg ...........\n",
            "[CV]  C=0.0004641588833612782, penalty=l2, solver=newton-cg, score=0.724, total=   0.2s\n",
            "[CV] C=0.0004641588833612782, penalty=l2, solver=newton-cg ...........\n",
            "[CV]  C=0.0004641588833612782, penalty=l2, solver=newton-cg, score=0.752, total=   0.2s\n",
            "[CV] C=0.0004641588833612782, penalty=l2, solver=newton-cg ...........\n",
            "[CV]  C=0.0004641588833612782, penalty=l2, solver=newton-cg, score=0.686, total=   0.2s\n",
            "[CV] C=0.0004641588833612782, penalty=l2, solver=newton-cg ...........\n",
            "[CV]  C=0.0004641588833612782, penalty=l2, solver=newton-cg, score=0.657, total=   0.2s\n",
            "[CV] C=0.0004641588833612782, penalty=l2, solver=newton-cg ...........\n",
            "[CV]  C=0.0004641588833612782, penalty=l2, solver=newton-cg, score=0.743, total=   0.2s\n",
            "[CV] C=0.0004641588833612782, penalty=l2, solver=‘sag’ ...............\n",
            "[CV]  C=0.0004641588833612782, penalty=l2, solver=‘sag’, score=nan, total=   0.0s\n",
            "[CV] C=0.0004641588833612782, penalty=l2, solver=‘sag’ ...............\n",
            "[CV]  C=0.0004641588833612782, penalty=l2, solver=‘sag’, score=nan, total=   0.0s\n",
            "[CV] C=0.0004641588833612782, penalty=l2, solver=‘sag’ ...............\n",
            "[CV]  C=0.0004641588833612782, penalty=l2, solver=‘sag’, score=nan, total=   0.0s\n",
            "[CV] C=0.0004641588833612782, penalty=l2, solver=‘sag’ ...............\n",
            "[CV]  C=0.0004641588833612782, penalty=l2, solver=‘sag’, score=nan, total=   0.0s\n",
            "[CV] C=0.0004641588833612782, penalty=l2, solver=‘sag’ ...............\n",
            "[CV]  C=0.0004641588833612782, penalty=l2, solver=‘sag’, score=nan, total=   0.0s\n",
            "[CV] C=0.07742636826811278, penalty=l1, solver=lbfgs .................\n",
            "[CV]  C=0.07742636826811278, penalty=l1, solver=lbfgs, score=nan, total=   0.0s\n",
            "[CV] C=0.07742636826811278, penalty=l1, solver=lbfgs .................\n",
            "[CV]  C=0.07742636826811278, penalty=l1, solver=lbfgs, score=nan, total=   0.0s\n",
            "[CV] C=0.07742636826811278, penalty=l1, solver=lbfgs .................\n",
            "[CV]  C=0.07742636826811278, penalty=l1, solver=lbfgs, score=nan, total=   0.0s\n",
            "[CV] C=0.07742636826811278, penalty=l1, solver=lbfgs .................\n",
            "[CV]  C=0.07742636826811278, penalty=l1, solver=lbfgs, score=nan, total=   0.0s\n",
            "[CV] C=0.07742636826811278, penalty=l1, solver=lbfgs .................\n",
            "[CV]  C=0.07742636826811278, penalty=l1, solver=lbfgs, score=nan, total=   0.0s\n",
            "[CV] C=0.07742636826811278, penalty=l1, solver=newton-cg .............\n",
            "[CV]  C=0.07742636826811278, penalty=l1, solver=newton-cg, score=nan, total=   0.0s\n",
            "[CV] C=0.07742636826811278, penalty=l1, solver=newton-cg .............\n",
            "[CV]  C=0.07742636826811278, penalty=l1, solver=newton-cg, score=nan, total=   0.0s\n",
            "[CV] C=0.07742636826811278, penalty=l1, solver=newton-cg .............\n",
            "[CV]  C=0.07742636826811278, penalty=l1, solver=newton-cg, score=nan, total=   0.0s\n",
            "[CV] C=0.07742636826811278, penalty=l1, solver=newton-cg .............\n",
            "[CV]  C=0.07742636826811278, penalty=l1, solver=newton-cg, score=nan, total=   0.0s\n",
            "[CV] C=0.07742636826811278, penalty=l1, solver=newton-cg .............\n",
            "[CV]  C=0.07742636826811278, penalty=l1, solver=newton-cg, score=nan, total=   0.0s\n",
            "[CV] C=0.07742636826811278, penalty=l1, solver=‘sag’ .................\n",
            "[CV]  C=0.07742636826811278, penalty=l1, solver=‘sag’, score=nan, total=   0.0s\n",
            "[CV] C=0.07742636826811278, penalty=l1, solver=‘sag’ .................\n",
            "[CV]  C=0.07742636826811278, penalty=l1, solver=‘sag’, score=nan, total=   0.0s\n",
            "[CV] C=0.07742636826811278, penalty=l1, solver=‘sag’ .................\n",
            "[CV]  C=0.07742636826811278, penalty=l1, solver=‘sag’, score=nan, total=   0.0s\n",
            "[CV] C=0.07742636826811278, penalty=l1, solver=‘sag’ .................\n",
            "[CV]  C=0.07742636826811278, penalty=l1, solver=‘sag’, score=nan, total=   0.0s\n",
            "[CV] C=0.07742636826811278, penalty=l1, solver=‘sag’ .................\n",
            "[CV]  C=0.07742636826811278, penalty=l1, solver=‘sag’, score=nan, total=   0.0s\n",
            "[CV] C=0.07742636826811278, penalty=l2, solver=lbfgs .................\n"
          ],
          "name": "stdout"
        },
        {
          "output_type": "stream",
          "text": [
            "/usr/local/lib/python3.7/dist-packages/sklearn/model_selection/_validation.py:536: FitFailedWarning: Estimator fit failed. The score on this train-test partition for these parameters will be set to nan. Details: \n",
            "ValueError: Logistic Regression supports only solvers in ['liblinear', 'newton-cg', 'lbfgs', 'sag', 'saga'], got ‘sag’.\n",
            "\n",
            "  FitFailedWarning)\n",
            "/usr/local/lib/python3.7/dist-packages/sklearn/model_selection/_validation.py:536: FitFailedWarning: Estimator fit failed. The score on this train-test partition for these parameters will be set to nan. Details: \n",
            "ValueError: Solver lbfgs supports only 'l2' or 'none' penalties, got l1 penalty.\n",
            "\n",
            "  FitFailedWarning)\n",
            "/usr/local/lib/python3.7/dist-packages/sklearn/model_selection/_validation.py:536: FitFailedWarning: Estimator fit failed. The score on this train-test partition for these parameters will be set to nan. Details: \n",
            "ValueError: Solver newton-cg supports only 'l2' or 'none' penalties, got l1 penalty.\n",
            "\n",
            "  FitFailedWarning)\n"
          ],
          "name": "stderr"
        },
        {
          "output_type": "stream",
          "text": [
            "[CV]  C=0.07742636826811278, penalty=l2, solver=lbfgs, score=0.800, total=   0.2s\n",
            "[CV] C=0.07742636826811278, penalty=l2, solver=lbfgs .................\n",
            "[CV]  C=0.07742636826811278, penalty=l2, solver=lbfgs, score=0.714, total=   0.2s\n",
            "[CV] C=0.07742636826811278, penalty=l2, solver=lbfgs .................\n",
            "[CV]  C=0.07742636826811278, penalty=l2, solver=lbfgs, score=0.733, total=   0.2s\n",
            "[CV] C=0.07742636826811278, penalty=l2, solver=lbfgs .................\n",
            "[CV]  C=0.07742636826811278, penalty=l2, solver=lbfgs, score=0.705, total=   0.2s\n",
            "[CV] C=0.07742636826811278, penalty=l2, solver=lbfgs .................\n",
            "[CV]  C=0.07742636826811278, penalty=l2, solver=lbfgs, score=0.743, total=   0.2s\n",
            "[CV] C=0.07742636826811278, penalty=l2, solver=newton-cg .............\n",
            "[CV]  C=0.07742636826811278, penalty=l2, solver=newton-cg, score=0.800, total=   0.4s\n",
            "[CV] C=0.07742636826811278, penalty=l2, solver=newton-cg .............\n",
            "[CV]  C=0.07742636826811278, penalty=l2, solver=newton-cg, score=0.714, total=   0.4s\n",
            "[CV] C=0.07742636826811278, penalty=l2, solver=newton-cg .............\n",
            "[CV]  C=0.07742636826811278, penalty=l2, solver=newton-cg, score=0.733, total=   0.4s\n",
            "[CV] C=0.07742636826811278, penalty=l2, solver=newton-cg .............\n",
            "[CV]  C=0.07742636826811278, penalty=l2, solver=newton-cg, score=0.705, total=   0.4s\n",
            "[CV] C=0.07742636826811278, penalty=l2, solver=newton-cg .............\n",
            "[CV]  C=0.07742636826811278, penalty=l2, solver=newton-cg, score=0.743, total=   0.4s\n",
            "[CV] C=0.07742636826811278, penalty=l2, solver=‘sag’ .................\n",
            "[CV]  C=0.07742636826811278, penalty=l2, solver=‘sag’, score=nan, total=   0.0s\n",
            "[CV] C=0.07742636826811278, penalty=l2, solver=‘sag’ .................\n",
            "[CV]  C=0.07742636826811278, penalty=l2, solver=‘sag’, score=nan, total=   0.0s\n",
            "[CV] C=0.07742636826811278, penalty=l2, solver=‘sag’ .................\n",
            "[CV]  C=0.07742636826811278, penalty=l2, solver=‘sag’, score=nan, total=   0.0s\n",
            "[CV] C=0.07742636826811278, penalty=l2, solver=‘sag’ .................\n",
            "[CV]  C=0.07742636826811278, penalty=l2, solver=‘sag’, score=nan, total=   0.0s\n",
            "[CV] C=0.07742636826811278, penalty=l2, solver=‘sag’ .................\n",
            "[CV]  C=0.07742636826811278, penalty=l2, solver=‘sag’, score=nan, total=   0.0s\n",
            "[CV] C=12.915496650148826, penalty=l1, solver=lbfgs ..................\n",
            "[CV]  C=12.915496650148826, penalty=l1, solver=lbfgs, score=nan, total=   0.0s\n",
            "[CV] C=12.915496650148826, penalty=l1, solver=lbfgs ..................\n",
            "[CV]  C=12.915496650148826, penalty=l1, solver=lbfgs, score=nan, total=   0.0s\n",
            "[CV] C=12.915496650148826, penalty=l1, solver=lbfgs ..................\n",
            "[CV]  C=12.915496650148826, penalty=l1, solver=lbfgs, score=nan, total=   0.0s\n",
            "[CV] C=12.915496650148826, penalty=l1, solver=lbfgs ..................\n",
            "[CV]  C=12.915496650148826, penalty=l1, solver=lbfgs, score=nan, total=   0.0s\n",
            "[CV] C=12.915496650148826, penalty=l1, solver=lbfgs ..................\n",
            "[CV]  C=12.915496650148826, penalty=l1, solver=lbfgs, score=nan, total=   0.0s\n",
            "[CV] C=12.915496650148826, penalty=l1, solver=newton-cg ..............\n",
            "[CV]  C=12.915496650148826, penalty=l1, solver=newton-cg, score=nan, total=   0.0s\n",
            "[CV] C=12.915496650148826, penalty=l1, solver=newton-cg ..............\n",
            "[CV]  C=12.915496650148826, penalty=l1, solver=newton-cg, score=nan, total=   0.0s\n",
            "[CV] C=12.915496650148826, penalty=l1, solver=newton-cg ..............\n",
            "[CV]  C=12.915496650148826, penalty=l1, solver=newton-cg, score=nan, total=   0.0s\n",
            "[CV] C=12.915496650148826, penalty=l1, solver=newton-cg ..............\n",
            "[CV]  C=12.915496650148826, penalty=l1, solver=newton-cg, score=nan, total=   0.0s\n",
            "[CV] C=12.915496650148826, penalty=l1, solver=newton-cg ..............\n",
            "[CV]  C=12.915496650148826, penalty=l1, solver=newton-cg, score=nan, total=   0.0s\n",
            "[CV] C=12.915496650148826, penalty=l1, solver=‘sag’ ..................\n",
            "[CV]  C=12.915496650148826, penalty=l1, solver=‘sag’, score=nan, total=   0.0s\n",
            "[CV] C=12.915496650148826, penalty=l1, solver=‘sag’ ..................\n",
            "[CV]  C=12.915496650148826, penalty=l1, solver=‘sag’, score=nan, total=   0.0s\n",
            "[CV] C=12.915496650148826, penalty=l1, solver=‘sag’ ..................\n",
            "[CV]  C=12.915496650148826, penalty=l1, solver=‘sag’, score=nan, total=   0.0s\n",
            "[CV] C=12.915496650148826, penalty=l1, solver=‘sag’ ..................\n",
            "[CV]  C=12.915496650148826, penalty=l1, solver=‘sag’, score=nan, total=   0.0s\n",
            "[CV] C=12.915496650148826, penalty=l1, solver=‘sag’ ..................\n",
            "[CV]  C=12.915496650148826, penalty=l1, solver=‘sag’, score=nan, total=   0.0s\n",
            "[CV] C=12.915496650148826, penalty=l2, solver=lbfgs ..................\n"
          ],
          "name": "stdout"
        },
        {
          "output_type": "stream",
          "text": [
            "/usr/local/lib/python3.7/dist-packages/sklearn/model_selection/_validation.py:536: FitFailedWarning: Estimator fit failed. The score on this train-test partition for these parameters will be set to nan. Details: \n",
            "ValueError: Logistic Regression supports only solvers in ['liblinear', 'newton-cg', 'lbfgs', 'sag', 'saga'], got ‘sag’.\n",
            "\n",
            "  FitFailedWarning)\n",
            "/usr/local/lib/python3.7/dist-packages/sklearn/model_selection/_validation.py:536: FitFailedWarning: Estimator fit failed. The score on this train-test partition for these parameters will be set to nan. Details: \n",
            "ValueError: Solver lbfgs supports only 'l2' or 'none' penalties, got l1 penalty.\n",
            "\n",
            "  FitFailedWarning)\n",
            "/usr/local/lib/python3.7/dist-packages/sklearn/model_selection/_validation.py:536: FitFailedWarning: Estimator fit failed. The score on this train-test partition for these parameters will be set to nan. Details: \n",
            "ValueError: Solver newton-cg supports only 'l2' or 'none' penalties, got l1 penalty.\n",
            "\n",
            "  FitFailedWarning)\n",
            "/usr/local/lib/python3.7/dist-packages/sklearn/linear_model/_logistic.py:940: ConvergenceWarning: lbfgs failed to converge (status=1):\n",
            "STOP: TOTAL NO. of ITERATIONS REACHED LIMIT.\n",
            "\n",
            "Increase the number of iterations (max_iter) or scale the data as shown in:\n",
            "    https://scikit-learn.org/stable/modules/preprocessing.html\n",
            "Please also refer to the documentation for alternative solver options:\n",
            "    https://scikit-learn.org/stable/modules/linear_model.html#logistic-regression\n",
            "  extra_warning_msg=_LOGISTIC_SOLVER_CONVERGENCE_MSG)\n"
          ],
          "name": "stderr"
        },
        {
          "output_type": "stream",
          "text": [
            "[CV]  C=12.915496650148826, penalty=l2, solver=lbfgs, score=0.714, total=   0.3s\n",
            "[CV] C=12.915496650148826, penalty=l2, solver=lbfgs ..................\n"
          ],
          "name": "stdout"
        },
        {
          "output_type": "stream",
          "text": [
            "/usr/local/lib/python3.7/dist-packages/sklearn/linear_model/_logistic.py:940: ConvergenceWarning: lbfgs failed to converge (status=1):\n",
            "STOP: TOTAL NO. of ITERATIONS REACHED LIMIT.\n",
            "\n",
            "Increase the number of iterations (max_iter) or scale the data as shown in:\n",
            "    https://scikit-learn.org/stable/modules/preprocessing.html\n",
            "Please also refer to the documentation for alternative solver options:\n",
            "    https://scikit-learn.org/stable/modules/linear_model.html#logistic-regression\n",
            "  extra_warning_msg=_LOGISTIC_SOLVER_CONVERGENCE_MSG)\n"
          ],
          "name": "stderr"
        },
        {
          "output_type": "stream",
          "text": [
            "[CV]  C=12.915496650148826, penalty=l2, solver=lbfgs, score=0.638, total=   0.3s\n",
            "[CV] C=12.915496650148826, penalty=l2, solver=lbfgs ..................\n"
          ],
          "name": "stdout"
        },
        {
          "output_type": "stream",
          "text": [
            "/usr/local/lib/python3.7/dist-packages/sklearn/linear_model/_logistic.py:940: ConvergenceWarning: lbfgs failed to converge (status=1):\n",
            "STOP: TOTAL NO. of ITERATIONS REACHED LIMIT.\n",
            "\n",
            "Increase the number of iterations (max_iter) or scale the data as shown in:\n",
            "    https://scikit-learn.org/stable/modules/preprocessing.html\n",
            "Please also refer to the documentation for alternative solver options:\n",
            "    https://scikit-learn.org/stable/modules/linear_model.html#logistic-regression\n",
            "  extra_warning_msg=_LOGISTIC_SOLVER_CONVERGENCE_MSG)\n"
          ],
          "name": "stderr"
        },
        {
          "output_type": "stream",
          "text": [
            "[CV]  C=12.915496650148826, penalty=l2, solver=lbfgs, score=0.724, total=   0.3s\n",
            "[CV] C=12.915496650148826, penalty=l2, solver=lbfgs ..................\n"
          ],
          "name": "stdout"
        },
        {
          "output_type": "stream",
          "text": [
            "/usr/local/lib/python3.7/dist-packages/sklearn/linear_model/_logistic.py:940: ConvergenceWarning: lbfgs failed to converge (status=1):\n",
            "STOP: TOTAL NO. of ITERATIONS REACHED LIMIT.\n",
            "\n",
            "Increase the number of iterations (max_iter) or scale the data as shown in:\n",
            "    https://scikit-learn.org/stable/modules/preprocessing.html\n",
            "Please also refer to the documentation for alternative solver options:\n",
            "    https://scikit-learn.org/stable/modules/linear_model.html#logistic-regression\n",
            "  extra_warning_msg=_LOGISTIC_SOLVER_CONVERGENCE_MSG)\n"
          ],
          "name": "stderr"
        },
        {
          "output_type": "stream",
          "text": [
            "[CV]  C=12.915496650148826, penalty=l2, solver=lbfgs, score=0.657, total=   0.3s\n",
            "[CV] C=12.915496650148826, penalty=l2, solver=lbfgs ..................\n"
          ],
          "name": "stdout"
        },
        {
          "output_type": "stream",
          "text": [
            "/usr/local/lib/python3.7/dist-packages/sklearn/linear_model/_logistic.py:940: ConvergenceWarning: lbfgs failed to converge (status=1):\n",
            "STOP: TOTAL NO. of ITERATIONS REACHED LIMIT.\n",
            "\n",
            "Increase the number of iterations (max_iter) or scale the data as shown in:\n",
            "    https://scikit-learn.org/stable/modules/preprocessing.html\n",
            "Please also refer to the documentation for alternative solver options:\n",
            "    https://scikit-learn.org/stable/modules/linear_model.html#logistic-regression\n",
            "  extra_warning_msg=_LOGISTIC_SOLVER_CONVERGENCE_MSG)\n"
          ],
          "name": "stderr"
        },
        {
          "output_type": "stream",
          "text": [
            "[CV]  C=12.915496650148826, penalty=l2, solver=lbfgs, score=0.695, total=   0.3s\n",
            "[CV] C=12.915496650148826, penalty=l2, solver=newton-cg ..............\n",
            "[CV]  C=12.915496650148826, penalty=l2, solver=newton-cg, score=0.724, total=   0.5s\n",
            "[CV] C=12.915496650148826, penalty=l2, solver=newton-cg ..............\n",
            "[CV]  C=12.915496650148826, penalty=l2, solver=newton-cg, score=0.648, total=   0.6s\n",
            "[CV] C=12.915496650148826, penalty=l2, solver=newton-cg ..............\n",
            "[CV]  C=12.915496650148826, penalty=l2, solver=newton-cg, score=0.724, total=   0.6s\n",
            "[CV] C=12.915496650148826, penalty=l2, solver=newton-cg ..............\n",
            "[CV]  C=12.915496650148826, penalty=l2, solver=newton-cg, score=0.657, total=   0.5s\n",
            "[CV] C=12.915496650148826, penalty=l2, solver=newton-cg ..............\n",
            "[CV]  C=12.915496650148826, penalty=l2, solver=newton-cg, score=0.686, total=   0.5s\n",
            "[CV] C=12.915496650148826, penalty=l2, solver=‘sag’ ..................\n",
            "[CV]  C=12.915496650148826, penalty=l2, solver=‘sag’, score=nan, total=   0.0s\n",
            "[CV] C=12.915496650148826, penalty=l2, solver=‘sag’ ..................\n",
            "[CV]  C=12.915496650148826, penalty=l2, solver=‘sag’, score=nan, total=   0.0s\n",
            "[CV] C=12.915496650148826, penalty=l2, solver=‘sag’ ..................\n",
            "[CV]  C=12.915496650148826, penalty=l2, solver=‘sag’, score=nan, total=   0.0s\n",
            "[CV] C=12.915496650148826, penalty=l2, solver=‘sag’ ..................\n",
            "[CV]  C=12.915496650148826, penalty=l2, solver=‘sag’, score=nan, total=   0.0s\n",
            "[CV] C=12.915496650148826, penalty=l2, solver=‘sag’ ..................\n",
            "[CV]  C=12.915496650148826, penalty=l2, solver=‘sag’, score=nan, total=   0.0s\n",
            "[CV] C=2154.4346900318865, penalty=l1, solver=lbfgs ..................\n",
            "[CV]  C=2154.4346900318865, penalty=l1, solver=lbfgs, score=nan, total=   0.0s\n",
            "[CV] C=2154.4346900318865, penalty=l1, solver=lbfgs ..................\n",
            "[CV]  C=2154.4346900318865, penalty=l1, solver=lbfgs, score=nan, total=   0.0s\n",
            "[CV] C=2154.4346900318865, penalty=l1, solver=lbfgs ..................\n",
            "[CV]  C=2154.4346900318865, penalty=l1, solver=lbfgs, score=nan, total=   0.0s\n",
            "[CV] C=2154.4346900318865, penalty=l1, solver=lbfgs ..................\n",
            "[CV]  C=2154.4346900318865, penalty=l1, solver=lbfgs, score=nan, total=   0.0s\n",
            "[CV] C=2154.4346900318865, penalty=l1, solver=lbfgs ..................\n",
            "[CV]  C=2154.4346900318865, penalty=l1, solver=lbfgs, score=nan, total=   0.0s\n",
            "[CV] C=2154.4346900318865, penalty=l1, solver=newton-cg ..............\n",
            "[CV]  C=2154.4346900318865, penalty=l1, solver=newton-cg, score=nan, total=   0.0s\n",
            "[CV] C=2154.4346900318865, penalty=l1, solver=newton-cg ..............\n",
            "[CV]  C=2154.4346900318865, penalty=l1, solver=newton-cg, score=nan, total=   0.0s\n",
            "[CV] C=2154.4346900318865, penalty=l1, solver=newton-cg ..............\n",
            "[CV]  C=2154.4346900318865, penalty=l1, solver=newton-cg, score=nan, total=   0.0s\n",
            "[CV] C=2154.4346900318865, penalty=l1, solver=newton-cg ..............\n",
            "[CV]  C=2154.4346900318865, penalty=l1, solver=newton-cg, score=nan, total=   0.0s\n",
            "[CV] C=2154.4346900318865, penalty=l1, solver=newton-cg ..............\n",
            "[CV]  C=2154.4346900318865, penalty=l1, solver=newton-cg, score=nan, total=   0.0s\n",
            "[CV] C=2154.4346900318865, penalty=l1, solver=‘sag’ ..................\n",
            "[CV]  C=2154.4346900318865, penalty=l1, solver=‘sag’, score=nan, total=   0.0s\n",
            "[CV] C=2154.4346900318865, penalty=l1, solver=‘sag’ ..................\n",
            "[CV]  C=2154.4346900318865, penalty=l1, solver=‘sag’, score=nan, total=   0.0s\n",
            "[CV] C=2154.4346900318865, penalty=l1, solver=‘sag’ ..................\n",
            "[CV]  C=2154.4346900318865, penalty=l1, solver=‘sag’, score=nan, total=   0.0s\n",
            "[CV] C=2154.4346900318865, penalty=l1, solver=‘sag’ ..................\n",
            "[CV]  C=2154.4346900318865, penalty=l1, solver=‘sag’, score=nan, total=   0.0s\n",
            "[CV] C=2154.4346900318865, penalty=l1, solver=‘sag’ ..................\n",
            "[CV]  C=2154.4346900318865, penalty=l1, solver=‘sag’, score=nan, total=   0.0s\n",
            "[CV] C=2154.4346900318865, penalty=l2, solver=lbfgs ..................\n"
          ],
          "name": "stdout"
        },
        {
          "output_type": "stream",
          "text": [
            "/usr/local/lib/python3.7/dist-packages/sklearn/model_selection/_validation.py:536: FitFailedWarning: Estimator fit failed. The score on this train-test partition for these parameters will be set to nan. Details: \n",
            "ValueError: Logistic Regression supports only solvers in ['liblinear', 'newton-cg', 'lbfgs', 'sag', 'saga'], got ‘sag’.\n",
            "\n",
            "  FitFailedWarning)\n",
            "/usr/local/lib/python3.7/dist-packages/sklearn/model_selection/_validation.py:536: FitFailedWarning: Estimator fit failed. The score on this train-test partition for these parameters will be set to nan. Details: \n",
            "ValueError: Solver lbfgs supports only 'l2' or 'none' penalties, got l1 penalty.\n",
            "\n",
            "  FitFailedWarning)\n",
            "/usr/local/lib/python3.7/dist-packages/sklearn/model_selection/_validation.py:536: FitFailedWarning: Estimator fit failed. The score on this train-test partition for these parameters will be set to nan. Details: \n",
            "ValueError: Solver newton-cg supports only 'l2' or 'none' penalties, got l1 penalty.\n",
            "\n",
            "  FitFailedWarning)\n",
            "/usr/local/lib/python3.7/dist-packages/sklearn/linear_model/_logistic.py:940: ConvergenceWarning: lbfgs failed to converge (status=1):\n",
            "STOP: TOTAL NO. of ITERATIONS REACHED LIMIT.\n",
            "\n",
            "Increase the number of iterations (max_iter) or scale the data as shown in:\n",
            "    https://scikit-learn.org/stable/modules/preprocessing.html\n",
            "Please also refer to the documentation for alternative solver options:\n",
            "    https://scikit-learn.org/stable/modules/linear_model.html#logistic-regression\n",
            "  extra_warning_msg=_LOGISTIC_SOLVER_CONVERGENCE_MSG)\n"
          ],
          "name": "stderr"
        },
        {
          "output_type": "stream",
          "text": [
            "[CV]  C=2154.4346900318865, penalty=l2, solver=lbfgs, score=0.705, total=   0.3s\n",
            "[CV] C=2154.4346900318865, penalty=l2, solver=lbfgs ..................\n"
          ],
          "name": "stdout"
        },
        {
          "output_type": "stream",
          "text": [
            "/usr/local/lib/python3.7/dist-packages/sklearn/linear_model/_logistic.py:940: ConvergenceWarning: lbfgs failed to converge (status=1):\n",
            "STOP: TOTAL NO. of ITERATIONS REACHED LIMIT.\n",
            "\n",
            "Increase the number of iterations (max_iter) or scale the data as shown in:\n",
            "    https://scikit-learn.org/stable/modules/preprocessing.html\n",
            "Please also refer to the documentation for alternative solver options:\n",
            "    https://scikit-learn.org/stable/modules/linear_model.html#logistic-regression\n",
            "  extra_warning_msg=_LOGISTIC_SOLVER_CONVERGENCE_MSG)\n"
          ],
          "name": "stderr"
        },
        {
          "output_type": "stream",
          "text": [
            "[CV]  C=2154.4346900318865, penalty=l2, solver=lbfgs, score=0.629, total=   0.3s\n",
            "[CV] C=2154.4346900318865, penalty=l2, solver=lbfgs ..................\n"
          ],
          "name": "stdout"
        },
        {
          "output_type": "stream",
          "text": [
            "/usr/local/lib/python3.7/dist-packages/sklearn/linear_model/_logistic.py:940: ConvergenceWarning: lbfgs failed to converge (status=1):\n",
            "STOP: TOTAL NO. of ITERATIONS REACHED LIMIT.\n",
            "\n",
            "Increase the number of iterations (max_iter) or scale the data as shown in:\n",
            "    https://scikit-learn.org/stable/modules/preprocessing.html\n",
            "Please also refer to the documentation for alternative solver options:\n",
            "    https://scikit-learn.org/stable/modules/linear_model.html#logistic-regression\n",
            "  extra_warning_msg=_LOGISTIC_SOLVER_CONVERGENCE_MSG)\n"
          ],
          "name": "stderr"
        },
        {
          "output_type": "stream",
          "text": [
            "[CV]  C=2154.4346900318865, penalty=l2, solver=lbfgs, score=0.714, total=   0.3s\n",
            "[CV] C=2154.4346900318865, penalty=l2, solver=lbfgs ..................\n"
          ],
          "name": "stdout"
        },
        {
          "output_type": "stream",
          "text": [
            "/usr/local/lib/python3.7/dist-packages/sklearn/linear_model/_logistic.py:940: ConvergenceWarning: lbfgs failed to converge (status=1):\n",
            "STOP: TOTAL NO. of ITERATIONS REACHED LIMIT.\n",
            "\n",
            "Increase the number of iterations (max_iter) or scale the data as shown in:\n",
            "    https://scikit-learn.org/stable/modules/preprocessing.html\n",
            "Please also refer to the documentation for alternative solver options:\n",
            "    https://scikit-learn.org/stable/modules/linear_model.html#logistic-regression\n",
            "  extra_warning_msg=_LOGISTIC_SOLVER_CONVERGENCE_MSG)\n"
          ],
          "name": "stderr"
        },
        {
          "output_type": "stream",
          "text": [
            "[CV]  C=2154.4346900318865, penalty=l2, solver=lbfgs, score=0.657, total=   0.3s\n",
            "[CV] C=2154.4346900318865, penalty=l2, solver=lbfgs ..................\n"
          ],
          "name": "stdout"
        },
        {
          "output_type": "stream",
          "text": [
            "/usr/local/lib/python3.7/dist-packages/sklearn/linear_model/_logistic.py:940: ConvergenceWarning: lbfgs failed to converge (status=1):\n",
            "STOP: TOTAL NO. of ITERATIONS REACHED LIMIT.\n",
            "\n",
            "Increase the number of iterations (max_iter) or scale the data as shown in:\n",
            "    https://scikit-learn.org/stable/modules/preprocessing.html\n",
            "Please also refer to the documentation for alternative solver options:\n",
            "    https://scikit-learn.org/stable/modules/linear_model.html#logistic-regression\n",
            "  extra_warning_msg=_LOGISTIC_SOLVER_CONVERGENCE_MSG)\n"
          ],
          "name": "stderr"
        },
        {
          "output_type": "stream",
          "text": [
            "[CV]  C=2154.4346900318865, penalty=l2, solver=lbfgs, score=0.686, total=   0.3s\n",
            "[CV] C=2154.4346900318865, penalty=l2, solver=newton-cg ..............\n",
            "[CV]  C=2154.4346900318865, penalty=l2, solver=newton-cg, score=0.714, total=   0.4s\n",
            "[CV] C=2154.4346900318865, penalty=l2, solver=newton-cg ..............\n",
            "[CV]  C=2154.4346900318865, penalty=l2, solver=newton-cg, score=0.629, total=   0.5s\n",
            "[CV] C=2154.4346900318865, penalty=l2, solver=newton-cg ..............\n",
            "[CV]  C=2154.4346900318865, penalty=l2, solver=newton-cg, score=0.724, total=   0.6s\n",
            "[CV] C=2154.4346900318865, penalty=l2, solver=newton-cg ..............\n",
            "[CV]  C=2154.4346900318865, penalty=l2, solver=newton-cg, score=0.657, total=   0.5s\n",
            "[CV] C=2154.4346900318865, penalty=l2, solver=newton-cg ..............\n",
            "[CV]  C=2154.4346900318865, penalty=l2, solver=newton-cg, score=0.676, total=   0.6s\n",
            "[CV] C=2154.4346900318865, penalty=l2, solver=‘sag’ ..................\n",
            "[CV]  C=2154.4346900318865, penalty=l2, solver=‘sag’, score=nan, total=   0.0s\n",
            "[CV] C=2154.4346900318865, penalty=l2, solver=‘sag’ ..................\n",
            "[CV]  C=2154.4346900318865, penalty=l2, solver=‘sag’, score=nan, total=   0.0s\n",
            "[CV] C=2154.4346900318865, penalty=l2, solver=‘sag’ ..................\n",
            "[CV]  C=2154.4346900318865, penalty=l2, solver=‘sag’, score=nan, total=   0.0s\n",
            "[CV] C=2154.4346900318865, penalty=l2, solver=‘sag’ ..................\n",
            "[CV]  C=2154.4346900318865, penalty=l2, solver=‘sag’, score=nan, total=   0.0s\n",
            "[CV] C=2154.4346900318865, penalty=l2, solver=‘sag’ ..................\n",
            "[CV]  C=2154.4346900318865, penalty=l2, solver=‘sag’, score=nan, total=   0.0s\n",
            "[CV] C=359381.36638046405, penalty=l1, solver=lbfgs ..................\n",
            "[CV]  C=359381.36638046405, penalty=l1, solver=lbfgs, score=nan, total=   0.0s\n",
            "[CV] C=359381.36638046405, penalty=l1, solver=lbfgs ..................\n",
            "[CV]  C=359381.36638046405, penalty=l1, solver=lbfgs, score=nan, total=   0.0s\n",
            "[CV] C=359381.36638046405, penalty=l1, solver=lbfgs ..................\n",
            "[CV]  C=359381.36638046405, penalty=l1, solver=lbfgs, score=nan, total=   0.0s\n",
            "[CV] C=359381.36638046405, penalty=l1, solver=lbfgs ..................\n",
            "[CV]  C=359381.36638046405, penalty=l1, solver=lbfgs, score=nan, total=   0.0s\n",
            "[CV] C=359381.36638046405, penalty=l1, solver=lbfgs ..................\n",
            "[CV]  C=359381.36638046405, penalty=l1, solver=lbfgs, score=nan, total=   0.0s\n",
            "[CV] C=359381.36638046405, penalty=l1, solver=newton-cg ..............\n",
            "[CV]  C=359381.36638046405, penalty=l1, solver=newton-cg, score=nan, total=   0.0s\n",
            "[CV] C=359381.36638046405, penalty=l1, solver=newton-cg ..............\n",
            "[CV]  C=359381.36638046405, penalty=l1, solver=newton-cg, score=nan, total=   0.0s\n",
            "[CV] C=359381.36638046405, penalty=l1, solver=newton-cg ..............\n",
            "[CV]  C=359381.36638046405, penalty=l1, solver=newton-cg, score=nan, total=   0.0s\n",
            "[CV] C=359381.36638046405, penalty=l1, solver=newton-cg ..............\n",
            "[CV]  C=359381.36638046405, penalty=l1, solver=newton-cg, score=nan, total=   0.0s\n",
            "[CV] C=359381.36638046405, penalty=l1, solver=newton-cg ..............\n",
            "[CV]  C=359381.36638046405, penalty=l1, solver=newton-cg, score=nan, total=   0.0s\n",
            "[CV] C=359381.36638046405, penalty=l1, solver=‘sag’ ..................\n",
            "[CV]  C=359381.36638046405, penalty=l1, solver=‘sag’, score=nan, total=   0.0s\n",
            "[CV] C=359381.36638046405, penalty=l1, solver=‘sag’ ..................\n",
            "[CV]  C=359381.36638046405, penalty=l1, solver=‘sag’, score=nan, total=   0.0s\n",
            "[CV] C=359381.36638046405, penalty=l1, solver=‘sag’ ..................\n",
            "[CV]  C=359381.36638046405, penalty=l1, solver=‘sag’, score=nan, total=   0.0s\n",
            "[CV] C=359381.36638046405, penalty=l1, solver=‘sag’ ..................\n",
            "[CV]  C=359381.36638046405, penalty=l1, solver=‘sag’, score=nan, total=   0.0s\n",
            "[CV] C=359381.36638046405, penalty=l1, solver=‘sag’ ..................\n",
            "[CV]  C=359381.36638046405, penalty=l1, solver=‘sag’, score=nan, total=   0.0s\n",
            "[CV] C=359381.36638046405, penalty=l2, solver=lbfgs ..................\n"
          ],
          "name": "stdout"
        },
        {
          "output_type": "stream",
          "text": [
            "/usr/local/lib/python3.7/dist-packages/sklearn/model_selection/_validation.py:536: FitFailedWarning: Estimator fit failed. The score on this train-test partition for these parameters will be set to nan. Details: \n",
            "ValueError: Logistic Regression supports only solvers in ['liblinear', 'newton-cg', 'lbfgs', 'sag', 'saga'], got ‘sag’.\n",
            "\n",
            "  FitFailedWarning)\n",
            "/usr/local/lib/python3.7/dist-packages/sklearn/model_selection/_validation.py:536: FitFailedWarning: Estimator fit failed. The score on this train-test partition for these parameters will be set to nan. Details: \n",
            "ValueError: Solver lbfgs supports only 'l2' or 'none' penalties, got l1 penalty.\n",
            "\n",
            "  FitFailedWarning)\n",
            "/usr/local/lib/python3.7/dist-packages/sklearn/model_selection/_validation.py:536: FitFailedWarning: Estimator fit failed. The score on this train-test partition for these parameters will be set to nan. Details: \n",
            "ValueError: Solver newton-cg supports only 'l2' or 'none' penalties, got l1 penalty.\n",
            "\n",
            "  FitFailedWarning)\n"
          ],
          "name": "stderr"
        },
        {
          "output_type": "stream",
          "text": [
            "[CV]  C=359381.36638046405, penalty=l2, solver=lbfgs, score=0.695, total=   0.1s\n",
            "[CV] C=359381.36638046405, penalty=l2, solver=lbfgs ..................\n",
            "[CV]  C=359381.36638046405, penalty=l2, solver=lbfgs, score=0.629, total=   0.1s\n",
            "[CV] C=359381.36638046405, penalty=l2, solver=lbfgs ..................\n",
            "[CV]  C=359381.36638046405, penalty=l2, solver=lbfgs, score=0.714, total=   0.1s\n",
            "[CV] C=359381.36638046405, penalty=l2, solver=lbfgs ..................\n",
            "[CV]  C=359381.36638046405, penalty=l2, solver=lbfgs, score=0.619, total=   0.1s\n",
            "[CV] C=359381.36638046405, penalty=l2, solver=lbfgs ..................\n",
            "[CV]  C=359381.36638046405, penalty=l2, solver=lbfgs, score=0.695, total=   0.1s\n",
            "[CV] C=359381.36638046405, penalty=l2, solver=newton-cg ..............\n",
            "[CV]  C=359381.36638046405, penalty=l2, solver=newton-cg, score=0.705, total=   0.3s\n",
            "[CV] C=359381.36638046405, penalty=l2, solver=newton-cg ..............\n",
            "[CV]  C=359381.36638046405, penalty=l2, solver=newton-cg, score=0.629, total=   0.4s\n",
            "[CV] C=359381.36638046405, penalty=l2, solver=newton-cg ..............\n",
            "[CV]  C=359381.36638046405, penalty=l2, solver=newton-cg, score=0.724, total=   0.4s\n",
            "[CV] C=359381.36638046405, penalty=l2, solver=newton-cg ..............\n",
            "[CV]  C=359381.36638046405, penalty=l2, solver=newton-cg, score=0.648, total=   0.3s\n",
            "[CV] C=359381.36638046405, penalty=l2, solver=newton-cg ..............\n",
            "[CV]  C=359381.36638046405, penalty=l2, solver=newton-cg, score=0.695, total=   0.4s\n",
            "[CV] C=359381.36638046405, penalty=l2, solver=‘sag’ ..................\n",
            "[CV]  C=359381.36638046405, penalty=l2, solver=‘sag’, score=nan, total=   0.0s\n",
            "[CV] C=359381.36638046405, penalty=l2, solver=‘sag’ ..................\n",
            "[CV]  C=359381.36638046405, penalty=l2, solver=‘sag’, score=nan, total=   0.0s\n",
            "[CV] C=359381.36638046405, penalty=l2, solver=‘sag’ ..................\n",
            "[CV]  C=359381.36638046405, penalty=l2, solver=‘sag’, score=nan, total=   0.0s\n",
            "[CV] C=359381.36638046405, penalty=l2, solver=‘sag’ ..................\n",
            "[CV]  C=359381.36638046405, penalty=l2, solver=‘sag’, score=nan, total=   0.0s\n",
            "[CV] C=359381.36638046405, penalty=l2, solver=‘sag’ ..................\n",
            "[CV]  C=359381.36638046405, penalty=l2, solver=‘sag’, score=nan, total=   0.0s\n",
            "[CV] C=59948425.03189421, penalty=l1, solver=lbfgs ...................\n",
            "[CV]  C=59948425.03189421, penalty=l1, solver=lbfgs, score=nan, total=   0.0s\n",
            "[CV] C=59948425.03189421, penalty=l1, solver=lbfgs ...................\n",
            "[CV]  C=59948425.03189421, penalty=l1, solver=lbfgs, score=nan, total=   0.0s\n",
            "[CV] C=59948425.03189421, penalty=l1, solver=lbfgs ...................\n",
            "[CV]  C=59948425.03189421, penalty=l1, solver=lbfgs, score=nan, total=   0.0s\n",
            "[CV] C=59948425.03189421, penalty=l1, solver=lbfgs ...................\n",
            "[CV]  C=59948425.03189421, penalty=l1, solver=lbfgs, score=nan, total=   0.0s\n",
            "[CV] C=59948425.03189421, penalty=l1, solver=lbfgs ...................\n",
            "[CV]  C=59948425.03189421, penalty=l1, solver=lbfgs, score=nan, total=   0.0s\n",
            "[CV] C=59948425.03189421, penalty=l1, solver=newton-cg ...............\n",
            "[CV]  C=59948425.03189421, penalty=l1, solver=newton-cg, score=nan, total=   0.0s\n",
            "[CV] C=59948425.03189421, penalty=l1, solver=newton-cg ...............\n",
            "[CV]  C=59948425.03189421, penalty=l1, solver=newton-cg, score=nan, total=   0.0s\n",
            "[CV] C=59948425.03189421, penalty=l1, solver=newton-cg ...............\n",
            "[CV]  C=59948425.03189421, penalty=l1, solver=newton-cg, score=nan, total=   0.0s\n",
            "[CV] C=59948425.03189421, penalty=l1, solver=newton-cg ...............\n",
            "[CV]  C=59948425.03189421, penalty=l1, solver=newton-cg, score=nan, total=   0.0s\n",
            "[CV] C=59948425.03189421, penalty=l1, solver=newton-cg ...............\n",
            "[CV]  C=59948425.03189421, penalty=l1, solver=newton-cg, score=nan, total=   0.0s\n",
            "[CV] C=59948425.03189421, penalty=l1, solver=‘sag’ ...................\n",
            "[CV]  C=59948425.03189421, penalty=l1, solver=‘sag’, score=nan, total=   0.0s\n",
            "[CV] C=59948425.03189421, penalty=l1, solver=‘sag’ ...................\n",
            "[CV]  C=59948425.03189421, penalty=l1, solver=‘sag’, score=nan, total=   0.0s\n",
            "[CV] C=59948425.03189421, penalty=l1, solver=‘sag’ ...................\n",
            "[CV]  C=59948425.03189421, penalty=l1, solver=‘sag’, score=nan, total=   0.0s\n",
            "[CV] C=59948425.03189421, penalty=l1, solver=‘sag’ ...................\n",
            "[CV]  C=59948425.03189421, penalty=l1, solver=‘sag’, score=nan, total=   0.0s\n",
            "[CV] C=59948425.03189421, penalty=l1, solver=‘sag’ ...................\n",
            "[CV]  C=59948425.03189421, penalty=l1, solver=‘sag’, score=nan, total=   0.0s\n",
            "[CV] C=59948425.03189421, penalty=l2, solver=lbfgs ...................\n"
          ],
          "name": "stdout"
        },
        {
          "output_type": "stream",
          "text": [
            "/usr/local/lib/python3.7/dist-packages/sklearn/model_selection/_validation.py:536: FitFailedWarning: Estimator fit failed. The score on this train-test partition for these parameters will be set to nan. Details: \n",
            "ValueError: Logistic Regression supports only solvers in ['liblinear', 'newton-cg', 'lbfgs', 'sag', 'saga'], got ‘sag’.\n",
            "\n",
            "  FitFailedWarning)\n",
            "/usr/local/lib/python3.7/dist-packages/sklearn/model_selection/_validation.py:536: FitFailedWarning: Estimator fit failed. The score on this train-test partition for these parameters will be set to nan. Details: \n",
            "ValueError: Solver lbfgs supports only 'l2' or 'none' penalties, got l1 penalty.\n",
            "\n",
            "  FitFailedWarning)\n",
            "/usr/local/lib/python3.7/dist-packages/sklearn/model_selection/_validation.py:536: FitFailedWarning: Estimator fit failed. The score on this train-test partition for these parameters will be set to nan. Details: \n",
            "ValueError: Solver newton-cg supports only 'l2' or 'none' penalties, got l1 penalty.\n",
            "\n",
            "  FitFailedWarning)\n"
          ],
          "name": "stderr"
        },
        {
          "output_type": "stream",
          "text": [
            "[CV]  C=59948425.03189421, penalty=l2, solver=lbfgs, score=0.695, total=   0.1s\n",
            "[CV] C=59948425.03189421, penalty=l2, solver=lbfgs ...................\n",
            "[CV]  C=59948425.03189421, penalty=l2, solver=lbfgs, score=0.619, total=   0.1s\n",
            "[CV] C=59948425.03189421, penalty=l2, solver=lbfgs ...................\n",
            "[CV]  C=59948425.03189421, penalty=l2, solver=lbfgs, score=0.705, total=   0.1s\n",
            "[CV] C=59948425.03189421, penalty=l2, solver=lbfgs ...................\n",
            "[CV]  C=59948425.03189421, penalty=l2, solver=lbfgs, score=0.619, total=   0.1s\n",
            "[CV] C=59948425.03189421, penalty=l2, solver=lbfgs ...................\n",
            "[CV]  C=59948425.03189421, penalty=l2, solver=lbfgs, score=0.695, total=   0.1s\n",
            "[CV] C=59948425.03189421, penalty=l2, solver=newton-cg ...............\n",
            "[CV]  C=59948425.03189421, penalty=l2, solver=newton-cg, score=0.705, total=   0.3s\n",
            "[CV] C=59948425.03189421, penalty=l2, solver=newton-cg ...............\n",
            "[CV]  C=59948425.03189421, penalty=l2, solver=newton-cg, score=0.629, total=   0.4s\n",
            "[CV] C=59948425.03189421, penalty=l2, solver=newton-cg ...............\n",
            "[CV]  C=59948425.03189421, penalty=l2, solver=newton-cg, score=0.724, total=   0.3s\n",
            "[CV] C=59948425.03189421, penalty=l2, solver=newton-cg ...............\n",
            "[CV]  C=59948425.03189421, penalty=l2, solver=newton-cg, score=0.657, total=   0.4s\n",
            "[CV] C=59948425.03189421, penalty=l2, solver=newton-cg ...............\n",
            "[CV]  C=59948425.03189421, penalty=l2, solver=newton-cg, score=0.705, total=   0.3s\n",
            "[CV] C=59948425.03189421, penalty=l2, solver=‘sag’ ...................\n",
            "[CV]  C=59948425.03189421, penalty=l2, solver=‘sag’, score=nan, total=   0.0s\n",
            "[CV] C=59948425.03189421, penalty=l2, solver=‘sag’ ...................\n",
            "[CV]  C=59948425.03189421, penalty=l2, solver=‘sag’, score=nan, total=   0.0s\n",
            "[CV] C=59948425.03189421, penalty=l2, solver=‘sag’ ...................\n",
            "[CV]  C=59948425.03189421, penalty=l2, solver=‘sag’, score=nan, total=   0.0s\n",
            "[CV] C=59948425.03189421, penalty=l2, solver=‘sag’ ...................\n",
            "[CV]  C=59948425.03189421, penalty=l2, solver=‘sag’, score=nan, total=   0.0s\n",
            "[CV] C=59948425.03189421, penalty=l2, solver=‘sag’ ...................\n",
            "[CV]  C=59948425.03189421, penalty=l2, solver=‘sag’, score=nan, total=   0.0s\n",
            "[CV] C=10000000000.0, penalty=l1, solver=lbfgs .......................\n",
            "[CV]  C=10000000000.0, penalty=l1, solver=lbfgs, score=nan, total=   0.0s\n",
            "[CV] C=10000000000.0, penalty=l1, solver=lbfgs .......................\n",
            "[CV]  C=10000000000.0, penalty=l1, solver=lbfgs, score=nan, total=   0.0s\n",
            "[CV] C=10000000000.0, penalty=l1, solver=lbfgs .......................\n",
            "[CV]  C=10000000000.0, penalty=l1, solver=lbfgs, score=nan, total=   0.0s\n",
            "[CV] C=10000000000.0, penalty=l1, solver=lbfgs .......................\n",
            "[CV]  C=10000000000.0, penalty=l1, solver=lbfgs, score=nan, total=   0.0s\n",
            "[CV] C=10000000000.0, penalty=l1, solver=lbfgs .......................\n",
            "[CV]  C=10000000000.0, penalty=l1, solver=lbfgs, score=nan, total=   0.0s\n",
            "[CV] C=10000000000.0, penalty=l1, solver=newton-cg ...................\n",
            "[CV]  C=10000000000.0, penalty=l1, solver=newton-cg, score=nan, total=   0.0s\n",
            "[CV] C=10000000000.0, penalty=l1, solver=newton-cg ...................\n",
            "[CV]  C=10000000000.0, penalty=l1, solver=newton-cg, score=nan, total=   0.0s\n",
            "[CV] C=10000000000.0, penalty=l1, solver=newton-cg ...................\n",
            "[CV]  C=10000000000.0, penalty=l1, solver=newton-cg, score=nan, total=   0.0s\n",
            "[CV] C=10000000000.0, penalty=l1, solver=newton-cg ...................\n",
            "[CV]  C=10000000000.0, penalty=l1, solver=newton-cg, score=nan, total=   0.0s\n",
            "[CV] C=10000000000.0, penalty=l1, solver=newton-cg ...................\n",
            "[CV]  C=10000000000.0, penalty=l1, solver=newton-cg, score=nan, total=   0.0s\n",
            "[CV] C=10000000000.0, penalty=l1, solver=‘sag’ .......................\n",
            "[CV]  C=10000000000.0, penalty=l1, solver=‘sag’, score=nan, total=   0.0s\n",
            "[CV] C=10000000000.0, penalty=l1, solver=‘sag’ .......................\n",
            "[CV]  C=10000000000.0, penalty=l1, solver=‘sag’, score=nan, total=   0.0s\n",
            "[CV] C=10000000000.0, penalty=l1, solver=‘sag’ .......................\n",
            "[CV]  C=10000000000.0, penalty=l1, solver=‘sag’, score=nan, total=   0.0s\n",
            "[CV] C=10000000000.0, penalty=l1, solver=‘sag’ .......................\n",
            "[CV]  C=10000000000.0, penalty=l1, solver=‘sag’, score=nan, total=   0.0s\n",
            "[CV] C=10000000000.0, penalty=l1, solver=‘sag’ .......................\n",
            "[CV]  C=10000000000.0, penalty=l1, solver=‘sag’, score=nan, total=   0.0s\n",
            "[CV] C=10000000000.0, penalty=l2, solver=lbfgs .......................\n"
          ],
          "name": "stdout"
        },
        {
          "output_type": "stream",
          "text": [
            "/usr/local/lib/python3.7/dist-packages/sklearn/model_selection/_validation.py:536: FitFailedWarning: Estimator fit failed. The score on this train-test partition for these parameters will be set to nan. Details: \n",
            "ValueError: Logistic Regression supports only solvers in ['liblinear', 'newton-cg', 'lbfgs', 'sag', 'saga'], got ‘sag’.\n",
            "\n",
            "  FitFailedWarning)\n",
            "/usr/local/lib/python3.7/dist-packages/sklearn/model_selection/_validation.py:536: FitFailedWarning: Estimator fit failed. The score on this train-test partition for these parameters will be set to nan. Details: \n",
            "ValueError: Solver lbfgs supports only 'l2' or 'none' penalties, got l1 penalty.\n",
            "\n",
            "  FitFailedWarning)\n",
            "/usr/local/lib/python3.7/dist-packages/sklearn/model_selection/_validation.py:536: FitFailedWarning: Estimator fit failed. The score on this train-test partition for these parameters will be set to nan. Details: \n",
            "ValueError: Solver newton-cg supports only 'l2' or 'none' penalties, got l1 penalty.\n",
            "\n",
            "  FitFailedWarning)\n"
          ],
          "name": "stderr"
        },
        {
          "output_type": "stream",
          "text": [
            "[CV]  C=10000000000.0, penalty=l2, solver=lbfgs, score=0.695, total=   0.1s\n",
            "[CV] C=10000000000.0, penalty=l2, solver=lbfgs .......................\n",
            "[CV]  C=10000000000.0, penalty=l2, solver=lbfgs, score=0.619, total=   0.1s\n",
            "[CV] C=10000000000.0, penalty=l2, solver=lbfgs .......................\n",
            "[CV]  C=10000000000.0, penalty=l2, solver=lbfgs, score=0.705, total=   0.1s\n",
            "[CV] C=10000000000.0, penalty=l2, solver=lbfgs .......................\n",
            "[CV]  C=10000000000.0, penalty=l2, solver=lbfgs, score=0.619, total=   0.1s\n",
            "[CV] C=10000000000.0, penalty=l2, solver=lbfgs .......................\n",
            "[CV]  C=10000000000.0, penalty=l2, solver=lbfgs, score=0.695, total=   0.1s\n",
            "[CV] C=10000000000.0, penalty=l2, solver=newton-cg ...................\n",
            "[CV]  C=10000000000.0, penalty=l2, solver=newton-cg, score=0.705, total=   0.4s\n",
            "[CV] C=10000000000.0, penalty=l2, solver=newton-cg ...................\n",
            "[CV]  C=10000000000.0, penalty=l2, solver=newton-cg, score=0.629, total=   0.4s\n",
            "[CV] C=10000000000.0, penalty=l2, solver=newton-cg ...................\n",
            "[CV]  C=10000000000.0, penalty=l2, solver=newton-cg, score=0.724, total=   0.4s\n",
            "[CV] C=10000000000.0, penalty=l2, solver=newton-cg ...................\n",
            "[CV]  C=10000000000.0, penalty=l2, solver=newton-cg, score=0.657, total=   0.4s\n",
            "[CV] C=10000000000.0, penalty=l2, solver=newton-cg ...................\n",
            "[CV]  C=10000000000.0, penalty=l2, solver=newton-cg, score=0.705, total=   0.4s\n",
            "[CV] C=10000000000.0, penalty=l2, solver=‘sag’ .......................\n",
            "[CV]  C=10000000000.0, penalty=l2, solver=‘sag’, score=nan, total=   0.0s\n",
            "[CV] C=10000000000.0, penalty=l2, solver=‘sag’ .......................\n",
            "[CV]  C=10000000000.0, penalty=l2, solver=‘sag’, score=nan, total=   0.0s\n",
            "[CV] C=10000000000.0, penalty=l2, solver=‘sag’ .......................\n",
            "[CV]  C=10000000000.0, penalty=l2, solver=‘sag’, score=nan, total=   0.0s\n",
            "[CV] C=10000000000.0, penalty=l2, solver=‘sag’ .......................\n",
            "[CV]  C=10000000000.0, penalty=l2, solver=‘sag’, score=nan, total=   0.0s\n",
            "[CV] C=10000000000.0, penalty=l2, solver=‘sag’ .......................\n",
            "[CV]  C=10000000000.0, penalty=l2, solver=‘sag’, score=nan, total=   0.0s\n"
          ],
          "name": "stdout"
        },
        {
          "output_type": "stream",
          "text": [
            "/usr/local/lib/python3.7/dist-packages/sklearn/model_selection/_validation.py:536: FitFailedWarning: Estimator fit failed. The score on this train-test partition for these parameters will be set to nan. Details: \n",
            "ValueError: Logistic Regression supports only solvers in ['liblinear', 'newton-cg', 'lbfgs', 'sag', 'saga'], got ‘sag’.\n",
            "\n",
            "  FitFailedWarning)\n",
            "[Parallel(n_jobs=1)]: Done 300 out of 300 | elapsed:   24.7s finished\n"
          ],
          "name": "stderr"
        },
        {
          "output_type": "execute_result",
          "data": {
            "text/plain": [
              "GridSearchCV(cv=None, error_score=nan,\n",
              "             estimator=LogisticRegression(C=1.0, class_weight=None, dual=False,\n",
              "                                          fit_intercept=True,\n",
              "                                          intercept_scaling=1, l1_ratio=None,\n",
              "                                          max_iter=100, multi_class='auto',\n",
              "                                          n_jobs=None, penalty='l2',\n",
              "                                          random_state=None, solver='lbfgs',\n",
              "                                          tol=0.0001, verbose=0,\n",
              "                                          warm_start=False),\n",
              "             iid='deprecated', n_jobs=None,\n",
              "             param_grid={'C': array([1.00000000e-10, 1.66810054e-08, 2.78255940e-06, 4.64158883e-04,\n",
              "       7.74263683e-02, 1.29154967e+01, 2.15443469e+03, 3.59381366e+05,\n",
              "       5.99484250e+07, 1.00000000e+10]),\n",
              "                         'penalty': ['l1', 'l2'],\n",
              "                         'solver': ['lbfgs', 'newton-cg', '‘sag’']},\n",
              "             pre_dispatch='2*n_jobs', refit=True, return_train_score=False,\n",
              "             scoring=None, verbose=3)"
            ]
          },
          "metadata": {
            "tags": []
          },
          "execution_count": 123
        }
      ]
    },
    {
      "cell_type": "code",
      "metadata": {
        "colab": {
          "base_uri": "https://localhost:8080/"
        },
        "id": "dj3MvVr4q1me",
        "outputId": "c867bf88-0655-4c68-feab-73d81ed34346"
      },
      "source": [
        "# print best parameter after tuning\n",
        "print(grid_lr.best_params_)\n",
        "  \n",
        "# print how our model looks after hyper-parameter tuning\n",
        "print(grid_lr.best_estimator_)"
      ],
      "execution_count": null,
      "outputs": [
        {
          "output_type": "stream",
          "text": [
            "{'C': 0.07742636826811278, 'penalty': 'l2', 'solver': 'lbfgs'}\n",
            "LogisticRegression(C=0.07742636826811278, class_weight=None, dual=False,\n",
            "                   fit_intercept=True, intercept_scaling=1, l1_ratio=None,\n",
            "                   max_iter=100, multi_class='auto', n_jobs=None, penalty='l2',\n",
            "                   random_state=None, solver='lbfgs', tol=0.0001, verbose=0,\n",
            "                   warm_start=False)\n"
          ],
          "name": "stdout"
        }
      ]
    },
    {
      "cell_type": "code",
      "metadata": {
        "colab": {
          "base_uri": "https://localhost:8080/"
        },
        "id": "5G3t0yMGq27A",
        "outputId": "7f94c4d4-b076-4290-bb93-5433d5f4f32f"
      },
      "source": [
        "prediction_val_lr = grid_lr.predict(X_val)\n",
        "np.sum(prediction_val_lr == y_val.reshape(len(y_val))) / len(y_val) * 100"
      ],
      "execution_count": null,
      "outputs": [
        {
          "output_type": "execute_result",
          "data": {
            "text/plain": [
              "74.24242424242425"
            ]
          },
          "metadata": {
            "tags": []
          },
          "execution_count": 125
        }
      ]
    },
    {
      "cell_type": "code",
      "metadata": {
        "colab": {
          "base_uri": "https://localhost:8080/"
        },
        "id": "aL0RM92I2wXV",
        "outputId": "859e5d04-d19e-48cf-cb29-4334e3e9b0cd"
      },
      "source": [
        "prediction_lr = grid_lr.predict(features_test_array)"
      ],
      "execution_count": null,
      "outputs": [
        {
          "output_type": "execute_result",
          "data": {
            "text/plain": [
              "(4502, array([0, 1, 0, ..., 1, 1, 1]))"
            ]
          },
          "metadata": {
            "tags": []
          },
          "execution_count": 127
        }
      ]
    }
  ]
}